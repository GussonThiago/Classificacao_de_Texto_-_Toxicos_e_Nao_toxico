{
 "cells": [
  {
   "cell_type": "markdown",
   "id": "98894cf9",
   "metadata": {
    "papermill": {
     "duration": 0.0184,
     "end_time": "2024-03-01T19:25:20.626827",
     "exception": false,
     "start_time": "2024-03-01T19:25:20.608427",
     "status": "completed"
    },
    "tags": []
   },
   "source": [
    "# Toxic language on social media: the dark side of online communication"
   ]
  },
  {
   "cell_type": "markdown",
   "id": "9789be33",
   "metadata": {
    "papermill": {
     "duration": 0.017649,
     "end_time": "2024-03-01T19:25:20.662052",
     "exception": false,
     "start_time": "2024-03-01T19:25:20.644403",
     "status": "completed"
    },
    "tags": []
   },
   "source": [
    "Social networks, once seen as tools to connect and unite people, have turned into a minefield of aggressive and offensive words. This toxic language, which manifests itself in various forms, such as cyberbullying, hate speech, and online harassment, has very serious consequences for both victims and society as a whole."
   ]
  },
  {
   "cell_type": "markdown",
   "id": "a000cb1e",
   "metadata": {
    "papermill": {
     "duration": 0.018716,
     "end_time": "2024-03-01T19:25:20.698725",
     "exception": false,
     "start_time": "2024-03-01T19:25:20.680009",
     "status": "completed"
    },
    "tags": []
   },
   "source": [
    "# What is toxic language?"
   ]
  },
  {
   "cell_type": "markdown",
   "id": "f516cc53",
   "metadata": {
    "papermill": {
     "duration": 0.017247,
     "end_time": "2024-03-01T19:25:20.733673",
     "exception": false,
     "start_time": "2024-03-01T19:25:20.716426",
     "status": "completed"
    },
    "tags": []
   },
   "source": [
    "- Cyberbullying: targeted attacks to humiliate, intimidate or embarrass someone;\n",
    "    - [Cyberbullying: conceito, danos, dados no Brasil](https://mundoeducacao.uol.com.br/sociologia/cyberbullying.htm)\n",
    "- Hate speech: discrimination and prejudice messages that incite violence against minority groups;\n",
    "    - [Denúncias de crimes envolvendo discurso de ódio nas redes sociais](https://g1.globo.com/jornal-nacional/noticia/2023/05/01/denuncias-de-crimes-envolvendo-discurso-de-odio-nas-redes-sociais-triplicaram-nos-ultimos-6-anos-aponta-levantamento.ghtml)\n",
    "- Online harassment: persistent stalking and intimidation to pressure and control the victim;\n",
    "    - [O que é assédio virtual?](https://www.migalhas.com.br/depeso/366628/o-que-e-assedio-virtual)\n",
    "- Offensive comments: insults, swearing, and other forms of aggressive language directed toward individuals or groups.\n",
    "     - [Comentários ofensivos nas redes sociais podem caracterizar crime](https://al.rr.leg.br/2020/09/17/comentarios-ofensivos-nas-redes-sociais-podem-caracterizar-crime/)"
   ]
  },
  {
   "cell_type": "markdown",
   "id": "67982887",
   "metadata": {
    "papermill": {
     "duration": 0.017495,
     "end_time": "2024-03-01T19:25:20.768553",
     "exception": false,
     "start_time": "2024-03-01T19:25:20.751058",
     "status": "completed"
    },
    "tags": []
   },
   "source": [
    "## What problems can this type of attitude cause?"
   ]
  },
  {
   "cell_type": "markdown",
   "id": "b82e5f1f",
   "metadata": {
    "papermill": {
     "duration": 0.017464,
     "end_time": "2024-03-01T19:25:20.804342",
     "exception": false,
     "start_time": "2024-03-01T19:25:20.786878",
     "status": "completed"
    },
    "tags": []
   },
   "source": [
    "- Causes suffering: toxic language can generate emotional suffering, anxiety, depression, and even suicidal ideation in victims.\n",
    "- Creates a hostile environment: it makes the online environment negative and toxic, preventing healthy dialogue and the exchange of constructive ideas.\n",
    "- Normalizes violence: trivializes aggressive behavior, which can lead to acts of violence in the real world.\n",
    "- Censorship and self-censorship: silence minority and marginalized voices for fear of attacks and reprisals."
   ]
  },
  {
   "cell_type": "markdown",
   "id": "4f1a1429",
   "metadata": {
    "papermill": {
     "duration": 0.017386,
     "end_time": "2024-03-01T19:25:20.839327",
     "exception": false,
     "start_time": "2024-03-01T19:25:20.821941",
     "status": "completed"
    },
    "tags": []
   },
   "source": [
    "Because of this, we will carry out a detailed analysis of how people behave within social networks and classify whether they are toxic or non-toxic.\n",
    "\n",
    "This notebook is part of the [Competição de Detecção de Linguagem Tóxica em Mídias Sociais para o Português Brasileiro](https://www.kaggle.com/competitions/ml-olympiad-toxic-language-ptbr-detection/overview) from the platform [Kaggle](https://www.kaggle.com/).\n",
    "\n",
    "The dataset used was [Toxic Language (PTBR)](https://www.kaggle.com/competitions/ml-olympiad-toxic-language-ptbr-detection/data)."
   ]
  },
  {
   "cell_type": "code",
   "execution_count": 1,
   "id": "7e052743",
   "metadata": {
    "execution": {
     "iopub.execute_input": "2024-03-01T19:25:20.876229Z",
     "iopub.status.busy": "2024-03-01T19:25:20.875852Z",
     "iopub.status.idle": "2024-03-01T19:25:39.144144Z",
     "shell.execute_reply": "2024-03-01T19:25:39.142898Z"
    },
    "papermill": {
     "duration": 18.290136,
     "end_time": "2024-03-01T19:25:39.146644",
     "exception": false,
     "start_time": "2024-03-01T19:25:20.856508",
     "status": "completed"
    },
    "tags": []
   },
   "outputs": [
    {
     "name": "stdout",
     "output_type": "stream",
     "text": [
      "Collecting evaluate\r\n",
      "  Downloading evaluate-0.4.1-py3-none-any.whl.metadata (9.4 kB)\r\n",
      "Requirement already satisfied: datasets>=2.0.0 in /opt/conda/lib/python3.10/site-packages (from evaluate) (2.1.0)\r\n",
      "Requirement already satisfied: numpy>=1.17 in /opt/conda/lib/python3.10/site-packages (from evaluate) (1.24.4)\r\n",
      "Requirement already satisfied: dill in /opt/conda/lib/python3.10/site-packages (from evaluate) (0.3.7)\r\n",
      "Requirement already satisfied: pandas in /opt/conda/lib/python3.10/site-packages (from evaluate) (2.1.4)\r\n",
      "Requirement already satisfied: requests>=2.19.0 in /opt/conda/lib/python3.10/site-packages (from evaluate) (2.31.0)\r\n",
      "Requirement already satisfied: tqdm>=4.62.1 in /opt/conda/lib/python3.10/site-packages (from evaluate) (4.66.1)\r\n",
      "Requirement already satisfied: xxhash in /opt/conda/lib/python3.10/site-packages (from evaluate) (3.4.1)\r\n",
      "Requirement already satisfied: multiprocess in /opt/conda/lib/python3.10/site-packages (from evaluate) (0.70.15)\r\n",
      "Requirement already satisfied: fsspec>=2021.05.0 in /opt/conda/lib/python3.10/site-packages (from fsspec[http]>=2021.05.0->evaluate) (2023.12.2)\r\n",
      "Requirement already satisfied: huggingface-hub>=0.7.0 in /opt/conda/lib/python3.10/site-packages (from evaluate) (0.20.3)\r\n",
      "Requirement already satisfied: packaging in /opt/conda/lib/python3.10/site-packages (from evaluate) (21.3)\r\n",
      "Requirement already satisfied: responses<0.19 in /opt/conda/lib/python3.10/site-packages (from evaluate) (0.18.0)\r\n",
      "Requirement already satisfied: pyarrow>=5.0.0 in /opt/conda/lib/python3.10/site-packages (from datasets>=2.0.0->evaluate) (11.0.0)\r\n",
      "Requirement already satisfied: aiohttp in /opt/conda/lib/python3.10/site-packages (from datasets>=2.0.0->evaluate) (3.9.1)\r\n",
      "Requirement already satisfied: filelock in /opt/conda/lib/python3.10/site-packages (from huggingface-hub>=0.7.0->evaluate) (3.13.1)\r\n",
      "Requirement already satisfied: pyyaml>=5.1 in /opt/conda/lib/python3.10/site-packages (from huggingface-hub>=0.7.0->evaluate) (6.0.1)\r\n",
      "Requirement already satisfied: typing-extensions>=3.7.4.3 in /opt/conda/lib/python3.10/site-packages (from huggingface-hub>=0.7.0->evaluate) (4.9.0)\r\n",
      "Requirement already satisfied: pyparsing!=3.0.5,>=2.0.2 in /opt/conda/lib/python3.10/site-packages (from packaging->evaluate) (3.1.1)\r\n",
      "Requirement already satisfied: charset-normalizer<4,>=2 in /opt/conda/lib/python3.10/site-packages (from requests>=2.19.0->evaluate) (3.3.2)\r\n",
      "Requirement already satisfied: idna<4,>=2.5 in /opt/conda/lib/python3.10/site-packages (from requests>=2.19.0->evaluate) (3.6)\r\n",
      "Requirement already satisfied: urllib3<3,>=1.21.1 in /opt/conda/lib/python3.10/site-packages (from requests>=2.19.0->evaluate) (1.26.18)\r\n",
      "Requirement already satisfied: certifi>=2017.4.17 in /opt/conda/lib/python3.10/site-packages (from requests>=2.19.0->evaluate) (2023.11.17)\r\n",
      "Requirement already satisfied: python-dateutil>=2.8.2 in /opt/conda/lib/python3.10/site-packages (from pandas->evaluate) (2.8.2)\r\n",
      "Requirement already satisfied: pytz>=2020.1 in /opt/conda/lib/python3.10/site-packages (from pandas->evaluate) (2023.3.post1)\r\n",
      "Requirement already satisfied: tzdata>=2022.1 in /opt/conda/lib/python3.10/site-packages (from pandas->evaluate) (2023.4)\r\n",
      "Requirement already satisfied: attrs>=17.3.0 in /opt/conda/lib/python3.10/site-packages (from aiohttp->datasets>=2.0.0->evaluate) (23.2.0)\r\n",
      "Requirement already satisfied: multidict<7.0,>=4.5 in /opt/conda/lib/python3.10/site-packages (from aiohttp->datasets>=2.0.0->evaluate) (6.0.4)\r\n",
      "Requirement already satisfied: yarl<2.0,>=1.0 in /opt/conda/lib/python3.10/site-packages (from aiohttp->datasets>=2.0.0->evaluate) (1.9.3)\r\n",
      "Requirement already satisfied: frozenlist>=1.1.1 in /opt/conda/lib/python3.10/site-packages (from aiohttp->datasets>=2.0.0->evaluate) (1.4.1)\r\n",
      "Requirement already satisfied: aiosignal>=1.1.2 in /opt/conda/lib/python3.10/site-packages (from aiohttp->datasets>=2.0.0->evaluate) (1.3.1)\r\n",
      "Requirement already satisfied: async-timeout<5.0,>=4.0 in /opt/conda/lib/python3.10/site-packages (from aiohttp->datasets>=2.0.0->evaluate) (4.0.3)\r\n",
      "Requirement already satisfied: six>=1.5 in /opt/conda/lib/python3.10/site-packages (from python-dateutil>=2.8.2->pandas->evaluate) (1.16.0)\r\n",
      "Downloading evaluate-0.4.1-py3-none-any.whl (84 kB)\r\n",
      "\u001b[2K   \u001b[90m━━━━━━━━━━━━━━━━━━━━━━━━━━━━━━━━━━━━━━━━\u001b[0m \u001b[32m84.1/84.1 kB\u001b[0m \u001b[31m2.5 MB/s\u001b[0m eta \u001b[36m0:00:00\u001b[0m\r\n",
      "\u001b[?25hInstalling collected packages: evaluate\r\n",
      "Successfully installed evaluate-0.4.1\r\n",
      "Found existing installation: wandb 0.16.2\r\n",
      "Uninstalling wandb-0.16.2:\r\n",
      "  Successfully uninstalled wandb-0.16.2\r\n"
     ]
    }
   ],
   "source": [
    "# Configuring the environment:\n",
    "\n",
    "!pip3 install evaluate\n",
    "!pip3 uninstall wandb -y"
   ]
  },
  {
   "cell_type": "code",
   "execution_count": 2,
   "id": "c0d1168d",
   "metadata": {
    "_cell_guid": "b1076dfc-b9ad-4769-8c92-a6c4dae69d19",
    "_uuid": "8f2839f25d086af736a60e9eeb907d3b93b6e0e5",
    "execution": {
     "iopub.execute_input": "2024-03-01T19:25:39.187815Z",
     "iopub.status.busy": "2024-03-01T19:25:39.187427Z",
     "iopub.status.idle": "2024-03-01T19:26:03.166959Z",
     "shell.execute_reply": "2024-03-01T19:26:03.166002Z"
    },
    "papermill": {
     "duration": 24.002774,
     "end_time": "2024-03-01T19:26:03.169308",
     "exception": false,
     "start_time": "2024-03-01T19:25:39.166534",
     "status": "completed"
    },
    "tags": []
   },
   "outputs": [
    {
     "name": "stderr",
     "output_type": "stream",
     "text": [
      "2024-03-01 19:25:50.106419: E external/local_xla/xla/stream_executor/cuda/cuda_dnn.cc:9261] Unable to register cuDNN factory: Attempting to register factory for plugin cuDNN when one has already been registered\n",
      "2024-03-01 19:25:50.106550: E external/local_xla/xla/stream_executor/cuda/cuda_fft.cc:607] Unable to register cuFFT factory: Attempting to register factory for plugin cuFFT when one has already been registered\n",
      "2024-03-01 19:25:50.247028: E external/local_xla/xla/stream_executor/cuda/cuda_blas.cc:1515] Unable to register cuBLAS factory: Attempting to register factory for plugin cuBLAS when one has already been registered\n"
     ]
    }
   ],
   "source": [
    "# Libraries used:\n",
    "\n",
    "import os\n",
    "import torch\n",
    "import pandas as pd\n",
    "import numpy as np\n",
    "import plotly.express as px\n",
    "import seaborn as sns\n",
    "import re\n",
    "import matplotlib.pyplot as plt\n",
    "import evaluate\n",
    "import torch.nn as nn\n",
    "\n",
    "from sklearn.model_selection import train_test_split\n",
    "from sklearn.metrics import accuracy_score, precision_score, recall_score, f1_score\n",
    "from datasets import DatasetDict, Dataset\n",
    "from transformers import (AutoTokenizer, \n",
    "                          AutoModelForSequenceClassification, \n",
    "                          TrainingArguments, \n",
    "                          Trainer, \n",
    "                          DataCollatorWithPadding, \n",
    "                          TextClassificationPipeline, \n",
    "                          pipeline, \n",
    "                          EvalPrediction)"
   ]
  },
  {
   "cell_type": "code",
   "execution_count": 3,
   "id": "960120f3",
   "metadata": {
    "execution": {
     "iopub.execute_input": "2024-03-01T19:26:03.209523Z",
     "iopub.status.busy": "2024-03-01T19:26:03.208886Z",
     "iopub.status.idle": "2024-03-01T19:26:03.214046Z",
     "shell.execute_reply": "2024-03-01T19:26:03.213341Z"
    },
    "papermill": {
     "duration": 0.026702,
     "end_time": "2024-03-01T19:26:03.216071",
     "exception": false,
     "start_time": "2024-03-01T19:26:03.189369",
     "status": "completed"
    },
    "tags": []
   },
   "outputs": [],
   "source": [
    "# Configuring Pandas:\n",
    "\n",
    "pd.set_option('display.max_rows', None)\n",
    "pd.set_option('display.max_columns', None)\n",
    "pd.set_option('display.float_format', lambda x:'%.2f' % x)"
   ]
  },
  {
   "cell_type": "code",
   "execution_count": 4,
   "id": "93748b8b",
   "metadata": {
    "execution": {
     "iopub.execute_input": "2024-03-01T19:26:03.254288Z",
     "iopub.status.busy": "2024-03-01T19:26:03.253993Z",
     "iopub.status.idle": "2024-03-01T19:26:03.258599Z",
     "shell.execute_reply": "2024-03-01T19:26:03.257730Z"
    },
    "papermill": {
     "duration": 0.026317,
     "end_time": "2024-03-01T19:26:03.260923",
     "exception": false,
     "start_time": "2024-03-01T19:26:03.234606",
     "status": "completed"
    },
    "tags": []
   },
   "outputs": [
    {
     "name": "stdout",
     "output_type": "stream",
     "text": [
      "Dynamic memory: true\n"
     ]
    }
   ],
   "source": [
    "# Configuring the GPU for dynamic memory:\n",
    "\n",
    "memoria_dinamica = os.environ['TF_FORCE_GPU_ALLOW_GROWTH'] = 'true'\n",
    "print(f\"Dynamic memory: {memoria_dinamica}\")"
   ]
  },
  {
   "cell_type": "code",
   "execution_count": 5,
   "id": "0cbdf6bb",
   "metadata": {
    "execution": {
     "iopub.execute_input": "2024-03-01T19:26:03.303038Z",
     "iopub.status.busy": "2024-03-01T19:26:03.302722Z",
     "iopub.status.idle": "2024-03-01T19:26:03.367842Z",
     "shell.execute_reply": "2024-03-01T19:26:03.366889Z"
    },
    "papermill": {
     "duration": 0.08947,
     "end_time": "2024-03-01T19:26:03.370311",
     "exception": false,
     "start_time": "2024-03-01T19:26:03.280841",
     "status": "completed"
    },
    "tags": []
   },
   "outputs": [
    {
     "name": "stdout",
     "output_type": "stream",
     "text": [
      "GPU: 0 \n",
      "Name: Tesla P100-PCIE-16GB \n",
      "Index: _CudaDeviceProperties(name='Tesla P100-PCIE-16GB', major=6, minor=0, total_memory=16276MB, multi_processor_count=56)\n",
      "Device: cuda\n"
     ]
    }
   ],
   "source": [
    "# Checking active GPUs by Torch:\n",
    "\n",
    "num_gpus = torch.cuda.device_count()-1\n",
    "gpu_name = torch.cuda.get_device_name(0)\n",
    "gpu_index = torch.cuda.get_device_properties(0)\n",
    "print(f\"GPU: {num_gpus} \\n\"\n",
    "      f\"Name: {gpu_name} \\n\"\n",
    "      f\"Index: {gpu_index}\")\n",
    "\n",
    "# Definir o dispositivo (GPU ou CPU)\n",
    "device = torch.device('cuda' if torch.cuda.is_available() else 'cpu')\n",
    "print(f\"Device: {device}\")"
   ]
  },
  {
   "cell_type": "code",
   "execution_count": 6,
   "id": "dbdc0d24",
   "metadata": {
    "execution": {
     "iopub.execute_input": "2024-03-01T19:26:03.410016Z",
     "iopub.status.busy": "2024-03-01T19:26:03.409760Z",
     "iopub.status.idle": "2024-03-01T19:26:03.413528Z",
     "shell.execute_reply": "2024-03-01T19:26:03.412705Z"
    },
    "papermill": {
     "duration": 0.025658,
     "end_time": "2024-03-01T19:26:03.415491",
     "exception": false,
     "start_time": "2024-03-01T19:26:03.389833",
     "status": "completed"
    },
    "tags": []
   },
   "outputs": [],
   "source": [
    "# Configuring WANDB:\n",
    "\n",
    "os.environ[\"WANDB_SILENT\"] = \"true\"\n",
    "#os.environ['WANDB_MODE'] = 'dryrun'"
   ]
  },
  {
   "cell_type": "markdown",
   "id": "d680b933",
   "metadata": {
    "papermill": {
     "duration": 0.018735,
     "end_time": "2024-03-01T19:26:03.453112",
     "exception": false,
     "start_time": "2024-03-01T19:26:03.434377",
     "status": "completed"
    },
    "tags": []
   },
   "source": [
    "# Initial data analysis"
   ]
  },
  {
   "cell_type": "code",
   "execution_count": 7,
   "id": "e9562512",
   "metadata": {
    "execution": {
     "iopub.execute_input": "2024-03-01T19:26:03.493452Z",
     "iopub.status.busy": "2024-03-01T19:26:03.492891Z",
     "iopub.status.idle": "2024-03-01T19:26:03.577223Z",
     "shell.execute_reply": "2024-03-01T19:26:03.576386Z"
    },
    "papermill": {
     "duration": 0.107012,
     "end_time": "2024-03-01T19:26:03.579608",
     "exception": false,
     "start_time": "2024-03-01T19:26:03.472596",
     "status": "completed"
    },
    "tags": []
   },
   "outputs": [],
   "source": [
    "# Importing the Dataframe used:\n",
    "\n",
    "df_toxic = pd.read_csv('/kaggle/input/ml-olympiad-toxic-language-ptbr-detection/train (2).csv')\n",
    "df_toxic_test = pd.read_csv('/kaggle/input/ml-olympiad-toxic-language-ptbr-detection/test (4).csv')"
   ]
  },
  {
   "cell_type": "code",
   "execution_count": 8,
   "id": "156eaa8c",
   "metadata": {
    "execution": {
     "iopub.execute_input": "2024-03-01T19:26:03.618714Z",
     "iopub.status.busy": "2024-03-01T19:26:03.618432Z",
     "iopub.status.idle": "2024-03-01T19:26:03.633451Z",
     "shell.execute_reply": "2024-03-01T19:26:03.632577Z"
    },
    "papermill": {
     "duration": 0.03699,
     "end_time": "2024-03-01T19:26:03.635639",
     "exception": false,
     "start_time": "2024-03-01T19:26:03.598649",
     "status": "completed"
    },
    "tags": []
   },
   "outputs": [
    {
     "data": {
      "text/html": [
       "<div>\n",
       "<style scoped>\n",
       "    .dataframe tbody tr th:only-of-type {\n",
       "        vertical-align: middle;\n",
       "    }\n",
       "\n",
       "    .dataframe tbody tr th {\n",
       "        vertical-align: top;\n",
       "    }\n",
       "\n",
       "    .dataframe thead th {\n",
       "        text-align: right;\n",
       "    }\n",
       "</style>\n",
       "<table border=\"1\" class=\"dataframe\">\n",
       "  <thead>\n",
       "    <tr style=\"text-align: right;\">\n",
       "      <th></th>\n",
       "      <th>text</th>\n",
       "      <th>label</th>\n",
       "    </tr>\n",
       "  </thead>\n",
       "  <tbody>\n",
       "    <tr>\n",
       "      <th>0</th>\n",
       "      <td>rt @user olha quem chegouuuuu, nossos queridin...</td>\n",
       "      <td>0</td>\n",
       "    </tr>\n",
       "    <tr>\n",
       "      <th>1</th>\n",
       "      <td>veio umas teorias muito loucas na minha cabeça...</td>\n",
       "      <td>1</td>\n",
       "    </tr>\n",
       "    <tr>\n",
       "      <th>2</th>\n",
       "      <td>@user @user 😂😂😂😂mais nao tinha falado ontem qu...</td>\n",
       "      <td>0</td>\n",
       "    </tr>\n",
       "    <tr>\n",
       "      <th>3</th>\n",
       "      <td>rt @user quer ser filha da puta logo comigo qu...</td>\n",
       "      <td>1</td>\n",
       "    </tr>\n",
       "    <tr>\n",
       "      <th>4</th>\n",
       "      <td>vai besta 😂😂😂😂 casquei com a ultima foto</td>\n",
       "      <td>1</td>\n",
       "    </tr>\n",
       "    <tr>\n",
       "      <th>5</th>\n",
       "      <td>rt @user @user não sei oq é mais chocante, um ...</td>\n",
       "      <td>1</td>\n",
       "    </tr>\n",
       "    <tr>\n",
       "      <th>6</th>\n",
       "      <td>@user pois é mano que coisa chata da porra</td>\n",
       "      <td>0</td>\n",
       "    </tr>\n",
       "    <tr>\n",
       "      <th>7</th>\n",
       "      <td>rt @user eu odeio sentir ódio de alguém pq eu ...</td>\n",
       "      <td>1</td>\n",
       "    </tr>\n",
       "    <tr>\n",
       "      <th>8</th>\n",
       "      <td>se eu ganhar raspo minha cabeça\\n https://t.co...</td>\n",
       "      <td>0</td>\n",
       "    </tr>\n",
       "    <tr>\n",
       "      <th>9</th>\n",
       "      <td>rt @user @user vlw mano tmj 鉂ゐ煉煆�</td>\n",
       "      <td>0</td>\n",
       "    </tr>\n",
       "  </tbody>\n",
       "</table>\n",
       "</div>"
      ],
      "text/plain": [
       "                                                text  label\n",
       "0  rt @user olha quem chegouuuuu, nossos queridin...      0\n",
       "1  veio umas teorias muito loucas na minha cabeça...      1\n",
       "2  @user @user 😂😂😂😂mais nao tinha falado ontem qu...      0\n",
       "3  rt @user quer ser filha da puta logo comigo qu...      1\n",
       "4           vai besta 😂😂😂😂 casquei com a ultima foto      1\n",
       "5  rt @user @user não sei oq é mais chocante, um ...      1\n",
       "6         @user pois é mano que coisa chata da porra      0\n",
       "7  rt @user eu odeio sentir ódio de alguém pq eu ...      1\n",
       "8  se eu ganhar raspo minha cabeça\\n https://t.co...      0\n",
       "9                 rt @user @user vlw mano tmj 鉂ゐ煉煆�      0"
      ]
     },
     "execution_count": 8,
     "metadata": {},
     "output_type": "execute_result"
    }
   ],
   "source": [
    "# Viewing the dataframe:\n",
    "\n",
    "df_toxic.head(10)"
   ]
  },
  {
   "cell_type": "code",
   "execution_count": 9,
   "id": "a1f2dc01",
   "metadata": {
    "execution": {
     "iopub.execute_input": "2024-03-01T19:26:03.677385Z",
     "iopub.status.busy": "2024-03-01T19:26:03.677034Z",
     "iopub.status.idle": "2024-03-01T19:26:03.691758Z",
     "shell.execute_reply": "2024-03-01T19:26:03.690922Z"
    },
    "papermill": {
     "duration": 0.03709,
     "end_time": "2024-03-01T19:26:03.693679",
     "exception": false,
     "start_time": "2024-03-01T19:26:03.656589",
     "status": "completed"
    },
    "tags": []
   },
   "outputs": [
    {
     "data": {
      "text/plain": [
       "label\n",
       "0    9425\n",
       "1    7375\n",
       "Name: count, dtype: int64"
      ]
     },
     "execution_count": 9,
     "metadata": {},
     "output_type": "execute_result"
    }
   ],
   "source": [
    "# Checking the total for each label:\n",
    "\n",
    "df_toxic['label'].value_counts()"
   ]
  },
  {
   "cell_type": "code",
   "execution_count": 10,
   "id": "4d2bda38",
   "metadata": {
    "execution": {
     "iopub.execute_input": "2024-03-01T19:26:03.735579Z",
     "iopub.status.busy": "2024-03-01T19:26:03.735272Z",
     "iopub.status.idle": "2024-03-01T19:26:03.909294Z",
     "shell.execute_reply": "2024-03-01T19:26:03.908430Z"
    },
    "papermill": {
     "duration": 0.198197,
     "end_time": "2024-03-01T19:26:03.911171",
     "exception": false,
     "start_time": "2024-03-01T19:26:03.712974",
     "status": "completed"
    },
    "tags": []
   },
   "outputs": [
    {
     "data": {
      "text/plain": [
       "<Axes: xlabel='count', ylabel='label'>"
      ]
     },
     "execution_count": 10,
     "metadata": {},
     "output_type": "execute_result"
    },
    {
     "data": {
      "image/png": "[encoded data removed]",
      "text/plain": [
       "<Figure size 640x480 with 1 Axes>"
      ]
     },
     "metadata": {},
     "output_type": "display_data"
    }
   ],
   "source": [
    "# Graphically analyzing the labels:\n",
    "\n",
    "sns.countplot(data=df_toxic, y='label')"
   ]
  },
  {
   "cell_type": "code",
   "execution_count": 11,
   "id": "52946c9e",
   "metadata": {
    "execution": {
     "iopub.execute_input": "2024-03-01T19:26:03.951947Z",
     "iopub.status.busy": "2024-03-01T19:26:03.951662Z",
     "iopub.status.idle": "2024-03-01T19:26:03.959370Z",
     "shell.execute_reply": "2024-03-01T19:26:03.958521Z"
    },
    "papermill": {
     "duration": 0.030048,
     "end_time": "2024-03-01T19:26:03.961312",
     "exception": false,
     "start_time": "2024-03-01T19:26:03.931264",
     "status": "completed"
    },
    "tags": []
   },
   "outputs": [],
   "source": [
    "# Replacing categorical and ordinal variables:\n",
    "\n",
    "df_toxic['nao_toxico'] = df_toxic['label'].map({0:1, 1:0})\n",
    "df_toxic['toxico'] = df_toxic['label'].map({0:0, 1:1})"
   ]
  },
  {
   "cell_type": "code",
   "execution_count": 12,
   "id": "8aa114c0",
   "metadata": {
    "execution": {
     "iopub.execute_input": "2024-03-01T19:26:04.005606Z",
     "iopub.status.busy": "2024-03-01T19:26:04.005311Z",
     "iopub.status.idle": "2024-03-01T19:26:04.017077Z",
     "shell.execute_reply": "2024-03-01T19:26:04.016066Z"
    },
    "papermill": {
     "duration": 0.036468,
     "end_time": "2024-03-01T19:26:04.019556",
     "exception": false,
     "start_time": "2024-03-01T19:26:03.983088",
     "status": "completed"
    },
    "tags": []
   },
   "outputs": [
    {
     "data": {
      "text/html": [
       "<div>\n",
       "<style scoped>\n",
       "    .dataframe tbody tr th:only-of-type {\n",
       "        vertical-align: middle;\n",
       "    }\n",
       "\n",
       "    .dataframe tbody tr th {\n",
       "        vertical-align: top;\n",
       "    }\n",
       "\n",
       "    .dataframe thead th {\n",
       "        text-align: right;\n",
       "    }\n",
       "</style>\n",
       "<table border=\"1\" class=\"dataframe\">\n",
       "  <thead>\n",
       "    <tr style=\"text-align: right;\">\n",
       "      <th></th>\n",
       "      <th>text</th>\n",
       "      <th>label</th>\n",
       "      <th>nao_toxico</th>\n",
       "      <th>toxico</th>\n",
       "    </tr>\n",
       "  </thead>\n",
       "  <tbody>\n",
       "    <tr>\n",
       "      <th>0</th>\n",
       "      <td>rt @user olha quem chegouuuuu, nossos queridin...</td>\n",
       "      <td>0</td>\n",
       "      <td>1</td>\n",
       "      <td>0</td>\n",
       "    </tr>\n",
       "    <tr>\n",
       "      <th>1</th>\n",
       "      <td>veio umas teorias muito loucas na minha cabeça...</td>\n",
       "      <td>1</td>\n",
       "      <td>0</td>\n",
       "      <td>1</td>\n",
       "    </tr>\n",
       "    <tr>\n",
       "      <th>2</th>\n",
       "      <td>@user @user 😂😂😂😂mais nao tinha falado ontem qu...</td>\n",
       "      <td>0</td>\n",
       "      <td>1</td>\n",
       "      <td>0</td>\n",
       "    </tr>\n",
       "    <tr>\n",
       "      <th>3</th>\n",
       "      <td>rt @user quer ser filha da puta logo comigo qu...</td>\n",
       "      <td>1</td>\n",
       "      <td>0</td>\n",
       "      <td>1</td>\n",
       "    </tr>\n",
       "    <tr>\n",
       "      <th>4</th>\n",
       "      <td>vai besta 😂😂😂😂 casquei com a ultima foto</td>\n",
       "      <td>1</td>\n",
       "      <td>0</td>\n",
       "      <td>1</td>\n",
       "    </tr>\n",
       "    <tr>\n",
       "      <th>5</th>\n",
       "      <td>rt @user @user não sei oq é mais chocante, um ...</td>\n",
       "      <td>1</td>\n",
       "      <td>0</td>\n",
       "      <td>1</td>\n",
       "    </tr>\n",
       "    <tr>\n",
       "      <th>6</th>\n",
       "      <td>@user pois é mano que coisa chata da porra</td>\n",
       "      <td>0</td>\n",
       "      <td>1</td>\n",
       "      <td>0</td>\n",
       "    </tr>\n",
       "    <tr>\n",
       "      <th>7</th>\n",
       "      <td>rt @user eu odeio sentir ódio de alguém pq eu ...</td>\n",
       "      <td>1</td>\n",
       "      <td>0</td>\n",
       "      <td>1</td>\n",
       "    </tr>\n",
       "    <tr>\n",
       "      <th>8</th>\n",
       "      <td>se eu ganhar raspo minha cabeça\\n https://t.co...</td>\n",
       "      <td>0</td>\n",
       "      <td>1</td>\n",
       "      <td>0</td>\n",
       "    </tr>\n",
       "    <tr>\n",
       "      <th>9</th>\n",
       "      <td>rt @user @user vlw mano tmj 鉂ゐ煉煆�</td>\n",
       "      <td>0</td>\n",
       "      <td>1</td>\n",
       "      <td>0</td>\n",
       "    </tr>\n",
       "  </tbody>\n",
       "</table>\n",
       "</div>"
      ],
      "text/plain": [
       "                                                text  label  nao_toxico  \\\n",
       "0  rt @user olha quem chegouuuuu, nossos queridin...      0           1   \n",
       "1  veio umas teorias muito loucas na minha cabeça...      1           0   \n",
       "2  @user @user 😂😂😂😂mais nao tinha falado ontem qu...      0           1   \n",
       "3  rt @user quer ser filha da puta logo comigo qu...      1           0   \n",
       "4           vai besta 😂😂😂😂 casquei com a ultima foto      1           0   \n",
       "5  rt @user @user não sei oq é mais chocante, um ...      1           0   \n",
       "6         @user pois é mano que coisa chata da porra      0           1   \n",
       "7  rt @user eu odeio sentir ódio de alguém pq eu ...      1           0   \n",
       "8  se eu ganhar raspo minha cabeça\\n https://t.co...      0           1   \n",
       "9                 rt @user @user vlw mano tmj 鉂ゐ煉煆�      0           1   \n",
       "\n",
       "   toxico  \n",
       "0       0  \n",
       "1       1  \n",
       "2       0  \n",
       "3       1  \n",
       "4       1  \n",
       "5       1  \n",
       "6       0  \n",
       "7       1  \n",
       "8       0  \n",
       "9       0  "
      ]
     },
     "execution_count": 12,
     "metadata": {},
     "output_type": "execute_result"
    }
   ],
   "source": [
    "# Viewing the dataframe:\n",
    "\n",
    "df_toxic.head(10)"
   ]
  },
  {
   "cell_type": "markdown",
   "id": "afc221e7",
   "metadata": {
    "papermill": {
     "duration": 0.019672,
     "end_time": "2024-03-01T19:26:04.061530",
     "exception": false,
     "start_time": "2024-03-01T19:26:04.041858",
     "status": "completed"
    },
    "tags": []
   },
   "source": [
    "## Text processing"
   ]
  },
  {
   "cell_type": "code",
   "execution_count": 13,
   "id": "2589df05",
   "metadata": {
    "execution": {
     "iopub.execute_input": "2024-03-01T19:26:04.144828Z",
     "iopub.status.busy": "2024-03-01T19:26:04.144464Z",
     "iopub.status.idle": "2024-03-01T19:26:04.151968Z",
     "shell.execute_reply": "2024-03-01T19:26:04.151142Z"
    },
    "papermill": {
     "duration": 0.032064,
     "end_time": "2024-03-01T19:26:04.153936",
     "exception": false,
     "start_time": "2024-03-01T19:26:04.121872",
     "status": "completed"
    },
    "tags": []
   },
   "outputs": [],
   "source": [
    "# Text cleaning function:\n",
    "\n",
    "def limpeza(sentence):\n",
    "    \n",
    "    sentence = re.sub(r'(  +.*?)', ' ', sentence) # Replacing multiple spaces\n",
    "    \n",
    "    sentence = re.sub('http\\S+|www.\\S+', '', sentence) # Removal Links\n",
    "    sentence = re.sub(r'\\S*@\\S*',\"\", sentence) # Remove username from email\n",
    "    \n",
    "    sentence = re.sub(r'rt ', '', sentence)\n",
    "       \n",
    "    sentence = sentence.lower() # Removing all capitalized words\n",
    "    sentence = re.sub(r'\\n', ' ', sentence) # Removing line breaks\n",
    "    sentence = re.sub(r'\\t', ' ', sentence) # Removing tab\n",
    "    sentence = re.sub(r'[{},._!?;\\(\\):><@\\#-$+=%\\\"\\'&*+^|\\[\\]]', ' ', sentence) # Removing special characters\n",
    "    sentence = re.sub(r'((\\d+/\\d+/\\d+)|(\\d+/\\d+))', 'data', sentence) # Removing dates\n",
    "    sentence = re.sub(r'([0-9])', ' ', sentence) # Removing numbers\n",
    "    sentence = re.sub(r'(  +.*?)', ' ', sentence) # Replacing multiple spaces\n",
    "    sentence = sentence.strip() # Removing leading and trailing spaces\n",
    "    \n",
    "    return sentence"
   ]
  },
  {
   "cell_type": "code",
   "execution_count": 14,
   "id": "7f0cf8e1",
   "metadata": {
    "execution": {
     "iopub.execute_input": "2024-03-01T19:26:04.196155Z",
     "iopub.status.busy": "2024-03-01T19:26:04.195844Z",
     "iopub.status.idle": "2024-03-01T19:26:05.145675Z",
     "shell.execute_reply": "2024-03-01T19:26:05.144775Z"
    },
    "papermill": {
     "duration": 0.973983,
     "end_time": "2024-03-01T19:26:05.148012",
     "exception": false,
     "start_time": "2024-03-01T19:26:04.174029",
     "status": "completed"
    },
    "tags": []
   },
   "outputs": [],
   "source": [
    "# Performing text cleaning:\n",
    "\n",
    "df_toxic['text_limpo'] = df_toxic['text'].apply(lambda tr: limpeza(tr))\n",
    "df_toxic_test['text_limpo'] = df_toxic_test['text'].apply(lambda tr: limpeza(tr))"
   ]
  },
  {
   "cell_type": "code",
   "execution_count": 15,
   "id": "fd8716f3",
   "metadata": {
    "execution": {
     "iopub.execute_input": "2024-03-01T19:26:05.191636Z",
     "iopub.status.busy": "2024-03-01T19:26:05.191310Z",
     "iopub.status.idle": "2024-03-01T19:26:05.203012Z",
     "shell.execute_reply": "2024-03-01T19:26:05.201938Z"
    },
    "papermill": {
     "duration": 0.037253,
     "end_time": "2024-03-01T19:26:05.205780",
     "exception": false,
     "start_time": "2024-03-01T19:26:05.168527",
     "status": "completed"
    },
    "tags": []
   },
   "outputs": [
    {
     "data": {
      "text/html": [
       "<div>\n",
       "<style scoped>\n",
       "    .dataframe tbody tr th:only-of-type {\n",
       "        vertical-align: middle;\n",
       "    }\n",
       "\n",
       "    .dataframe tbody tr th {\n",
       "        vertical-align: top;\n",
       "    }\n",
       "\n",
       "    .dataframe thead th {\n",
       "        text-align: right;\n",
       "    }\n",
       "</style>\n",
       "<table border=\"1\" class=\"dataframe\">\n",
       "  <thead>\n",
       "    <tr style=\"text-align: right;\">\n",
       "      <th></th>\n",
       "      <th>text</th>\n",
       "      <th>label</th>\n",
       "      <th>nao_toxico</th>\n",
       "      <th>toxico</th>\n",
       "      <th>text_limpo</th>\n",
       "    </tr>\n",
       "  </thead>\n",
       "  <tbody>\n",
       "    <tr>\n",
       "      <th>0</th>\n",
       "      <td>rt @user olha quem chegouuuuu, nossos queridin...</td>\n",
       "      <td>0</td>\n",
       "      <td>1</td>\n",
       "      <td>0</td>\n",
       "      <td>olha quem chegouuuuu nossos queridinhos vem na...</td>\n",
       "    </tr>\n",
       "    <tr>\n",
       "      <th>1</th>\n",
       "      <td>veio umas teorias muito loucas na minha cabeça...</td>\n",
       "      <td>1</td>\n",
       "      <td>0</td>\n",
       "      <td>1</td>\n",
       "      <td>veio umas teorias muito loucas na minha cabeça...</td>\n",
       "    </tr>\n",
       "    <tr>\n",
       "      <th>2</th>\n",
       "      <td>@user @user 😂😂😂😂mais nao tinha falado ontem qu...</td>\n",
       "      <td>0</td>\n",
       "      <td>1</td>\n",
       "      <td>0</td>\n",
       "      <td>😂😂😂😂mais nao tinha falado ontem que não ia ser...</td>\n",
       "    </tr>\n",
       "    <tr>\n",
       "      <th>3</th>\n",
       "      <td>rt @user quer ser filha da puta logo comigo qu...</td>\n",
       "      <td>1</td>\n",
       "      <td>0</td>\n",
       "      <td>1</td>\n",
       "      <td>quer ser filha da puta logo comigo que sou x p...</td>\n",
       "    </tr>\n",
       "    <tr>\n",
       "      <th>4</th>\n",
       "      <td>vai besta 😂😂😂😂 casquei com a ultima foto</td>\n",
       "      <td>1</td>\n",
       "      <td>0</td>\n",
       "      <td>1</td>\n",
       "      <td>vai besta 😂😂😂😂 casquei com a ultima foto</td>\n",
       "    </tr>\n",
       "  </tbody>\n",
       "</table>\n",
       "</div>"
      ],
      "text/plain": [
       "                                                text  label  nao_toxico  \\\n",
       "0  rt @user olha quem chegouuuuu, nossos queridin...      0           1   \n",
       "1  veio umas teorias muito loucas na minha cabeça...      1           0   \n",
       "2  @user @user 😂😂😂😂mais nao tinha falado ontem qu...      0           1   \n",
       "3  rt @user quer ser filha da puta logo comigo qu...      1           0   \n",
       "4           vai besta 😂😂😂😂 casquei com a ultima foto      1           0   \n",
       "\n",
       "   toxico                                         text_limpo  \n",
       "0       0  olha quem chegouuuuu nossos queridinhos vem na...  \n",
       "1       1  veio umas teorias muito loucas na minha cabeça...  \n",
       "2       0  😂😂😂😂mais nao tinha falado ontem que não ia ser...  \n",
       "3       1  quer ser filha da puta logo comigo que sou x p...  \n",
       "4       1           vai besta 😂😂😂😂 casquei com a ultima foto  "
      ]
     },
     "execution_count": 15,
     "metadata": {},
     "output_type": "execute_result"
    }
   ],
   "source": [
    "# Viewing the dataframe:\n",
    "\n",
    "df_toxic.head()"
   ]
  },
  {
   "cell_type": "markdown",
   "id": "4941b7f0",
   "metadata": {
    "papermill": {
     "duration": 0.021815,
     "end_time": "2024-03-01T19:26:05.251588",
     "exception": false,
     "start_time": "2024-03-01T19:26:05.229773",
     "status": "completed"
    },
    "tags": []
   },
   "source": [
    "## Separando as bases para treinamento e validação"
   ]
  },
  {
   "cell_type": "code",
   "execution_count": 16,
   "id": "0e2a8439",
   "metadata": {
    "execution": {
     "iopub.execute_input": "2024-03-01T19:26:05.295424Z",
     "iopub.status.busy": "2024-03-01T19:26:05.295080Z",
     "iopub.status.idle": "2024-03-01T19:26:05.312776Z",
     "shell.execute_reply": "2024-03-01T19:26:05.312116Z"
    },
    "papermill": {
     "duration": 0.041171,
     "end_time": "2024-03-01T19:26:05.314910",
     "exception": false,
     "start_time": "2024-03-01T19:26:05.273739",
     "status": "completed"
    },
    "tags": []
   },
   "outputs": [],
   "source": [
    "# Separating the training and validation bases:\n",
    "\n",
    "train = 0.70\n",
    "validation = 0.30\n",
    "\n",
    "val_tre = (1 - train)\n",
    "\n",
    "df_train, df_val = train_test_split(df_toxic, \n",
    "                                    test_size=val_tre,\n",
    "                                    stratify=df_toxic['label'], \n",
    "                                    random_state=42)"
   ]
  },
  {
   "cell_type": "code",
   "execution_count": 17,
   "id": "280ffc17",
   "metadata": {
    "execution": {
     "iopub.execute_input": "2024-03-01T19:26:05.357703Z",
     "iopub.status.busy": "2024-03-01T19:26:05.356990Z",
     "iopub.status.idle": "2024-03-01T19:26:05.362862Z",
     "shell.execute_reply": "2024-03-01T19:26:05.361963Z"
    },
    "papermill": {
     "duration": 0.029861,
     "end_time": "2024-03-01T19:26:05.365024",
     "exception": false,
     "start_time": "2024-03-01T19:26:05.335163",
     "status": "completed"
    },
    "tags": []
   },
   "outputs": [
    {
     "data": {
      "text/plain": [
       "((11759, 5), (5041, 5))"
      ]
     },
     "execution_count": 17,
     "metadata": {},
     "output_type": "execute_result"
    }
   ],
   "source": [
    "# Viewing dataframe numbers:\n",
    "\n",
    "df_train.shape, df_val.shape"
   ]
  },
  {
   "cell_type": "markdown",
   "id": "78e294c4",
   "metadata": {
    "papermill": {
     "duration": 0.020048,
     "end_time": "2024-03-01T19:26:05.406317",
     "exception": false,
     "start_time": "2024-03-01T19:26:05.386269",
     "status": "completed"
    },
    "tags": []
   },
   "source": [
    "## Text size by classes in the training Dataframe"
   ]
  },
  {
   "cell_type": "code",
   "execution_count": 18,
   "id": "7c3fd518",
   "metadata": {
    "execution": {
     "iopub.execute_input": "2024-03-01T19:26:05.448377Z",
     "iopub.status.busy": "2024-03-01T19:26:05.448084Z",
     "iopub.status.idle": "2024-03-01T19:26:05.497683Z",
     "shell.execute_reply": "2024-03-01T19:26:05.496789Z"
    },
    "papermill": {
     "duration": 0.072771,
     "end_time": "2024-03-01T19:26:05.499801",
     "exception": false,
     "start_time": "2024-03-01T19:26:05.427030",
     "status": "completed"
    },
    "tags": []
   },
   "outputs": [],
   "source": [
    "# Performing the word count:\n",
    "\n",
    "df_number = df_train.copy()\n",
    "df_number['tamanho_text'] = df_number['text'].str.split().apply(len)"
   ]
  },
  {
   "cell_type": "code",
   "execution_count": 19,
   "id": "a72071a5",
   "metadata": {
    "execution": {
     "iopub.execute_input": "2024-03-01T19:26:05.542439Z",
     "iopub.status.busy": "2024-03-01T19:26:05.542151Z",
     "iopub.status.idle": "2024-03-01T19:26:05.877392Z",
     "shell.execute_reply": "2024-03-01T19:26:05.876374Z"
    },
    "papermill": {
     "duration": 0.358881,
     "end_time": "2024-03-01T19:26:05.879510",
     "exception": false,
     "start_time": "2024-03-01T19:26:05.520629",
     "status": "completed"
    },
    "tags": []
   },
   "outputs": [
    {
     "data": {
      "image/png": "[encoded data removed]",
      "text/plain": [
       "<Figure size 2000x1000 with 1 Axes>"
      ]
     },
     "metadata": {},
     "output_type": "display_data"
    }
   ],
   "source": [
    "# Visualizing the sizes of the training words graphically:\n",
    "\n",
    "df_number.boxplot('tamanho_text',\n",
    "                  by='label',\n",
    "                  grid=True,\n",
    "                  showfliers=True,\n",
    "                  figsize=(20, 10))\n",
    "plt.xlabel('');"
   ]
  },
  {
   "cell_type": "markdown",
   "id": "a1953013",
   "metadata": {
    "papermill": {
     "duration": 0.023648,
     "end_time": "2024-03-01T19:26:05.927493",
     "exception": false,
     "start_time": "2024-03-01T19:26:05.903845",
     "status": "completed"
    },
    "tags": []
   },
   "source": [
    "## Preparing data for training"
   ]
  },
  {
   "cell_type": "code",
   "execution_count": 20,
   "id": "1b82e679",
   "metadata": {
    "execution": {
     "iopub.execute_input": "2024-03-01T19:26:05.975033Z",
     "iopub.status.busy": "2024-03-01T19:26:05.974690Z",
     "iopub.status.idle": "2024-03-01T19:26:07.751162Z",
     "shell.execute_reply": "2024-03-01T19:26:07.750303Z"
    },
    "papermill": {
     "duration": 1.802972,
     "end_time": "2024-03-01T19:26:07.753490",
     "exception": false,
     "start_time": "2024-03-01T19:26:05.950518",
     "status": "completed"
    },
    "tags": []
   },
   "outputs": [
    {
     "data": {
      "application/vnd.jupyter.widget-view+json": {
       "model_id": "0a35d09fa17a4d9a91a0bc25dc49e61e",
       "version_major": 2,
       "version_minor": 0
      },
      "text/plain": [
       "tokenizer_config.json:   0%|          | 0.00/345 [00:00<?, ?B/s]"
      ]
     },
     "metadata": {},
     "output_type": "display_data"
    },
    {
     "data": {
      "application/vnd.jupyter.widget-view+json": {
       "model_id": "30ebba830ab24f7285871c026a65a942",
       "version_major": 2,
       "version_minor": 0
      },
      "text/plain": [
       "vocab.txt:   0%|          | 0.00/996k [00:00<?, ?B/s]"
      ]
     },
     "metadata": {},
     "output_type": "display_data"
    },
    {
     "data": {
      "application/vnd.jupyter.widget-view+json": {
       "model_id": "f0d1bdf4f1ee452e874443a1402538b2",
       "version_major": 2,
       "version_minor": 0
      },
      "text/plain": [
       "tokenizer.json:   0%|          | 0.00/1.96M [00:00<?, ?B/s]"
      ]
     },
     "metadata": {},
     "output_type": "display_data"
    },
    {
     "data": {
      "application/vnd.jupyter.widget-view+json": {
       "model_id": "722fab19b7b74015a46e9b3338eb2850",
       "version_major": 2,
       "version_minor": 0
      },
      "text/plain": [
       "special_tokens_map.json:   0%|          | 0.00/112 [00:00<?, ?B/s]"
      ]
     },
     "metadata": {},
     "output_type": "display_data"
    }
   ],
   "source": [
    "# Loading the Tokenizer:\n",
    "\n",
    "tokenizer = AutoTokenizer.from_pretrained('citizenlab/distilbert-base-multilingual-cased-toxicity')"
   ]
  },
  {
   "cell_type": "code",
   "execution_count": 21,
   "id": "d4ba55e4",
   "metadata": {
    "execution": {
     "iopub.execute_input": "2024-03-01T19:26:07.801159Z",
     "iopub.status.busy": "2024-03-01T19:26:07.800427Z",
     "iopub.status.idle": "2024-03-01T19:26:07.805311Z",
     "shell.execute_reply": "2024-03-01T19:26:07.804404Z"
    },
    "papermill": {
     "duration": 0.0294,
     "end_time": "2024-03-01T19:26:07.807335",
     "exception": false,
     "start_time": "2024-03-01T19:26:07.777935",
     "status": "completed"
    },
    "tags": []
   },
   "outputs": [],
   "source": [
    "# Creating the function to perform tokenization:\n",
    "\n",
    "def tok(text):\n",
    "    \n",
    "    text = str(text)\n",
    "    text_tk = tokenizer(text, return_tensors=\"pt\", max_length=50, padding='max_length', truncation=True)\n",
    "    \n",
    "    return text_tk"
   ]
  },
  {
   "cell_type": "code",
   "execution_count": 22,
   "id": "2b78e8fc",
   "metadata": {
    "execution": {
     "iopub.execute_input": "2024-03-01T19:26:07.852658Z",
     "iopub.status.busy": "2024-03-01T19:26:07.852085Z",
     "iopub.status.idle": "2024-03-01T19:26:12.322970Z",
     "shell.execute_reply": "2024-03-01T19:26:12.321934Z"
    },
    "papermill": {
     "duration": 4.496326,
     "end_time": "2024-03-01T19:26:12.325486",
     "exception": false,
     "start_time": "2024-03-01T19:26:07.829160",
     "status": "completed"
    },
    "tags": []
   },
   "outputs": [],
   "source": [
    "# Performing tokenization of training, validation, and test texts:\n",
    "\n",
    "#train\n",
    "df_train['inputs'] = df_train['text_limpo'].apply(lambda tk: tok(tk))\n",
    "\n",
    "#validation\n",
    "df_val['inputs'] = df_val['text_limpo'].apply(lambda tk: tok(tk))\n",
    "\n",
    "#test\n",
    "df_toxic_test['inputs'] = df_toxic_test['text_limpo'].apply(lambda tk: tok(tk))"
   ]
  },
  {
   "cell_type": "code",
   "execution_count": 23,
   "id": "217976b5",
   "metadata": {
    "execution": {
     "iopub.execute_input": "2024-03-01T19:26:12.374034Z",
     "iopub.status.busy": "2024-03-01T19:26:12.373363Z",
     "iopub.status.idle": "2024-03-01T19:26:12.386593Z",
     "shell.execute_reply": "2024-03-01T19:26:12.385494Z"
    },
    "papermill": {
     "duration": 0.040231,
     "end_time": "2024-03-01T19:26:12.388585",
     "exception": false,
     "start_time": "2024-03-01T19:26:12.348354",
     "status": "completed"
    },
    "tags": []
   },
   "outputs": [
    {
     "data": {
      "text/html": [
       "<div>\n",
       "<style scoped>\n",
       "    .dataframe tbody tr th:only-of-type {\n",
       "        vertical-align: middle;\n",
       "    }\n",
       "\n",
       "    .dataframe tbody tr th {\n",
       "        vertical-align: top;\n",
       "    }\n",
       "\n",
       "    .dataframe thead th {\n",
       "        text-align: right;\n",
       "    }\n",
       "</style>\n",
       "<table border=\"1\" class=\"dataframe\">\n",
       "  <thead>\n",
       "    <tr style=\"text-align: right;\">\n",
       "      <th></th>\n",
       "      <th>text</th>\n",
       "      <th>label</th>\n",
       "      <th>nao_toxico</th>\n",
       "      <th>toxico</th>\n",
       "      <th>text_limpo</th>\n",
       "      <th>inputs</th>\n",
       "    </tr>\n",
       "  </thead>\n",
       "  <tbody>\n",
       "    <tr>\n",
       "      <th>8361</th>\n",
       "      <td>nunca vou esquecereeer</td>\n",
       "      <td>0</td>\n",
       "      <td>1</td>\n",
       "      <td>0</td>\n",
       "      <td>nunca vou esquecereeer</td>\n",
       "      <td>[input_ids, attention_mask]</td>\n",
       "    </tr>\n",
       "    <tr>\n",
       "      <th>2666</th>\n",
       "      <td>paraíba do dindo .. 👏👊</td>\n",
       "      <td>0</td>\n",
       "      <td>1</td>\n",
       "      <td>0</td>\n",
       "      <td>paraíba do dindo 👏👊</td>\n",
       "      <td>[input_ids, attention_mask]</td>\n",
       "    </tr>\n",
       "    <tr>\n",
       "      <th>916</th>\n",
       "      <td>@user ele tem bicha</td>\n",
       "      <td>1</td>\n",
       "      <td>0</td>\n",
       "      <td>1</td>\n",
       "      <td>ele tem bicha</td>\n",
       "      <td>[input_ids, attention_mask]</td>\n",
       "    </tr>\n",
       "    <tr>\n",
       "      <th>6896</th>\n",
       "      <td>nossa senhora que mulher que mulher meus amigo...</td>\n",
       "      <td>1</td>\n",
       "      <td>0</td>\n",
       "      <td>1</td>\n",
       "      <td>nossa senhora que mulher que mulher meus amigo...</td>\n",
       "      <td>[input_ids, attention_mask]</td>\n",
       "    </tr>\n",
       "    <tr>\n",
       "      <th>8140</th>\n",
       "      <td>estes são tipo os filhos gémeos do jmendes, nã...</td>\n",
       "      <td>0</td>\n",
       "      <td>1</td>\n",
       "      <td>0</td>\n",
       "      <td>estes são tipo os filhos gémeos do jmendes não...</td>\n",
       "      <td>[input_ids, attention_mask]</td>\n",
       "    </tr>\n",
       "  </tbody>\n",
       "</table>\n",
       "</div>"
      ],
      "text/plain": [
       "                                                   text  label  nao_toxico  \\\n",
       "8361                             nunca vou esquecereeer      0           1   \n",
       "2666                             paraíba do dindo .. 👏👊      0           1   \n",
       "916                                 @user ele tem bicha      1           0   \n",
       "6896  nossa senhora que mulher que mulher meus amigo...      1           0   \n",
       "8140  estes são tipo os filhos gémeos do jmendes, nã...      0           1   \n",
       "\n",
       "      toxico                                         text_limpo  \\\n",
       "8361       0                             nunca vou esquecereeer   \n",
       "2666       0                                paraíba do dindo 👏👊   \n",
       "916        1                                      ele tem bicha   \n",
       "6896       1  nossa senhora que mulher que mulher meus amigo...   \n",
       "8140       0  estes são tipo os filhos gémeos do jmendes não...   \n",
       "\n",
       "                           inputs  \n",
       "8361  [input_ids, attention_mask]  \n",
       "2666  [input_ids, attention_mask]  \n",
       "916   [input_ids, attention_mask]  \n",
       "6896  [input_ids, attention_mask]  \n",
       "8140  [input_ids, attention_mask]  "
      ]
     },
     "execution_count": 23,
     "metadata": {},
     "output_type": "execute_result"
    }
   ],
   "source": [
    "# Viewing the dataframe:\n",
    "\n",
    "df_train.head()"
   ]
  },
  {
   "cell_type": "code",
   "execution_count": 24,
   "id": "73669eb6",
   "metadata": {
    "execution": {
     "iopub.execute_input": "2024-03-01T19:26:12.437813Z",
     "iopub.status.busy": "2024-03-01T19:26:12.437179Z",
     "iopub.status.idle": "2024-03-01T19:26:12.451265Z",
     "shell.execute_reply": "2024-03-01T19:26:12.450322Z"
    },
    "papermill": {
     "duration": 0.041855,
     "end_time": "2024-03-01T19:26:12.454162",
     "exception": false,
     "start_time": "2024-03-01T19:26:12.412307",
     "status": "completed"
    },
    "tags": []
   },
   "outputs": [
    {
     "data": {
      "text/html": [
       "<div>\n",
       "<style scoped>\n",
       "    .dataframe tbody tr th:only-of-type {\n",
       "        vertical-align: middle;\n",
       "    }\n",
       "\n",
       "    .dataframe tbody tr th {\n",
       "        vertical-align: top;\n",
       "    }\n",
       "\n",
       "    .dataframe thead th {\n",
       "        text-align: right;\n",
       "    }\n",
       "</style>\n",
       "<table border=\"1\" class=\"dataframe\">\n",
       "  <thead>\n",
       "    <tr style=\"text-align: right;\">\n",
       "      <th></th>\n",
       "      <th>text</th>\n",
       "      <th>label</th>\n",
       "      <th>nao_toxico</th>\n",
       "      <th>toxico</th>\n",
       "      <th>text_limpo</th>\n",
       "      <th>inputs</th>\n",
       "    </tr>\n",
       "  </thead>\n",
       "  <tbody>\n",
       "    <tr>\n",
       "      <th>9755</th>\n",
       "      <td>@user o país está infestado de boçais e troglo...</td>\n",
       "      <td>1</td>\n",
       "      <td>0</td>\n",
       "      <td>1</td>\n",
       "      <td>o país está infestado de boçais e trogloditas ...</td>\n",
       "      <td>[input_ids, attention_mask]</td>\n",
       "    </tr>\n",
       "    <tr>\n",
       "      <th>12976</th>\n",
       "      <td>@user Quanto não deve ter sido pago por esse m...</td>\n",
       "      <td>1</td>\n",
       "      <td>0</td>\n",
       "      <td>1</td>\n",
       "      <td>quanto não deve ter sido pago por esse mural 😆...</td>\n",
       "      <td>[input_ids, attention_mask]</td>\n",
       "    </tr>\n",
       "    <tr>\n",
       "      <th>15456</th>\n",
       "      <td>@user ridículo</td>\n",
       "      <td>1</td>\n",
       "      <td>0</td>\n",
       "      <td>1</td>\n",
       "      <td>ridículo</td>\n",
       "      <td>[input_ids, attention_mask]</td>\n",
       "    </tr>\n",
       "    <tr>\n",
       "      <th>13401</th>\n",
       "      <td>sabadoooooou, né non?? salve cambada https://t...</td>\n",
       "      <td>0</td>\n",
       "      <td>1</td>\n",
       "      <td>0</td>\n",
       "      <td>sabadoooooou né non salve cambada</td>\n",
       "      <td>[input_ids, attention_mask]</td>\n",
       "    </tr>\n",
       "    <tr>\n",
       "      <th>15013</th>\n",
       "      <td>@user @user @user @user infelizmente, não........</td>\n",
       "      <td>0</td>\n",
       "      <td>1</td>\n",
       "      <td>0</td>\n",
       "      <td>infelizmente não</td>\n",
       "      <td>[input_ids, attention_mask]</td>\n",
       "    </tr>\n",
       "  </tbody>\n",
       "</table>\n",
       "</div>"
      ],
      "text/plain": [
       "                                                    text  label  nao_toxico  \\\n",
       "9755   @user o país está infestado de boçais e troglo...      1           0   \n",
       "12976  @user Quanto não deve ter sido pago por esse m...      1           0   \n",
       "15456                                     @user ridículo      1           0   \n",
       "13401  sabadoooooou, né non?? salve cambada https://t...      0           1   \n",
       "15013  @user @user @user @user infelizmente, não........      0           1   \n",
       "\n",
       "       toxico                                         text_limpo  \\\n",
       "9755        1  o país está infestado de boçais e trogloditas ...   \n",
       "12976       1  quanto não deve ter sido pago por esse mural 😆...   \n",
       "15456       1                                           ridículo   \n",
       "13401       0                  sabadoooooou né non salve cambada   \n",
       "15013       0                                   infelizmente não   \n",
       "\n",
       "                            inputs  \n",
       "9755   [input_ids, attention_mask]  \n",
       "12976  [input_ids, attention_mask]  \n",
       "15456  [input_ids, attention_mask]  \n",
       "13401  [input_ids, attention_mask]  \n",
       "15013  [input_ids, attention_mask]  "
      ]
     },
     "execution_count": 24,
     "metadata": {},
     "output_type": "execute_result"
    }
   ],
   "source": [
    "# Viewing the dataframe:\n",
    "\n",
    "df_val.head()"
   ]
  },
  {
   "cell_type": "code",
   "execution_count": 25,
   "id": "50b24a56",
   "metadata": {
    "execution": {
     "iopub.execute_input": "2024-03-01T19:26:12.501344Z",
     "iopub.status.busy": "2024-03-01T19:26:12.500944Z",
     "iopub.status.idle": "2024-03-01T19:26:12.511881Z",
     "shell.execute_reply": "2024-03-01T19:26:12.511133Z"
    },
    "papermill": {
     "duration": 0.036136,
     "end_time": "2024-03-01T19:26:12.513863",
     "exception": false,
     "start_time": "2024-03-01T19:26:12.477727",
     "status": "completed"
    },
    "tags": []
   },
   "outputs": [
    {
     "data": {
      "text/html": [
       "<div>\n",
       "<style scoped>\n",
       "    .dataframe tbody tr th:only-of-type {\n",
       "        vertical-align: middle;\n",
       "    }\n",
       "\n",
       "    .dataframe tbody tr th {\n",
       "        vertical-align: top;\n",
       "    }\n",
       "\n",
       "    .dataframe thead th {\n",
       "        text-align: right;\n",
       "    }\n",
       "</style>\n",
       "<table border=\"1\" class=\"dataframe\">\n",
       "  <thead>\n",
       "    <tr style=\"text-align: right;\">\n",
       "      <th></th>\n",
       "      <th>id</th>\n",
       "      <th>text</th>\n",
       "      <th>text_limpo</th>\n",
       "      <th>inputs</th>\n",
       "    </tr>\n",
       "  </thead>\n",
       "  <tbody>\n",
       "    <tr>\n",
       "      <th>0</th>\n",
       "      <td>0</td>\n",
       "      <td>@user nossa mano te odeio na moral kkkkkkkkkkk...</td>\n",
       "      <td>nossa mano te odeio na moral kkkkkkkkkkkkkkkkkkk</td>\n",
       "      <td>[input_ids, attention_mask]</td>\n",
       "    </tr>\n",
       "    <tr>\n",
       "      <th>1</th>\n",
       "      <td>1</td>\n",
       "      <td>@user @user a edição ficou muito boa! kkkkkkkk...</td>\n",
       "      <td>a edição ficou muito boa kkkkkkkkkkk mas falto...</td>\n",
       "      <td>[input_ids, attention_mask]</td>\n",
       "    </tr>\n",
       "    <tr>\n",
       "      <th>2</th>\n",
       "      <td>2</td>\n",
       "      <td>@user largada vá, visto que a vaca anda à solta 😂</td>\n",
       "      <td>largada vá visto que a vaca anda à solta 😂</td>\n",
       "      <td>[input_ids, attention_mask]</td>\n",
       "    </tr>\n",
       "    <tr>\n",
       "      <th>3</th>\n",
       "      <td>3</td>\n",
       "      <td>poxa, eu queria ganhar um boné. alguém me da u...</td>\n",
       "      <td>poxa eu queria ganhar um boné alguém me da um ...</td>\n",
       "      <td>[input_ids, attention_mask]</td>\n",
       "    </tr>\n",
       "    <tr>\n",
       "      <th>4</th>\n",
       "      <td>4</td>\n",
       "      <td>@user amiga, tudo bem, não precisa se desculpa...</td>\n",
       "      <td>amiga tudo bem não precisa se desculpar com el...</td>\n",
       "      <td>[input_ids, attention_mask]</td>\n",
       "    </tr>\n",
       "  </tbody>\n",
       "</table>\n",
       "</div>"
      ],
      "text/plain": [
       "   id                                               text  \\\n",
       "0   0  @user nossa mano te odeio na moral kkkkkkkkkkk...   \n",
       "1   1  @user @user a edição ficou muito boa! kkkkkkkk...   \n",
       "2   2  @user largada vá, visto que a vaca anda à solta 😂   \n",
       "3   3  poxa, eu queria ganhar um boné. alguém me da u...   \n",
       "4   4  @user amiga, tudo bem, não precisa se desculpa...   \n",
       "\n",
       "                                          text_limpo  \\\n",
       "0   nossa mano te odeio na moral kkkkkkkkkkkkkkkkkkk   \n",
       "1  a edição ficou muito boa kkkkkkkkkkk mas falto...   \n",
       "2         largada vá visto que a vaca anda à solta 😂   \n",
       "3  poxa eu queria ganhar um boné alguém me da um ...   \n",
       "4  amiga tudo bem não precisa se desculpar com el...   \n",
       "\n",
       "                        inputs  \n",
       "0  [input_ids, attention_mask]  \n",
       "1  [input_ids, attention_mask]  \n",
       "2  [input_ids, attention_mask]  \n",
       "3  [input_ids, attention_mask]  \n",
       "4  [input_ids, attention_mask]  "
      ]
     },
     "execution_count": 25,
     "metadata": {},
     "output_type": "execute_result"
    }
   ],
   "source": [
    "# Viewing the dataframe:\n",
    "\n",
    "df_toxic_test.head()"
   ]
  },
  {
   "cell_type": "code",
   "execution_count": 26,
   "id": "f93a4d57",
   "metadata": {
    "execution": {
     "iopub.execute_input": "2024-03-01T19:26:12.560738Z",
     "iopub.status.busy": "2024-03-01T19:26:12.560092Z",
     "iopub.status.idle": "2024-03-01T19:26:13.108253Z",
     "shell.execute_reply": "2024-03-01T19:26:13.107364Z"
    },
    "papermill": {
     "duration": 0.574303,
     "end_time": "2024-03-01T19:26:13.110747",
     "exception": false,
     "start_time": "2024-03-01T19:26:12.536444",
     "status": "completed"
    },
    "tags": []
   },
   "outputs": [],
   "source": [
    "# Organizing data for training:\n",
    "\n",
    "#train\n",
    "df_train['input_ids'] = df_train['inputs'].apply(lambda x: x['input_ids'].tolist())\n",
    "df_train['attention_mask'] = df_train['inputs'].apply(lambda x: x['attention_mask'].tolist())\n",
    "\n",
    "#validation\n",
    "df_val['input_ids'] = df_val['inputs'].apply(lambda x: x['input_ids'].tolist())\n",
    "df_val['attention_mask'] = df_val['inputs'].apply(lambda x: x['attention_mask'].tolist())\n",
    "\n",
    "#test\n",
    "df_toxic_test['input_ids'] = df_toxic_test['inputs'].apply(lambda x: x['input_ids'].tolist())\n",
    "df_toxic_test['attention_mask'] = df_toxic_test['inputs'].apply(lambda x: x['attention_mask'].tolist())"
   ]
  },
  {
   "cell_type": "code",
   "execution_count": 27,
   "id": "a9d842b2",
   "metadata": {
    "execution": {
     "iopub.execute_input": "2024-03-01T19:26:13.163520Z",
     "iopub.status.busy": "2024-03-01T19:26:13.163209Z",
     "iopub.status.idle": "2024-03-01T19:26:13.190763Z",
     "shell.execute_reply": "2024-03-01T19:26:13.189647Z"
    },
    "papermill": {
     "duration": 0.056074,
     "end_time": "2024-03-01T19:26:13.192797",
     "exception": false,
     "start_time": "2024-03-01T19:26:13.136723",
     "status": "completed"
    },
    "tags": []
   },
   "outputs": [
    {
     "data": {
      "text/html": [
       "<div>\n",
       "<style scoped>\n",
       "    .dataframe tbody tr th:only-of-type {\n",
       "        vertical-align: middle;\n",
       "    }\n",
       "\n",
       "    .dataframe tbody tr th {\n",
       "        vertical-align: top;\n",
       "    }\n",
       "\n",
       "    .dataframe thead th {\n",
       "        text-align: right;\n",
       "    }\n",
       "</style>\n",
       "<table border=\"1\" class=\"dataframe\">\n",
       "  <thead>\n",
       "    <tr style=\"text-align: right;\">\n",
       "      <th></th>\n",
       "      <th>text</th>\n",
       "      <th>label</th>\n",
       "      <th>nao_toxico</th>\n",
       "      <th>toxico</th>\n",
       "      <th>text_limpo</th>\n",
       "      <th>inputs</th>\n",
       "      <th>input_ids</th>\n",
       "      <th>attention_mask</th>\n",
       "    </tr>\n",
       "  </thead>\n",
       "  <tbody>\n",
       "    <tr>\n",
       "      <th>8361</th>\n",
       "      <td>nunca vou esquecereeer</td>\n",
       "      <td>0</td>\n",
       "      <td>1</td>\n",
       "      <td>0</td>\n",
       "      <td>nunca vou esquecereeer</td>\n",
       "      <td>[input_ids, attention_mask]</td>\n",
       "      <td>[[101, 19096, 12556, 10138, 10196, 11189, 5115...</td>\n",
       "      <td>[[1, 1, 1, 1, 1, 1, 1, 1, 1, 0, 0, 0, 0, 0, 0,...</td>\n",
       "    </tr>\n",
       "    <tr>\n",
       "      <th>2666</th>\n",
       "      <td>paraíba do dindo .. 👏👊</td>\n",
       "      <td>0</td>\n",
       "      <td>1</td>\n",
       "      <td>0</td>\n",
       "      <td>paraíba do dindo 👏👊</td>\n",
       "      <td>[input_ids, attention_mask]</td>\n",
       "      <td>[[101, 10220, 10545, 10537, 10149, 10595, 1031...</td>\n",
       "      <td>[[1, 1, 1, 1, 1, 1, 1, 1, 1, 0, 0, 0, 0, 0, 0,...</td>\n",
       "    </tr>\n",
       "    <tr>\n",
       "      <th>916</th>\n",
       "      <td>@user ele tem bicha</td>\n",
       "      <td>1</td>\n",
       "      <td>0</td>\n",
       "      <td>1</td>\n",
       "      <td>ele tem bicha</td>\n",
       "      <td>[input_ids, attention_mask]</td>\n",
       "      <td>[[101, 12637, 12900, 11342, 12964, 102, 0, 0, ...</td>\n",
       "      <td>[[1, 1, 1, 1, 1, 1, 0, 0, 0, 0, 0, 0, 0, 0, 0,...</td>\n",
       "    </tr>\n",
       "    <tr>\n",
       "      <th>6896</th>\n",
       "      <td>nossa senhora que mulher que mulher meus amigo...</td>\n",
       "      <td>1</td>\n",
       "      <td>0</td>\n",
       "      <td>1</td>\n",
       "      <td>nossa senhora que mulher que mulher meus amigo...</td>\n",
       "      <td>[input_ids, attention_mask]</td>\n",
       "      <td>[[101, 11573, 10466, 109838, 10113, 10121, 431...</td>\n",
       "      <td>[[1, 1, 1, 1, 1, 1, 1, 1, 1, 1, 1, 1, 1, 1, 1,...</td>\n",
       "    </tr>\n",
       "    <tr>\n",
       "      <th>8140</th>\n",
       "      <td>estes são tipo os filhos gémeos do jmendes, nã...</td>\n",
       "      <td>0</td>\n",
       "      <td>1</td>\n",
       "      <td>0</td>\n",
       "      <td>estes são tipo os filhos gémeos do jmendes não...</td>\n",
       "      <td>[input_ids, attention_mask]</td>\n",
       "      <td>[[101, 27902, 12372, 13113, 10427, 37793, 175,...</td>\n",
       "      <td>[[1, 1, 1, 1, 1, 1, 1, 1, 1, 1, 1, 1, 1, 1, 1,...</td>\n",
       "    </tr>\n",
       "  </tbody>\n",
       "</table>\n",
       "</div>"
      ],
      "text/plain": [
       "                                                   text  label  nao_toxico  \\\n",
       "8361                             nunca vou esquecereeer      0           1   \n",
       "2666                             paraíba do dindo .. 👏👊      0           1   \n",
       "916                                 @user ele tem bicha      1           0   \n",
       "6896  nossa senhora que mulher que mulher meus amigo...      1           0   \n",
       "8140  estes são tipo os filhos gémeos do jmendes, nã...      0           1   \n",
       "\n",
       "      toxico                                         text_limpo  \\\n",
       "8361       0                             nunca vou esquecereeer   \n",
       "2666       0                                paraíba do dindo 👏👊   \n",
       "916        1                                      ele tem bicha   \n",
       "6896       1  nossa senhora que mulher que mulher meus amigo...   \n",
       "8140       0  estes são tipo os filhos gémeos do jmendes não...   \n",
       "\n",
       "                           inputs  \\\n",
       "8361  [input_ids, attention_mask]   \n",
       "2666  [input_ids, attention_mask]   \n",
       "916   [input_ids, attention_mask]   \n",
       "6896  [input_ids, attention_mask]   \n",
       "8140  [input_ids, attention_mask]   \n",
       "\n",
       "                                              input_ids  \\\n",
       "8361  [[101, 19096, 12556, 10138, 10196, 11189, 5115...   \n",
       "2666  [[101, 10220, 10545, 10537, 10149, 10595, 1031...   \n",
       "916   [[101, 12637, 12900, 11342, 12964, 102, 0, 0, ...   \n",
       "6896  [[101, 11573, 10466, 109838, 10113, 10121, 431...   \n",
       "8140  [[101, 27902, 12372, 13113, 10427, 37793, 175,...   \n",
       "\n",
       "                                         attention_mask  \n",
       "8361  [[1, 1, 1, 1, 1, 1, 1, 1, 1, 0, 0, 0, 0, 0, 0,...  \n",
       "2666  [[1, 1, 1, 1, 1, 1, 1, 1, 1, 0, 0, 0, 0, 0, 0,...  \n",
       "916   [[1, 1, 1, 1, 1, 1, 0, 0, 0, 0, 0, 0, 0, 0, 0,...  \n",
       "6896  [[1, 1, 1, 1, 1, 1, 1, 1, 1, 1, 1, 1, 1, 1, 1,...  \n",
       "8140  [[1, 1, 1, 1, 1, 1, 1, 1, 1, 1, 1, 1, 1, 1, 1,...  "
      ]
     },
     "execution_count": 27,
     "metadata": {},
     "output_type": "execute_result"
    }
   ],
   "source": [
    "# Viewing the dataframe:\n",
    "\n",
    "df_train.head()"
   ]
  },
  {
   "cell_type": "code",
   "execution_count": 28,
   "id": "1253c2db",
   "metadata": {
    "execution": {
     "iopub.execute_input": "2024-03-01T19:26:13.240691Z",
     "iopub.status.busy": "2024-03-01T19:26:13.240409Z",
     "iopub.status.idle": "2024-03-01T19:26:13.264531Z",
     "shell.execute_reply": "2024-03-01T19:26:13.263696Z"
    },
    "papermill": {
     "duration": 0.049818,
     "end_time": "2024-03-01T19:26:13.266537",
     "exception": false,
     "start_time": "2024-03-01T19:26:13.216719",
     "status": "completed"
    },
    "tags": []
   },
   "outputs": [
    {
     "data": {
      "text/html": [
       "<div>\n",
       "<style scoped>\n",
       "    .dataframe tbody tr th:only-of-type {\n",
       "        vertical-align: middle;\n",
       "    }\n",
       "\n",
       "    .dataframe tbody tr th {\n",
       "        vertical-align: top;\n",
       "    }\n",
       "\n",
       "    .dataframe thead th {\n",
       "        text-align: right;\n",
       "    }\n",
       "</style>\n",
       "<table border=\"1\" class=\"dataframe\">\n",
       "  <thead>\n",
       "    <tr style=\"text-align: right;\">\n",
       "      <th></th>\n",
       "      <th>text</th>\n",
       "      <th>label</th>\n",
       "      <th>nao_toxico</th>\n",
       "      <th>toxico</th>\n",
       "      <th>text_limpo</th>\n",
       "      <th>inputs</th>\n",
       "      <th>input_ids</th>\n",
       "      <th>attention_mask</th>\n",
       "    </tr>\n",
       "  </thead>\n",
       "  <tbody>\n",
       "    <tr>\n",
       "      <th>9755</th>\n",
       "      <td>@user o país está infestado de boçais e troglo...</td>\n",
       "      <td>1</td>\n",
       "      <td>0</td>\n",
       "      <td>1</td>\n",
       "      <td>o país está infestado de boçais e trogloditas ...</td>\n",
       "      <td>[input_ids, attention_mask]</td>\n",
       "      <td>[[101, 183, 12115, 11559, 10106, 105286, 10317...</td>\n",
       "      <td>[[1, 1, 1, 1, 1, 1, 1, 1, 1, 1, 1, 1, 1, 1, 1,...</td>\n",
       "    </tr>\n",
       "    <tr>\n",
       "      <th>12976</th>\n",
       "      <td>@user Quanto não deve ter sido pago por esse m...</td>\n",
       "      <td>1</td>\n",
       "      <td>0</td>\n",
       "      <td>1</td>\n",
       "      <td>quanto não deve ter sido pago por esse mural 😆...</td>\n",
       "      <td>[input_ids, attention_mask]</td>\n",
       "      <td>[[101, 15696, 11420, 19847, 12718, 12477, 7400...</td>\n",
       "      <td>[[1, 1, 1, 1, 1, 1, 1, 1, 1, 1, 1, 1, 1, 1, 1,...</td>\n",
       "    </tr>\n",
       "    <tr>\n",
       "      <th>15456</th>\n",
       "      <td>@user ridículo</td>\n",
       "      <td>1</td>\n",
       "      <td>0</td>\n",
       "      <td>1</td>\n",
       "      <td>ridículo</td>\n",
       "      <td>[input_ids, attention_mask]</td>\n",
       "      <td>[[101, 29956, 26530, 55987, 102, 0, 0, 0, 0, 0...</td>\n",
       "      <td>[[1, 1, 1, 1, 1, 0, 0, 0, 0, 0, 0, 0, 0, 0, 0,...</td>\n",
       "    </tr>\n",
       "    <tr>\n",
       "      <th>13401</th>\n",
       "      <td>sabadoooooou, né non?? salve cambada https://t...</td>\n",
       "      <td>0</td>\n",
       "      <td>1</td>\n",
       "      <td>0</td>\n",
       "      <td>sabadoooooou né non salve cambada</td>\n",
       "      <td>[input_ids, attention_mask]</td>\n",
       "      <td>[[101, 10148, 51606, 22659, 22659, 11010, 1275...</td>\n",
       "      <td>[[1, 1, 1, 1, 1, 1, 1, 1, 1, 1, 1, 1, 1, 0, 0,...</td>\n",
       "    </tr>\n",
       "    <tr>\n",
       "      <th>15013</th>\n",
       "      <td>@user @user @user @user infelizmente, não........</td>\n",
       "      <td>0</td>\n",
       "      <td>1</td>\n",
       "      <td>0</td>\n",
       "      <td>infelizmente não</td>\n",
       "      <td>[input_ids, attention_mask]</td>\n",
       "      <td>[[101, 10106, 22086, 47538, 13177, 11420, 102,...</td>\n",
       "      <td>[[1, 1, 1, 1, 1, 1, 1, 0, 0, 0, 0, 0, 0, 0, 0,...</td>\n",
       "    </tr>\n",
       "  </tbody>\n",
       "</table>\n",
       "</div>"
      ],
      "text/plain": [
       "                                                    text  label  nao_toxico  \\\n",
       "9755   @user o país está infestado de boçais e troglo...      1           0   \n",
       "12976  @user Quanto não deve ter sido pago por esse m...      1           0   \n",
       "15456                                     @user ridículo      1           0   \n",
       "13401  sabadoooooou, né non?? salve cambada https://t...      0           1   \n",
       "15013  @user @user @user @user infelizmente, não........      0           1   \n",
       "\n",
       "       toxico                                         text_limpo  \\\n",
       "9755        1  o país está infestado de boçais e trogloditas ...   \n",
       "12976       1  quanto não deve ter sido pago por esse mural 😆...   \n",
       "15456       1                                           ridículo   \n",
       "13401       0                  sabadoooooou né non salve cambada   \n",
       "15013       0                                   infelizmente não   \n",
       "\n",
       "                            inputs  \\\n",
       "9755   [input_ids, attention_mask]   \n",
       "12976  [input_ids, attention_mask]   \n",
       "15456  [input_ids, attention_mask]   \n",
       "13401  [input_ids, attention_mask]   \n",
       "15013  [input_ids, attention_mask]   \n",
       "\n",
       "                                               input_ids  \\\n",
       "9755   [[101, 183, 12115, 11559, 10106, 105286, 10317...   \n",
       "12976  [[101, 15696, 11420, 19847, 12718, 12477, 7400...   \n",
       "15456  [[101, 29956, 26530, 55987, 102, 0, 0, 0, 0, 0...   \n",
       "13401  [[101, 10148, 51606, 22659, 22659, 11010, 1275...   \n",
       "15013  [[101, 10106, 22086, 47538, 13177, 11420, 102,...   \n",
       "\n",
       "                                          attention_mask  \n",
       "9755   [[1, 1, 1, 1, 1, 1, 1, 1, 1, 1, 1, 1, 1, 1, 1,...  \n",
       "12976  [[1, 1, 1, 1, 1, 1, 1, 1, 1, 1, 1, 1, 1, 1, 1,...  \n",
       "15456  [[1, 1, 1, 1, 1, 0, 0, 0, 0, 0, 0, 0, 0, 0, 0,...  \n",
       "13401  [[1, 1, 1, 1, 1, 1, 1, 1, 1, 1, 1, 1, 1, 0, 0,...  \n",
       "15013  [[1, 1, 1, 1, 1, 1, 1, 0, 0, 0, 0, 0, 0, 0, 0,...  "
      ]
     },
     "execution_count": 28,
     "metadata": {},
     "output_type": "execute_result"
    }
   ],
   "source": [
    "# Viewing the dataframe:\n",
    "\n",
    "df_val.head()"
   ]
  },
  {
   "cell_type": "code",
   "execution_count": 29,
   "id": "91df3743",
   "metadata": {
    "execution": {
     "iopub.execute_input": "2024-03-01T19:26:13.318625Z",
     "iopub.status.busy": "2024-03-01T19:26:13.318006Z",
     "iopub.status.idle": "2024-03-01T19:26:13.344256Z",
     "shell.execute_reply": "2024-03-01T19:26:13.343356Z"
    },
    "papermill": {
     "duration": 0.054804,
     "end_time": "2024-03-01T19:26:13.346424",
     "exception": false,
     "start_time": "2024-03-01T19:26:13.291620",
     "status": "completed"
    },
    "tags": []
   },
   "outputs": [
    {
     "data": {
      "text/html": [
       "<div>\n",
       "<style scoped>\n",
       "    .dataframe tbody tr th:only-of-type {\n",
       "        vertical-align: middle;\n",
       "    }\n",
       "\n",
       "    .dataframe tbody tr th {\n",
       "        vertical-align: top;\n",
       "    }\n",
       "\n",
       "    .dataframe thead th {\n",
       "        text-align: right;\n",
       "    }\n",
       "</style>\n",
       "<table border=\"1\" class=\"dataframe\">\n",
       "  <thead>\n",
       "    <tr style=\"text-align: right;\">\n",
       "      <th></th>\n",
       "      <th>id</th>\n",
       "      <th>text</th>\n",
       "      <th>text_limpo</th>\n",
       "      <th>inputs</th>\n",
       "      <th>input_ids</th>\n",
       "      <th>attention_mask</th>\n",
       "    </tr>\n",
       "  </thead>\n",
       "  <tbody>\n",
       "    <tr>\n",
       "      <th>0</th>\n",
       "      <td>0</td>\n",
       "      <td>@user nossa mano te odeio na moral kkkkkkkkkkk...</td>\n",
       "      <td>nossa mano te odeio na moral kkkkkkkkkkkkkkkkkkk</td>\n",
       "      <td>[input_ids, attention_mask]</td>\n",
       "      <td>[[101, 11573, 10466, 19271, 10361, 10311, 1199...</td>\n",
       "      <td>[[1, 1, 1, 1, 1, 1, 1, 1, 1, 1, 1, 1, 1, 1, 1,...</td>\n",
       "    </tr>\n",
       "    <tr>\n",
       "      <th>1</th>\n",
       "      <td>1</td>\n",
       "      <td>@user @user a edição ficou muito boa! kkkkkkkk...</td>\n",
       "      <td>a edição ficou muito boa kkkkkkkkkkk mas falto...</td>\n",
       "      <td>[input_ids, attention_mask]</td>\n",
       "      <td>[[101, 169, 26898, 30976, 16159, 47071, 179, 2...</td>\n",
       "      <td>[[1, 1, 1, 1, 1, 1, 1, 1, 1, 1, 1, 1, 1, 1, 1,...</td>\n",
       "    </tr>\n",
       "    <tr>\n",
       "      <th>2</th>\n",
       "      <td>2</td>\n",
       "      <td>@user largada vá, visto que a vaca anda à solta 😂</td>\n",
       "      <td>largada vá visto que a vaca anda à solta 😂</td>\n",
       "      <td>[input_ids, attention_mask]</td>\n",
       "      <td>[[101, 31854, 10229, 190, 10661, 22076, 10121,...</td>\n",
       "      <td>[[1, 1, 1, 1, 1, 1, 1, 1, 1, 1, 1, 1, 1, 1, 1,...</td>\n",
       "    </tr>\n",
       "    <tr>\n",
       "      <th>3</th>\n",
       "      <td>3</td>\n",
       "      <td>poxa, eu queria ganhar um boné. alguém me da u...</td>\n",
       "      <td>poxa eu queria ganhar um boné alguém me da um ...</td>\n",
       "      <td>[input_ids, attention_mask]</td>\n",
       "      <td>[[101, 10514, 14220, 14444, 110611, 102472, 10...</td>\n",
       "      <td>[[1, 1, 1, 1, 1, 1, 1, 1, 1, 1, 1, 1, 1, 1, 1,...</td>\n",
       "    </tr>\n",
       "    <tr>\n",
       "      <th>4</th>\n",
       "      <td>4</td>\n",
       "      <td>@user amiga, tudo bem, não precisa se desculpa...</td>\n",
       "      <td>amiga tudo bem não precisa se desculpar com el...</td>\n",
       "      <td>[input_ids, attention_mask]</td>\n",
       "      <td>[[101, 66263, 50172, 19685, 11420, 56785, 1012...</td>\n",
       "      <td>[[1, 1, 1, 1, 1, 1, 1, 1, 1, 1, 1, 1, 1, 1, 1,...</td>\n",
       "    </tr>\n",
       "  </tbody>\n",
       "</table>\n",
       "</div>"
      ],
      "text/plain": [
       "   id                                               text  \\\n",
       "0   0  @user nossa mano te odeio na moral kkkkkkkkkkk...   \n",
       "1   1  @user @user a edição ficou muito boa! kkkkkkkk...   \n",
       "2   2  @user largada vá, visto que a vaca anda à solta 😂   \n",
       "3   3  poxa, eu queria ganhar um boné. alguém me da u...   \n",
       "4   4  @user amiga, tudo bem, não precisa se desculpa...   \n",
       "\n",
       "                                          text_limpo  \\\n",
       "0   nossa mano te odeio na moral kkkkkkkkkkkkkkkkkkk   \n",
       "1  a edição ficou muito boa kkkkkkkkkkk mas falto...   \n",
       "2         largada vá visto que a vaca anda à solta 😂   \n",
       "3  poxa eu queria ganhar um boné alguém me da um ...   \n",
       "4  amiga tudo bem não precisa se desculpar com el...   \n",
       "\n",
       "                        inputs  \\\n",
       "0  [input_ids, attention_mask]   \n",
       "1  [input_ids, attention_mask]   \n",
       "2  [input_ids, attention_mask]   \n",
       "3  [input_ids, attention_mask]   \n",
       "4  [input_ids, attention_mask]   \n",
       "\n",
       "                                           input_ids  \\\n",
       "0  [[101, 11573, 10466, 19271, 10361, 10311, 1199...   \n",
       "1  [[101, 169, 26898, 30976, 16159, 47071, 179, 2...   \n",
       "2  [[101, 31854, 10229, 190, 10661, 22076, 10121,...   \n",
       "3  [[101, 10514, 14220, 14444, 110611, 102472, 10...   \n",
       "4  [[101, 66263, 50172, 19685, 11420, 56785, 1012...   \n",
       "\n",
       "                                      attention_mask  \n",
       "0  [[1, 1, 1, 1, 1, 1, 1, 1, 1, 1, 1, 1, 1, 1, 1,...  \n",
       "1  [[1, 1, 1, 1, 1, 1, 1, 1, 1, 1, 1, 1, 1, 1, 1,...  \n",
       "2  [[1, 1, 1, 1, 1, 1, 1, 1, 1, 1, 1, 1, 1, 1, 1,...  \n",
       "3  [[1, 1, 1, 1, 1, 1, 1, 1, 1, 1, 1, 1, 1, 1, 1,...  \n",
       "4  [[1, 1, 1, 1, 1, 1, 1, 1, 1, 1, 1, 1, 1, 1, 1,...  "
      ]
     },
     "execution_count": 29,
     "metadata": {},
     "output_type": "execute_result"
    }
   ],
   "source": [
    "# Viewing the dataframe:\n",
    "\n",
    "df_toxic_test.head()"
   ]
  },
  {
   "cell_type": "code",
   "execution_count": 30,
   "id": "5ec2ac86",
   "metadata": {
    "execution": {
     "iopub.execute_input": "2024-03-01T19:26:13.396912Z",
     "iopub.status.busy": "2024-03-01T19:26:13.396621Z",
     "iopub.status.idle": "2024-03-01T19:26:13.411999Z",
     "shell.execute_reply": "2024-03-01T19:26:13.411363Z"
    },
    "papermill": {
     "duration": 0.041841,
     "end_time": "2024-03-01T19:26:13.413796",
     "exception": false,
     "start_time": "2024-03-01T19:26:13.371955",
     "status": "completed"
    },
    "tags": []
   },
   "outputs": [],
   "source": [
    "# Reformatting the training, validation, and testing Dataframes:\n",
    "\n",
    "#train\n",
    "df_train_ = df_train[['text_limpo', 'label', 'input_ids', 'attention_mask']]\n",
    "df_train_ = df_train_.rename(columns={'text_limpo':'text'})\n",
    "\n",
    "#validation\n",
    "df_val_ = df_val[['text_limpo', 'label', 'input_ids', 'attention_mask']]\n",
    "df_val_ = df_val_.rename(columns={'text_limpo':'text'})\n",
    "\n",
    "#test\n",
    "df_toxic_test_ = df_toxic_test[['text_limpo', 'input_ids', 'attention_mask']]\n",
    "df_toxic_test_ = df_toxic_test_.rename(columns={'text_limpo':'text'})"
   ]
  },
  {
   "cell_type": "code",
   "execution_count": 31,
   "id": "776570cd",
   "metadata": {
    "execution": {
     "iopub.execute_input": "2024-03-01T19:26:13.462239Z",
     "iopub.status.busy": "2024-03-01T19:26:13.461939Z",
     "iopub.status.idle": "2024-03-01T19:26:13.483677Z",
     "shell.execute_reply": "2024-03-01T19:26:13.482889Z"
    },
    "papermill": {
     "duration": 0.047808,
     "end_time": "2024-03-01T19:26:13.485589",
     "exception": false,
     "start_time": "2024-03-01T19:26:13.437781",
     "status": "completed"
    },
    "tags": []
   },
   "outputs": [
    {
     "data": {
      "text/html": [
       "<div>\n",
       "<style scoped>\n",
       "    .dataframe tbody tr th:only-of-type {\n",
       "        vertical-align: middle;\n",
       "    }\n",
       "\n",
       "    .dataframe tbody tr th {\n",
       "        vertical-align: top;\n",
       "    }\n",
       "\n",
       "    .dataframe thead th {\n",
       "        text-align: right;\n",
       "    }\n",
       "</style>\n",
       "<table border=\"1\" class=\"dataframe\">\n",
       "  <thead>\n",
       "    <tr style=\"text-align: right;\">\n",
       "      <th></th>\n",
       "      <th>text</th>\n",
       "      <th>label</th>\n",
       "      <th>input_ids</th>\n",
       "      <th>attention_mask</th>\n",
       "    </tr>\n",
       "  </thead>\n",
       "  <tbody>\n",
       "    <tr>\n",
       "      <th>8361</th>\n",
       "      <td>nunca vou esquecereeer</td>\n",
       "      <td>0</td>\n",
       "      <td>[[101, 19096, 12556, 10138, 10196, 11189, 5115...</td>\n",
       "      <td>[[1, 1, 1, 1, 1, 1, 1, 1, 1, 0, 0, 0, 0, 0, 0,...</td>\n",
       "    </tr>\n",
       "    <tr>\n",
       "      <th>2666</th>\n",
       "      <td>paraíba do dindo 👏👊</td>\n",
       "      <td>0</td>\n",
       "      <td>[[101, 10220, 10545, 10537, 10149, 10595, 1031...</td>\n",
       "      <td>[[1, 1, 1, 1, 1, 1, 1, 1, 1, 0, 0, 0, 0, 0, 0,...</td>\n",
       "    </tr>\n",
       "    <tr>\n",
       "      <th>916</th>\n",
       "      <td>ele tem bicha</td>\n",
       "      <td>1</td>\n",
       "      <td>[[101, 12637, 12900, 11342, 12964, 102, 0, 0, ...</td>\n",
       "      <td>[[1, 1, 1, 1, 1, 1, 0, 0, 0, 0, 0, 0, 0, 0, 0,...</td>\n",
       "    </tr>\n",
       "    <tr>\n",
       "      <th>6896</th>\n",
       "      <td>nossa senhora que mulher que mulher meus amigo...</td>\n",
       "      <td>1</td>\n",
       "      <td>[[101, 11573, 10466, 109838, 10113, 10121, 431...</td>\n",
       "      <td>[[1, 1, 1, 1, 1, 1, 1, 1, 1, 1, 1, 1, 1, 1, 1,...</td>\n",
       "    </tr>\n",
       "    <tr>\n",
       "      <th>8140</th>\n",
       "      <td>estes são tipo os filhos gémeos do jmendes não...</td>\n",
       "      <td>0</td>\n",
       "      <td>[[101, 27902, 12372, 13113, 10427, 37793, 175,...</td>\n",
       "      <td>[[1, 1, 1, 1, 1, 1, 1, 1, 1, 1, 1, 1, 1, 1, 1,...</td>\n",
       "    </tr>\n",
       "  </tbody>\n",
       "</table>\n",
       "</div>"
      ],
      "text/plain": [
       "                                                   text  label  \\\n",
       "8361                             nunca vou esquecereeer      0   \n",
       "2666                                paraíba do dindo 👏👊      0   \n",
       "916                                       ele tem bicha      1   \n",
       "6896  nossa senhora que mulher que mulher meus amigo...      1   \n",
       "8140  estes são tipo os filhos gémeos do jmendes não...      0   \n",
       "\n",
       "                                              input_ids  \\\n",
       "8361  [[101, 19096, 12556, 10138, 10196, 11189, 5115...   \n",
       "2666  [[101, 10220, 10545, 10537, 10149, 10595, 1031...   \n",
       "916   [[101, 12637, 12900, 11342, 12964, 102, 0, 0, ...   \n",
       "6896  [[101, 11573, 10466, 109838, 10113, 10121, 431...   \n",
       "8140  [[101, 27902, 12372, 13113, 10427, 37793, 175,...   \n",
       "\n",
       "                                         attention_mask  \n",
       "8361  [[1, 1, 1, 1, 1, 1, 1, 1, 1, 0, 0, 0, 0, 0, 0,...  \n",
       "2666  [[1, 1, 1, 1, 1, 1, 1, 1, 1, 0, 0, 0, 0, 0, 0,...  \n",
       "916   [[1, 1, 1, 1, 1, 1, 0, 0, 0, 0, 0, 0, 0, 0, 0,...  \n",
       "6896  [[1, 1, 1, 1, 1, 1, 1, 1, 1, 1, 1, 1, 1, 1, 1,...  \n",
       "8140  [[1, 1, 1, 1, 1, 1, 1, 1, 1, 1, 1, 1, 1, 1, 1,...  "
      ]
     },
     "execution_count": 31,
     "metadata": {},
     "output_type": "execute_result"
    }
   ],
   "source": [
    "# Viewing the dataframe:\n",
    "\n",
    "df_train_.head()"
   ]
  },
  {
   "cell_type": "code",
   "execution_count": 32,
   "id": "55c9d291",
   "metadata": {
    "execution": {
     "iopub.execute_input": "2024-03-01T19:26:13.533204Z",
     "iopub.status.busy": "2024-03-01T19:26:13.532914Z",
     "iopub.status.idle": "2024-03-01T19:26:13.552928Z",
     "shell.execute_reply": "2024-03-01T19:26:13.552152Z"
    },
    "papermill": {
     "duration": 0.045799,
     "end_time": "2024-03-01T19:26:13.554750",
     "exception": false,
     "start_time": "2024-03-01T19:26:13.508951",
     "status": "completed"
    },
    "tags": []
   },
   "outputs": [
    {
     "data": {
      "text/html": [
       "<div>\n",
       "<style scoped>\n",
       "    .dataframe tbody tr th:only-of-type {\n",
       "        vertical-align: middle;\n",
       "    }\n",
       "\n",
       "    .dataframe tbody tr th {\n",
       "        vertical-align: top;\n",
       "    }\n",
       "\n",
       "    .dataframe thead th {\n",
       "        text-align: right;\n",
       "    }\n",
       "</style>\n",
       "<table border=\"1\" class=\"dataframe\">\n",
       "  <thead>\n",
       "    <tr style=\"text-align: right;\">\n",
       "      <th></th>\n",
       "      <th>text</th>\n",
       "      <th>label</th>\n",
       "      <th>input_ids</th>\n",
       "      <th>attention_mask</th>\n",
       "    </tr>\n",
       "  </thead>\n",
       "  <tbody>\n",
       "    <tr>\n",
       "      <th>9755</th>\n",
       "      <td>o país está infestado de boçais e trogloditas ...</td>\n",
       "      <td>1</td>\n",
       "      <td>[[101, 183, 12115, 11559, 10106, 105286, 10317...</td>\n",
       "      <td>[[1, 1, 1, 1, 1, 1, 1, 1, 1, 1, 1, 1, 1, 1, 1,...</td>\n",
       "    </tr>\n",
       "    <tr>\n",
       "      <th>12976</th>\n",
       "      <td>quanto não deve ter sido pago por esse mural 😆...</td>\n",
       "      <td>1</td>\n",
       "      <td>[[101, 15696, 11420, 19847, 12718, 12477, 7400...</td>\n",
       "      <td>[[1, 1, 1, 1, 1, 1, 1, 1, 1, 1, 1, 1, 1, 1, 1,...</td>\n",
       "    </tr>\n",
       "    <tr>\n",
       "      <th>15456</th>\n",
       "      <td>ridículo</td>\n",
       "      <td>1</td>\n",
       "      <td>[[101, 29956, 26530, 55987, 102, 0, 0, 0, 0, 0...</td>\n",
       "      <td>[[1, 1, 1, 1, 1, 0, 0, 0, 0, 0, 0, 0, 0, 0, 0,...</td>\n",
       "    </tr>\n",
       "    <tr>\n",
       "      <th>13401</th>\n",
       "      <td>sabadoooooou né non salve cambada</td>\n",
       "      <td>0</td>\n",
       "      <td>[[101, 10148, 51606, 22659, 22659, 11010, 1275...</td>\n",
       "      <td>[[1, 1, 1, 1, 1, 1, 1, 1, 1, 1, 1, 1, 1, 0, 0,...</td>\n",
       "    </tr>\n",
       "    <tr>\n",
       "      <th>15013</th>\n",
       "      <td>infelizmente não</td>\n",
       "      <td>0</td>\n",
       "      <td>[[101, 10106, 22086, 47538, 13177, 11420, 102,...</td>\n",
       "      <td>[[1, 1, 1, 1, 1, 1, 1, 0, 0, 0, 0, 0, 0, 0, 0,...</td>\n",
       "    </tr>\n",
       "  </tbody>\n",
       "</table>\n",
       "</div>"
      ],
      "text/plain": [
       "                                                    text  label  \\\n",
       "9755   o país está infestado de boçais e trogloditas ...      1   \n",
       "12976  quanto não deve ter sido pago por esse mural 😆...      1   \n",
       "15456                                           ridículo      1   \n",
       "13401                  sabadoooooou né non salve cambada      0   \n",
       "15013                                   infelizmente não      0   \n",
       "\n",
       "                                               input_ids  \\\n",
       "9755   [[101, 183, 12115, 11559, 10106, 105286, 10317...   \n",
       "12976  [[101, 15696, 11420, 19847, 12718, 12477, 7400...   \n",
       "15456  [[101, 29956, 26530, 55987, 102, 0, 0, 0, 0, 0...   \n",
       "13401  [[101, 10148, 51606, 22659, 22659, 11010, 1275...   \n",
       "15013  [[101, 10106, 22086, 47538, 13177, 11420, 102,...   \n",
       "\n",
       "                                          attention_mask  \n",
       "9755   [[1, 1, 1, 1, 1, 1, 1, 1, 1, 1, 1, 1, 1, 1, 1,...  \n",
       "12976  [[1, 1, 1, 1, 1, 1, 1, 1, 1, 1, 1, 1, 1, 1, 1,...  \n",
       "15456  [[1, 1, 1, 1, 1, 0, 0, 0, 0, 0, 0, 0, 0, 0, 0,...  \n",
       "13401  [[1, 1, 1, 1, 1, 1, 1, 1, 1, 1, 1, 1, 1, 0, 0,...  \n",
       "15013  [[1, 1, 1, 1, 1, 1, 1, 0, 0, 0, 0, 0, 0, 0, 0,...  "
      ]
     },
     "execution_count": 32,
     "metadata": {},
     "output_type": "execute_result"
    }
   ],
   "source": [
    "# Viewing the dataframe:\n",
    "\n",
    "df_val_.head()"
   ]
  },
  {
   "cell_type": "code",
   "execution_count": 33,
   "id": "70685bfb",
   "metadata": {
    "execution": {
     "iopub.execute_input": "2024-03-01T19:26:13.606813Z",
     "iopub.status.busy": "2024-03-01T19:26:13.606545Z",
     "iopub.status.idle": "2024-03-01T19:26:13.625975Z",
     "shell.execute_reply": "2024-03-01T19:26:13.624990Z"
    },
    "papermill": {
     "duration": 0.045989,
     "end_time": "2024-03-01T19:26:13.627990",
     "exception": false,
     "start_time": "2024-03-01T19:26:13.582001",
     "status": "completed"
    },
    "tags": []
   },
   "outputs": [
    {
     "data": {
      "text/html": [
       "<div>\n",
       "<style scoped>\n",
       "    .dataframe tbody tr th:only-of-type {\n",
       "        vertical-align: middle;\n",
       "    }\n",
       "\n",
       "    .dataframe tbody tr th {\n",
       "        vertical-align: top;\n",
       "    }\n",
       "\n",
       "    .dataframe thead th {\n",
       "        text-align: right;\n",
       "    }\n",
       "</style>\n",
       "<table border=\"1\" class=\"dataframe\">\n",
       "  <thead>\n",
       "    <tr style=\"text-align: right;\">\n",
       "      <th></th>\n",
       "      <th>text</th>\n",
       "      <th>input_ids</th>\n",
       "      <th>attention_mask</th>\n",
       "    </tr>\n",
       "  </thead>\n",
       "  <tbody>\n",
       "    <tr>\n",
       "      <th>0</th>\n",
       "      <td>nossa mano te odeio na moral kkkkkkkkkkkkkkkkkkk</td>\n",
       "      <td>[[101, 11573, 10466, 19271, 10361, 10311, 1199...</td>\n",
       "      <td>[[1, 1, 1, 1, 1, 1, 1, 1, 1, 1, 1, 1, 1, 1, 1,...</td>\n",
       "    </tr>\n",
       "    <tr>\n",
       "      <th>1</th>\n",
       "      <td>a edição ficou muito boa kkkkkkkkkkk mas falto...</td>\n",
       "      <td>[[101, 169, 26898, 30976, 16159, 47071, 179, 2...</td>\n",
       "      <td>[[1, 1, 1, 1, 1, 1, 1, 1, 1, 1, 1, 1, 1, 1, 1,...</td>\n",
       "    </tr>\n",
       "    <tr>\n",
       "      <th>2</th>\n",
       "      <td>largada vá visto que a vaca anda à solta 😂</td>\n",
       "      <td>[[101, 31854, 10229, 190, 10661, 22076, 10121,...</td>\n",
       "      <td>[[1, 1, 1, 1, 1, 1, 1, 1, 1, 1, 1, 1, 1, 1, 1,...</td>\n",
       "    </tr>\n",
       "    <tr>\n",
       "      <th>3</th>\n",
       "      <td>poxa eu queria ganhar um boné alguém me da um ...</td>\n",
       "      <td>[[101, 10514, 14220, 14444, 110611, 102472, 10...</td>\n",
       "      <td>[[1, 1, 1, 1, 1, 1, 1, 1, 1, 1, 1, 1, 1, 1, 1,...</td>\n",
       "    </tr>\n",
       "    <tr>\n",
       "      <th>4</th>\n",
       "      <td>amiga tudo bem não precisa se desculpar com el...</td>\n",
       "      <td>[[101, 66263, 50172, 19685, 11420, 56785, 1012...</td>\n",
       "      <td>[[1, 1, 1, 1, 1, 1, 1, 1, 1, 1, 1, 1, 1, 1, 1,...</td>\n",
       "    </tr>\n",
       "  </tbody>\n",
       "</table>\n",
       "</div>"
      ],
      "text/plain": [
       "                                                text  \\\n",
       "0   nossa mano te odeio na moral kkkkkkkkkkkkkkkkkkk   \n",
       "1  a edição ficou muito boa kkkkkkkkkkk mas falto...   \n",
       "2         largada vá visto que a vaca anda à solta 😂   \n",
       "3  poxa eu queria ganhar um boné alguém me da um ...   \n",
       "4  amiga tudo bem não precisa se desculpar com el...   \n",
       "\n",
       "                                           input_ids  \\\n",
       "0  [[101, 11573, 10466, 19271, 10361, 10311, 1199...   \n",
       "1  [[101, 169, 26898, 30976, 16159, 47071, 179, 2...   \n",
       "2  [[101, 31854, 10229, 190, 10661, 22076, 10121,...   \n",
       "3  [[101, 10514, 14220, 14444, 110611, 102472, 10...   \n",
       "4  [[101, 66263, 50172, 19685, 11420, 56785, 1012...   \n",
       "\n",
       "                                      attention_mask  \n",
       "0  [[1, 1, 1, 1, 1, 1, 1, 1, 1, 1, 1, 1, 1, 1, 1,...  \n",
       "1  [[1, 1, 1, 1, 1, 1, 1, 1, 1, 1, 1, 1, 1, 1, 1,...  \n",
       "2  [[1, 1, 1, 1, 1, 1, 1, 1, 1, 1, 1, 1, 1, 1, 1,...  \n",
       "3  [[1, 1, 1, 1, 1, 1, 1, 1, 1, 1, 1, 1, 1, 1, 1,...  \n",
       "4  [[1, 1, 1, 1, 1, 1, 1, 1, 1, 1, 1, 1, 1, 1, 1,...  "
      ]
     },
     "execution_count": 33,
     "metadata": {},
     "output_type": "execute_result"
    }
   ],
   "source": [
    "# Viewing the dataframe:\n",
    "\n",
    "df_toxic_test_.head()"
   ]
  },
  {
   "cell_type": "code",
   "execution_count": 34,
   "id": "b2d28c15",
   "metadata": {
    "execution": {
     "iopub.execute_input": "2024-03-01T19:26:13.677684Z",
     "iopub.status.busy": "2024-03-01T19:26:13.677400Z",
     "iopub.status.idle": "2024-03-01T19:26:13.699360Z",
     "shell.execute_reply": "2024-03-01T19:26:13.698589Z"
    },
    "papermill": {
     "duration": 0.049233,
     "end_time": "2024-03-01T19:26:13.701487",
     "exception": false,
     "start_time": "2024-03-01T19:26:13.652254",
     "status": "completed"
    },
    "tags": []
   },
   "outputs": [],
   "source": [
    "# Collecting only the Input_ids and Attention_mask of dataframes:\n",
    "\n",
    "#train\n",
    "df_train_['input_ids'] = df_train_['input_ids'].apply(lambda x: x[0])\n",
    "df_train_['attention_mask'] = df_train_['attention_mask'].apply(lambda x: x[0])\n",
    "\n",
    "#validation\n",
    "df_val_['input_ids'] = df_val_['input_ids'].apply(lambda x: x[0])\n",
    "df_val_['attention_mask'] = df_val_['attention_mask'].apply(lambda x: x[0])\n",
    "\n",
    "#test\n",
    "df_toxic_test_['input_ids'] = df_toxic_test_['input_ids'].apply(lambda x: x[0])\n",
    "df_toxic_test_['attention_mask'] = df_toxic_test_['attention_mask'].apply(lambda x: x[0])"
   ]
  },
  {
   "cell_type": "code",
   "execution_count": 35,
   "id": "19ec44ec",
   "metadata": {
    "execution": {
     "iopub.execute_input": "2024-03-01T19:26:13.756643Z",
     "iopub.status.busy": "2024-03-01T19:26:13.756042Z",
     "iopub.status.idle": "2024-03-01T19:26:13.775064Z",
     "shell.execute_reply": "2024-03-01T19:26:13.774163Z"
    },
    "papermill": {
     "duration": 0.048745,
     "end_time": "2024-03-01T19:26:13.777221",
     "exception": false,
     "start_time": "2024-03-01T19:26:13.728476",
     "status": "completed"
    },
    "tags": []
   },
   "outputs": [
    {
     "data": {
      "text/html": [
       "<div>\n",
       "<style scoped>\n",
       "    .dataframe tbody tr th:only-of-type {\n",
       "        vertical-align: middle;\n",
       "    }\n",
       "\n",
       "    .dataframe tbody tr th {\n",
       "        vertical-align: top;\n",
       "    }\n",
       "\n",
       "    .dataframe thead th {\n",
       "        text-align: right;\n",
       "    }\n",
       "</style>\n",
       "<table border=\"1\" class=\"dataframe\">\n",
       "  <thead>\n",
       "    <tr style=\"text-align: right;\">\n",
       "      <th></th>\n",
       "      <th>text</th>\n",
       "      <th>label</th>\n",
       "      <th>input_ids</th>\n",
       "      <th>attention_mask</th>\n",
       "    </tr>\n",
       "  </thead>\n",
       "  <tbody>\n",
       "    <tr>\n",
       "      <th>8361</th>\n",
       "      <td>nunca vou esquecereeer</td>\n",
       "      <td>0</td>\n",
       "      <td>[101, 19096, 12556, 10138, 10196, 11189, 51159...</td>\n",
       "      <td>[1, 1, 1, 1, 1, 1, 1, 1, 1, 0, 0, 0, 0, 0, 0, ...</td>\n",
       "    </tr>\n",
       "    <tr>\n",
       "      <th>2666</th>\n",
       "      <td>paraíba do dindo 👏👊</td>\n",
       "      <td>0</td>\n",
       "      <td>[101, 10220, 10545, 10537, 10149, 10595, 10317...</td>\n",
       "      <td>[1, 1, 1, 1, 1, 1, 1, 1, 1, 0, 0, 0, 0, 0, 0, ...</td>\n",
       "    </tr>\n",
       "    <tr>\n",
       "      <th>916</th>\n",
       "      <td>ele tem bicha</td>\n",
       "      <td>1</td>\n",
       "      <td>[101, 12637, 12900, 11342, 12964, 102, 0, 0, 0...</td>\n",
       "      <td>[1, 1, 1, 1, 1, 1, 0, 0, 0, 0, 0, 0, 0, 0, 0, ...</td>\n",
       "    </tr>\n",
       "    <tr>\n",
       "      <th>6896</th>\n",
       "      <td>nossa senhora que mulher que mulher meus amigo...</td>\n",
       "      <td>1</td>\n",
       "      <td>[101, 11573, 10466, 109838, 10113, 10121, 4315...</td>\n",
       "      <td>[1, 1, 1, 1, 1, 1, 1, 1, 1, 1, 1, 1, 1, 1, 1, ...</td>\n",
       "    </tr>\n",
       "    <tr>\n",
       "      <th>8140</th>\n",
       "      <td>estes são tipo os filhos gémeos do jmendes não...</td>\n",
       "      <td>0</td>\n",
       "      <td>[101, 27902, 12372, 13113, 10427, 37793, 175, ...</td>\n",
       "      <td>[1, 1, 1, 1, 1, 1, 1, 1, 1, 1, 1, 1, 1, 1, 1, ...</td>\n",
       "    </tr>\n",
       "  </tbody>\n",
       "</table>\n",
       "</div>"
      ],
      "text/plain": [
       "                                                   text  label  \\\n",
       "8361                             nunca vou esquecereeer      0   \n",
       "2666                                paraíba do dindo 👏👊      0   \n",
       "916                                       ele tem bicha      1   \n",
       "6896  nossa senhora que mulher que mulher meus amigo...      1   \n",
       "8140  estes são tipo os filhos gémeos do jmendes não...      0   \n",
       "\n",
       "                                              input_ids  \\\n",
       "8361  [101, 19096, 12556, 10138, 10196, 11189, 51159...   \n",
       "2666  [101, 10220, 10545, 10537, 10149, 10595, 10317...   \n",
       "916   [101, 12637, 12900, 11342, 12964, 102, 0, 0, 0...   \n",
       "6896  [101, 11573, 10466, 109838, 10113, 10121, 4315...   \n",
       "8140  [101, 27902, 12372, 13113, 10427, 37793, 175, ...   \n",
       "\n",
       "                                         attention_mask  \n",
       "8361  [1, 1, 1, 1, 1, 1, 1, 1, 1, 0, 0, 0, 0, 0, 0, ...  \n",
       "2666  [1, 1, 1, 1, 1, 1, 1, 1, 1, 0, 0, 0, 0, 0, 0, ...  \n",
       "916   [1, 1, 1, 1, 1, 1, 0, 0, 0, 0, 0, 0, 0, 0, 0, ...  \n",
       "6896  [1, 1, 1, 1, 1, 1, 1, 1, 1, 1, 1, 1, 1, 1, 1, ...  \n",
       "8140  [1, 1, 1, 1, 1, 1, 1, 1, 1, 1, 1, 1, 1, 1, 1, ...  "
      ]
     },
     "execution_count": 35,
     "metadata": {},
     "output_type": "execute_result"
    }
   ],
   "source": [
    "# Viewing the dataframe:\n",
    "\n",
    "df_train_.head()"
   ]
  },
  {
   "cell_type": "code",
   "execution_count": 36,
   "id": "87dfa43e",
   "metadata": {
    "execution": {
     "iopub.execute_input": "2024-03-01T19:26:13.827642Z",
     "iopub.status.busy": "2024-03-01T19:26:13.827385Z",
     "iopub.status.idle": "2024-03-01T19:26:13.845012Z",
     "shell.execute_reply": "2024-03-01T19:26:13.844031Z"
    },
    "papermill": {
     "duration": 0.044671,
     "end_time": "2024-03-01T19:26:13.847072",
     "exception": false,
     "start_time": "2024-03-01T19:26:13.802401",
     "status": "completed"
    },
    "tags": []
   },
   "outputs": [
    {
     "data": {
      "text/html": [
       "<div>\n",
       "<style scoped>\n",
       "    .dataframe tbody tr th:only-of-type {\n",
       "        vertical-align: middle;\n",
       "    }\n",
       "\n",
       "    .dataframe tbody tr th {\n",
       "        vertical-align: top;\n",
       "    }\n",
       "\n",
       "    .dataframe thead th {\n",
       "        text-align: right;\n",
       "    }\n",
       "</style>\n",
       "<table border=\"1\" class=\"dataframe\">\n",
       "  <thead>\n",
       "    <tr style=\"text-align: right;\">\n",
       "      <th></th>\n",
       "      <th>text</th>\n",
       "      <th>label</th>\n",
       "      <th>input_ids</th>\n",
       "      <th>attention_mask</th>\n",
       "    </tr>\n",
       "  </thead>\n",
       "  <tbody>\n",
       "    <tr>\n",
       "      <th>130</th>\n",
       "      <td>continua sendo fofo so que tu é a anã😍</td>\n",
       "      <td>0</td>\n",
       "      <td>[101, 24918, 14085, 174, 20324, 10133, 10380, ...</td>\n",
       "      <td>[1, 1, 1, 1, 1, 1, 1, 1, 1, 1, 1, 1, 1, 0, 0, ...</td>\n",
       "    </tr>\n",
       "    <tr>\n",
       "      <th>1479</th>\n",
       "      <td>a sofia tem algo a dizer ao hugo strada</td>\n",
       "      <td>0</td>\n",
       "      <td>[101, 169, 10380, 29347, 12900, 23492, 169, 97...</td>\n",
       "      <td>[1, 1, 1, 1, 1, 1, 1, 1, 1, 1, 1, 1, 1, 0, 0, ...</td>\n",
       "    </tr>\n",
       "    <tr>\n",
       "      <th>1826</th>\n",
       "      <td>ai a criatura nem tá falando comigo kkkkkkkkk ...</td>\n",
       "      <td>0</td>\n",
       "      <td>[101, 11346, 169, 171, 65441, 11465, 11558, 30...</td>\n",
       "      <td>[1, 1, 1, 1, 1, 1, 1, 1, 1, 1, 1, 1, 1, 1, 1, ...</td>\n",
       "    </tr>\n",
       "    <tr>\n",
       "      <th>15055</th>\n",
       "      <td>de tanto stories que eu vi eu já conheço mais ...</td>\n",
       "      <td>0</td>\n",
       "      <td>[101, 10104, 12921, 21158, 10121, 14444, 13956...</td>\n",
       "      <td>[1, 1, 1, 1, 1, 1, 1, 1, 1, 1, 1, 1, 1, 1, 1, ...</td>\n",
       "    </tr>\n",
       "    <tr>\n",
       "      <th>9929</th>\n",
       "      <td>se quer blz otimo eh nois nao quer tchau e por...</td>\n",
       "      <td>1</td>\n",
       "      <td>[101, 10126, 59599, 78080, 60818, 15487, 173, ...</td>\n",
       "      <td>[1, 1, 1, 1, 1, 1, 1, 1, 1, 1, 1, 1, 1, 1, 1, ...</td>\n",
       "    </tr>\n",
       "  </tbody>\n",
       "</table>\n",
       "</div>"
      ],
      "text/plain": [
       "                                                    text  label  \\\n",
       "130               continua sendo fofo so que tu é a anã😍      0   \n",
       "1479             a sofia tem algo a dizer ao hugo strada      0   \n",
       "1826   ai a criatura nem tá falando comigo kkkkkkkkk ...      0   \n",
       "15055  de tanto stories que eu vi eu já conheço mais ...      0   \n",
       "9929   se quer blz otimo eh nois nao quer tchau e por...      1   \n",
       "\n",
       "                                               input_ids  \\\n",
       "130    [101, 24918, 14085, 174, 20324, 10133, 10380, ...   \n",
       "1479   [101, 169, 10380, 29347, 12900, 23492, 169, 97...   \n",
       "1826   [101, 11346, 169, 171, 65441, 11465, 11558, 30...   \n",
       "15055  [101, 10104, 12921, 21158, 10121, 14444, 13956...   \n",
       "9929   [101, 10126, 59599, 78080, 60818, 15487, 173, ...   \n",
       "\n",
       "                                          attention_mask  \n",
       "130    [1, 1, 1, 1, 1, 1, 1, 1, 1, 1, 1, 1, 1, 0, 0, ...  \n",
       "1479   [1, 1, 1, 1, 1, 1, 1, 1, 1, 1, 1, 1, 1, 0, 0, ...  \n",
       "1826   [1, 1, 1, 1, 1, 1, 1, 1, 1, 1, 1, 1, 1, 1, 1, ...  \n",
       "15055  [1, 1, 1, 1, 1, 1, 1, 1, 1, 1, 1, 1, 1, 1, 1, ...  \n",
       "9929   [1, 1, 1, 1, 1, 1, 1, 1, 1, 1, 1, 1, 1, 1, 1, ...  "
      ]
     },
     "execution_count": 36,
     "metadata": {},
     "output_type": "execute_result"
    }
   ],
   "source": [
    "# Viewing the dataframe:\n",
    "\n",
    "df_val_.tail()"
   ]
  },
  {
   "cell_type": "code",
   "execution_count": 37,
   "id": "24fde2de",
   "metadata": {
    "execution": {
     "iopub.execute_input": "2024-03-01T19:26:13.899939Z",
     "iopub.status.busy": "2024-03-01T19:26:13.899434Z",
     "iopub.status.idle": "2024-03-01T19:26:13.914796Z",
     "shell.execute_reply": "2024-03-01T19:26:13.914071Z"
    },
    "papermill": {
     "duration": 0.044376,
     "end_time": "2024-03-01T19:26:13.916796",
     "exception": false,
     "start_time": "2024-03-01T19:26:13.872420",
     "status": "completed"
    },
    "tags": []
   },
   "outputs": [
    {
     "data": {
      "text/html": [
       "<div>\n",
       "<style scoped>\n",
       "    .dataframe tbody tr th:only-of-type {\n",
       "        vertical-align: middle;\n",
       "    }\n",
       "\n",
       "    .dataframe tbody tr th {\n",
       "        vertical-align: top;\n",
       "    }\n",
       "\n",
       "    .dataframe thead th {\n",
       "        text-align: right;\n",
       "    }\n",
       "</style>\n",
       "<table border=\"1\" class=\"dataframe\">\n",
       "  <thead>\n",
       "    <tr style=\"text-align: right;\">\n",
       "      <th></th>\n",
       "      <th>text</th>\n",
       "      <th>input_ids</th>\n",
       "      <th>attention_mask</th>\n",
       "    </tr>\n",
       "  </thead>\n",
       "  <tbody>\n",
       "    <tr>\n",
       "      <th>0</th>\n",
       "      <td>nossa mano te odeio na moral kkkkkkkkkkkkkkkkkkk</td>\n",
       "      <td>[101, 11573, 10466, 19271, 10361, 10311, 11998...</td>\n",
       "      <td>[1, 1, 1, 1, 1, 1, 1, 1, 1, 1, 1, 1, 1, 1, 1, ...</td>\n",
       "    </tr>\n",
       "    <tr>\n",
       "      <th>1</th>\n",
       "      <td>a edição ficou muito boa kkkkkkkkkkk mas falto...</td>\n",
       "      <td>[101, 169, 26898, 30976, 16159, 47071, 179, 20...</td>\n",
       "      <td>[1, 1, 1, 1, 1, 1, 1, 1, 1, 1, 1, 1, 1, 1, 1, ...</td>\n",
       "    </tr>\n",
       "    <tr>\n",
       "      <th>2</th>\n",
       "      <td>largada vá visto que a vaca anda à solta 😂</td>\n",
       "      <td>[101, 31854, 10229, 190, 10661, 22076, 10121, ...</td>\n",
       "      <td>[1, 1, 1, 1, 1, 1, 1, 1, 1, 1, 1, 1, 1, 1, 1, ...</td>\n",
       "    </tr>\n",
       "    <tr>\n",
       "      <th>3</th>\n",
       "      <td>poxa eu queria ganhar um boné alguém me da um ...</td>\n",
       "      <td>[101, 10514, 14220, 14444, 110611, 102472, 102...</td>\n",
       "      <td>[1, 1, 1, 1, 1, 1, 1, 1, 1, 1, 1, 1, 1, 1, 1, ...</td>\n",
       "    </tr>\n",
       "    <tr>\n",
       "      <th>4</th>\n",
       "      <td>amiga tudo bem não precisa se desculpar com el...</td>\n",
       "      <td>[101, 66263, 50172, 19685, 11420, 56785, 10126...</td>\n",
       "      <td>[1, 1, 1, 1, 1, 1, 1, 1, 1, 1, 1, 1, 1, 1, 1, ...</td>\n",
       "    </tr>\n",
       "  </tbody>\n",
       "</table>\n",
       "</div>"
      ],
      "text/plain": [
       "                                                text  \\\n",
       "0   nossa mano te odeio na moral kkkkkkkkkkkkkkkkkkk   \n",
       "1  a edição ficou muito boa kkkkkkkkkkk mas falto...   \n",
       "2         largada vá visto que a vaca anda à solta 😂   \n",
       "3  poxa eu queria ganhar um boné alguém me da um ...   \n",
       "4  amiga tudo bem não precisa se desculpar com el...   \n",
       "\n",
       "                                           input_ids  \\\n",
       "0  [101, 11573, 10466, 19271, 10361, 10311, 11998...   \n",
       "1  [101, 169, 26898, 30976, 16159, 47071, 179, 20...   \n",
       "2  [101, 31854, 10229, 190, 10661, 22076, 10121, ...   \n",
       "3  [101, 10514, 14220, 14444, 110611, 102472, 102...   \n",
       "4  [101, 66263, 50172, 19685, 11420, 56785, 10126...   \n",
       "\n",
       "                                      attention_mask  \n",
       "0  [1, 1, 1, 1, 1, 1, 1, 1, 1, 1, 1, 1, 1, 1, 1, ...  \n",
       "1  [1, 1, 1, 1, 1, 1, 1, 1, 1, 1, 1, 1, 1, 1, 1, ...  \n",
       "2  [1, 1, 1, 1, 1, 1, 1, 1, 1, 1, 1, 1, 1, 1, 1, ...  \n",
       "3  [1, 1, 1, 1, 1, 1, 1, 1, 1, 1, 1, 1, 1, 1, 1, ...  \n",
       "4  [1, 1, 1, 1, 1, 1, 1, 1, 1, 1, 1, 1, 1, 1, 1, ...  "
      ]
     },
     "execution_count": 37,
     "metadata": {},
     "output_type": "execute_result"
    }
   ],
   "source": [
    "# Viewing the dataframe:\n",
    "\n",
    "df_toxic_test_.head()"
   ]
  },
  {
   "cell_type": "code",
   "execution_count": 38,
   "id": "34cd9469",
   "metadata": {
    "execution": {
     "iopub.execute_input": "2024-03-01T19:26:13.967372Z",
     "iopub.status.busy": "2024-03-01T19:26:13.967079Z",
     "iopub.status.idle": "2024-03-01T19:26:14.179431Z",
     "shell.execute_reply": "2024-03-01T19:26:14.178461Z"
    },
    "papermill": {
     "duration": 0.240198,
     "end_time": "2024-03-01T19:26:14.181842",
     "exception": false,
     "start_time": "2024-03-01T19:26:13.941644",
     "status": "completed"
    },
    "tags": []
   },
   "outputs": [],
   "source": [
    "# Creating the datasets for training:\n",
    "\n",
    "dataset_train = Dataset.from_pandas(df_train_)\n",
    "dataset_val = Dataset.from_pandas(df_val_)\n",
    "dataset_test = Dataset.from_pandas(df_toxic_test_)\n",
    "\n",
    "dataset_dict = DatasetDict({\"train\": dataset_train,\n",
    "                            \"validation\": dataset_val, \n",
    "                            \"test\":dataset_test})"
   ]
  },
  {
   "cell_type": "code",
   "execution_count": 39,
   "id": "cbf878b5",
   "metadata": {
    "execution": {
     "iopub.execute_input": "2024-03-01T19:26:14.234213Z",
     "iopub.status.busy": "2024-03-01T19:26:14.233393Z",
     "iopub.status.idle": "2024-03-01T19:26:14.239683Z",
     "shell.execute_reply": "2024-03-01T19:26:14.238836Z"
    },
    "papermill": {
     "duration": 0.033841,
     "end_time": "2024-03-01T19:26:14.241563",
     "exception": false,
     "start_time": "2024-03-01T19:26:14.207722",
     "status": "completed"
    },
    "tags": []
   },
   "outputs": [
    {
     "data": {
      "text/plain": [
       "DatasetDict({\n",
       "    train: Dataset({\n",
       "        features: ['text', 'label', 'input_ids', 'attention_mask', '__index_level_0__'],\n",
       "        num_rows: 11759\n",
       "    })\n",
       "    validation: Dataset({\n",
       "        features: ['text', 'label', 'input_ids', 'attention_mask', '__index_level_0__'],\n",
       "        num_rows: 5041\n",
       "    })\n",
       "    test: Dataset({\n",
       "        features: ['text', 'input_ids', 'attention_mask'],\n",
       "        num_rows: 4200\n",
       "    })\n",
       "})"
      ]
     },
     "execution_count": 39,
     "metadata": {},
     "output_type": "execute_result"
    }
   ],
   "source": [
    "# Viewing the Dataset:\n",
    "\n",
    "dataset_dict"
   ]
  },
  {
   "cell_type": "code",
   "execution_count": 40,
   "id": "b73debd9",
   "metadata": {
    "execution": {
     "iopub.execute_input": "2024-03-01T19:26:14.295344Z",
     "iopub.status.busy": "2024-03-01T19:26:14.294938Z",
     "iopub.status.idle": "2024-03-01T19:26:14.299260Z",
     "shell.execute_reply": "2024-03-01T19:26:14.298346Z"
    },
    "papermill": {
     "duration": 0.034859,
     "end_time": "2024-03-01T19:26:14.301349",
     "exception": false,
     "start_time": "2024-03-01T19:26:14.266490",
     "status": "completed"
    },
    "tags": []
   },
   "outputs": [],
   "source": [
    "# Loading Data_collator:\n",
    "\n",
    "data_collator = DataCollatorWithPadding(tokenizer=tokenizer)"
   ]
  },
  {
   "cell_type": "code",
   "execution_count": 41,
   "id": "7688153c",
   "metadata": {
    "execution": {
     "iopub.execute_input": "2024-03-01T19:26:14.356981Z",
     "iopub.status.busy": "2024-03-01T19:26:14.356690Z",
     "iopub.status.idle": "2024-03-01T19:26:17.508234Z",
     "shell.execute_reply": "2024-03-01T19:26:17.507359Z"
    },
    "papermill": {
     "duration": 3.181296,
     "end_time": "2024-03-01T19:26:17.510150",
     "exception": false,
     "start_time": "2024-03-01T19:26:14.328854",
     "status": "completed"
    },
    "tags": []
   },
   "outputs": [
    {
     "data": {
      "application/vnd.jupyter.widget-view+json": {
       "model_id": "69f2f07695fc465c93f4bda45cf275f5",
       "version_major": 2,
       "version_minor": 0
      },
      "text/plain": [
       "Downloading builder script:   0%|          | 0.00/4.20k [00:00<?, ?B/s]"
      ]
     },
     "metadata": {},
     "output_type": "display_data"
    },
    {
     "data": {
      "application/vnd.jupyter.widget-view+json": {
       "model_id": "9ed320c3406e4c0089916ef8532927f4",
       "version_major": 2,
       "version_minor": 0
      },
      "text/plain": [
       "Downloading builder script:   0%|          | 0.00/6.77k [00:00<?, ?B/s]"
      ]
     },
     "metadata": {},
     "output_type": "display_data"
    },
    {
     "data": {
      "application/vnd.jupyter.widget-view+json": {
       "model_id": "b7d73eabb0424b61bc4890b039e0966f",
       "version_major": 2,
       "version_minor": 0
      },
      "text/plain": [
       "Downloading builder script:   0%|          | 0.00/7.55k [00:00<?, ?B/s]"
      ]
     },
     "metadata": {},
     "output_type": "display_data"
    },
    {
     "data": {
      "application/vnd.jupyter.widget-view+json": {
       "model_id": "40839a037cc34b80b91afd747ad8cc2e",
       "version_major": 2,
       "version_minor": 0
      },
      "text/plain": [
       "Downloading builder script:   0%|          | 0.00/7.36k [00:00<?, ?B/s]"
      ]
     },
     "metadata": {},
     "output_type": "display_data"
    }
   ],
   "source": [
    "# Loading metrics:\n",
    "\n",
    "metric = evaluate.combine([\"accuracy\", \"f1\", \"precision\", \"recall\"])"
   ]
  },
  {
   "cell_type": "code",
   "execution_count": 42,
   "id": "4fba4ae9",
   "metadata": {
    "execution": {
     "iopub.execute_input": "2024-03-01T19:26:17.564280Z",
     "iopub.status.busy": "2024-03-01T19:26:17.563932Z",
     "iopub.status.idle": "2024-03-01T19:26:17.570366Z",
     "shell.execute_reply": "2024-03-01T19:26:17.569453Z"
    },
    "papermill": {
     "duration": 0.036097,
     "end_time": "2024-03-01T19:26:17.572380",
     "exception": false,
     "start_time": "2024-03-01T19:26:17.536283",
     "status": "completed"
    },
    "tags": []
   },
   "outputs": [],
   "source": [
    "# Configuring metrics:\n",
    "\n",
    "def compute_metrics(eval_pred):\n",
    "    \n",
    "    predictions = eval_pred.predictions\n",
    "    labels = eval_pred.label_ids\n",
    "\n",
    "    predictions = np.array(predictions)\n",
    "    predicted_labels = np.argmax(predictions, axis=1)\n",
    "    \n",
    "    accuracy = accuracy_score(labels, predicted_labels)\n",
    "    precision = precision_score(labels, predicted_labels)\n",
    "    recall = recall_score(labels, predicted_labels)\n",
    "    f1 = f1_score(labels, predicted_labels)\n",
    "    \n",
    "    return {'accuracy': accuracy, 'precision': precision, 'recall': recall, 'f1': f1}"
   ]
  },
  {
   "cell_type": "code",
   "execution_count": 43,
   "id": "102eeddd",
   "metadata": {
    "execution": {
     "iopub.execute_input": "2024-03-01T19:26:17.624775Z",
     "iopub.status.busy": "2024-03-01T19:26:17.624496Z",
     "iopub.status.idle": "2024-03-01T19:26:17.628684Z",
     "shell.execute_reply": "2024-03-01T19:26:17.627869Z"
    },
    "papermill": {
     "duration": 0.031894,
     "end_time": "2024-03-01T19:26:17.630476",
     "exception": false,
     "start_time": "2024-03-01T19:26:17.598582",
     "status": "completed"
    },
    "tags": []
   },
   "outputs": [],
   "source": [
    "# Creating the label ID:\n",
    "\n",
    "id2label = {0:'nao_toxico', 1:'toxico'}\n",
    "\n",
    "label2id = {'nao_toxico':0, 'toxico':1}"
   ]
  },
  {
   "cell_type": "code",
   "execution_count": 44,
   "id": "1cc59606",
   "metadata": {
    "execution": {
     "iopub.execute_input": "2024-03-01T19:26:17.683391Z",
     "iopub.status.busy": "2024-03-01T19:26:17.683032Z",
     "iopub.status.idle": "2024-03-01T19:26:20.618611Z",
     "shell.execute_reply": "2024-03-01T19:26:20.617808Z"
    },
    "papermill": {
     "duration": 2.965275,
     "end_time": "2024-03-01T19:26:20.620931",
     "exception": false,
     "start_time": "2024-03-01T19:26:17.655656",
     "status": "completed"
    },
    "tags": []
   },
   "outputs": [
    {
     "data": {
      "application/vnd.jupyter.widget-view+json": {
       "model_id": "6e7715e4b4464f93924069a29eb30aa1",
       "version_major": 2,
       "version_minor": 0
      },
      "text/plain": [
       "config.json:   0%|          | 0.00/774 [00:00<?, ?B/s]"
      ]
     },
     "metadata": {},
     "output_type": "display_data"
    },
    {
     "data": {
      "application/vnd.jupyter.widget-view+json": {
       "model_id": "b5942a40c7fb448dbde44f9fe1f7c805",
       "version_major": 2,
       "version_minor": 0
      },
      "text/plain": [
       "pytorch_model.bin:   0%|          | 0.00/541M [00:00<?, ?B/s]"
      ]
     },
     "metadata": {},
     "output_type": "display_data"
    },
    {
     "name": "stderr",
     "output_type": "stream",
     "text": [
      "/opt/conda/lib/python3.10/site-packages/torch/_utils.py:831: UserWarning: TypedStorage is deprecated. It will be removed in the future and UntypedStorage will be the only storage class. This should only matter to you if you are using storages directly.  To access UntypedStorage directly, use tensor.untyped_storage() instead of tensor.storage()\n",
      "  return self.fget.__get__(instance, owner)()\n"
     ]
    }
   ],
   "source": [
    "# Loading the model:\n",
    "\n",
    "model = AutoModelForSequenceClassification.from_pretrained('citizenlab/distilbert-base-multilingual-cased-toxicity', \n",
    "                                                           num_labels=2, \n",
    "                                                           id2label=id2label, \n",
    "                                                           label2id=label2id)"
   ]
  },
  {
   "cell_type": "code",
   "execution_count": 45,
   "id": "847e003a",
   "metadata": {
    "execution": {
     "iopub.execute_input": "2024-03-01T19:26:20.674479Z",
     "iopub.status.busy": "2024-03-01T19:26:20.674171Z",
     "iopub.status.idle": "2024-03-01T19:26:20.681317Z",
     "shell.execute_reply": "2024-03-01T19:26:20.680480Z"
    },
    "papermill": {
     "duration": 0.03568,
     "end_time": "2024-03-01T19:26:20.683283",
     "exception": false,
     "start_time": "2024-03-01T19:26:20.647603",
     "status": "completed"
    },
    "tags": []
   },
   "outputs": [
    {
     "data": {
      "text/plain": [
       "DistilBertForSequenceClassification(\n",
       "  (distilbert): DistilBertModel(\n",
       "    (embeddings): Embeddings(\n",
       "      (word_embeddings): Embedding(119547, 768, padding_idx=0)\n",
       "      (position_embeddings): Embedding(512, 768)\n",
       "      (LayerNorm): LayerNorm((768,), eps=1e-12, elementwise_affine=True)\n",
       "      (dropout): Dropout(p=0.1, inplace=False)\n",
       "    )\n",
       "    (transformer): Transformer(\n",
       "      (layer): ModuleList(\n",
       "        (0-5): 6 x TransformerBlock(\n",
       "          (attention): MultiHeadSelfAttention(\n",
       "            (dropout): Dropout(p=0.1, inplace=False)\n",
       "            (q_lin): Linear(in_features=768, out_features=768, bias=True)\n",
       "            (k_lin): Linear(in_features=768, out_features=768, bias=True)\n",
       "            (v_lin): Linear(in_features=768, out_features=768, bias=True)\n",
       "            (out_lin): Linear(in_features=768, out_features=768, bias=True)\n",
       "          )\n",
       "          (sa_layer_norm): LayerNorm((768,), eps=1e-12, elementwise_affine=True)\n",
       "          (ffn): FFN(\n",
       "            (dropout): Dropout(p=0.1, inplace=False)\n",
       "            (lin1): Linear(in_features=768, out_features=3072, bias=True)\n",
       "            (lin2): Linear(in_features=3072, out_features=768, bias=True)\n",
       "            (activation): GELUActivation()\n",
       "          )\n",
       "          (output_layer_norm): LayerNorm((768,), eps=1e-12, elementwise_affine=True)\n",
       "        )\n",
       "      )\n",
       "    )\n",
       "  )\n",
       "  (pre_classifier): Linear(in_features=768, out_features=768, bias=True)\n",
       "  (classifier): Linear(in_features=768, out_features=2, bias=True)\n",
       "  (dropout): Dropout(p=0.2, inplace=False)\n",
       ")"
      ]
     },
     "execution_count": 45,
     "metadata": {},
     "output_type": "execute_result"
    }
   ],
   "source": [
    "# Viewing model settings:\n",
    "\n",
    "model"
   ]
  },
  {
   "cell_type": "code",
   "execution_count": 46,
   "id": "abbca581",
   "metadata": {
    "execution": {
     "iopub.execute_input": "2024-03-01T19:26:20.737352Z",
     "iopub.status.busy": "2024-03-01T19:26:20.736581Z",
     "iopub.status.idle": "2024-03-01T19:26:20.747613Z",
     "shell.execute_reply": "2024-03-01T19:26:20.746737Z"
    },
    "papermill": {
     "duration": 0.040022,
     "end_time": "2024-03-01T19:26:20.749512",
     "exception": false,
     "start_time": "2024-03-01T19:26:20.709490",
     "status": "completed"
    },
    "tags": []
   },
   "outputs": [],
   "source": [
    "# Configuring the last layer of the model:\n",
    "\n",
    "last_layer = model.classifier\n",
    "\n",
    "#Dropout Layer\n",
    "last_layer.dropout = nn.Dropout(0.5)\n",
    "\n",
    "#Activation\n",
    "last_layer.activation = nn.Softmax()\n",
    "\n",
    "#Linear Layer\n",
    "last_layer.linear = nn.Linear(1024, 2)\n",
    "\n",
    "#Optimization and Loss Function\n",
    "optimizer = torch.optim.AdamW(model.parameters(), lr=1e-5, weight_decay=1e-2) # Defining the optimizer\n",
    "loss_fn = torch.nn.CrossEntropyLoss() # Defining the loss function"
   ]
  },
  {
   "cell_type": "code",
   "execution_count": 47,
   "id": "f88a6b6e",
   "metadata": {
    "execution": {
     "iopub.execute_input": "2024-03-01T19:26:20.805399Z",
     "iopub.status.busy": "2024-03-01T19:26:20.805054Z",
     "iopub.status.idle": "2024-03-01T19:26:21.098163Z",
     "shell.execute_reply": "2024-03-01T19:26:21.097117Z"
    },
    "papermill": {
     "duration": 0.324813,
     "end_time": "2024-03-01T19:26:21.100415",
     "exception": false,
     "start_time": "2024-03-01T19:26:20.775602",
     "status": "completed"
    },
    "tags": []
   },
   "outputs": [
    {
     "data": {
      "text/plain": [
       "DistilBertForSequenceClassification(\n",
       "  (distilbert): DistilBertModel(\n",
       "    (embeddings): Embeddings(\n",
       "      (word_embeddings): Embedding(119547, 768, padding_idx=0)\n",
       "      (position_embeddings): Embedding(512, 768)\n",
       "      (LayerNorm): LayerNorm((768,), eps=1e-12, elementwise_affine=True)\n",
       "      (dropout): Dropout(p=0.1, inplace=False)\n",
       "    )\n",
       "    (transformer): Transformer(\n",
       "      (layer): ModuleList(\n",
       "        (0-5): 6 x TransformerBlock(\n",
       "          (attention): MultiHeadSelfAttention(\n",
       "            (dropout): Dropout(p=0.1, inplace=False)\n",
       "            (q_lin): Linear(in_features=768, out_features=768, bias=True)\n",
       "            (k_lin): Linear(in_features=768, out_features=768, bias=True)\n",
       "            (v_lin): Linear(in_features=768, out_features=768, bias=True)\n",
       "            (out_lin): Linear(in_features=768, out_features=768, bias=True)\n",
       "          )\n",
       "          (sa_layer_norm): LayerNorm((768,), eps=1e-12, elementwise_affine=True)\n",
       "          (ffn): FFN(\n",
       "            (dropout): Dropout(p=0.1, inplace=False)\n",
       "            (lin1): Linear(in_features=768, out_features=3072, bias=True)\n",
       "            (lin2): Linear(in_features=3072, out_features=768, bias=True)\n",
       "            (activation): GELUActivation()\n",
       "          )\n",
       "          (output_layer_norm): LayerNorm((768,), eps=1e-12, elementwise_affine=True)\n",
       "        )\n",
       "      )\n",
       "    )\n",
       "  )\n",
       "  (pre_classifier): Linear(in_features=768, out_features=768, bias=True)\n",
       "  (classifier): Linear(\n",
       "    in_features=768, out_features=2, bias=True\n",
       "    (dropout): Dropout(p=0.5, inplace=False)\n",
       "    (activation): Softmax(dim=None)\n",
       "    (linear): Linear(in_features=1024, out_features=2, bias=True)\n",
       "  )\n",
       "  (dropout): Dropout(p=0.2, inplace=False)\n",
       ")"
      ]
     },
     "execution_count": 47,
     "metadata": {},
     "output_type": "execute_result"
    }
   ],
   "source": [
    "# Moving the model to the GPU:\n",
    "\n",
    "model.to(device)"
   ]
  },
  {
   "cell_type": "code",
   "execution_count": 48,
   "id": "6dea5e06",
   "metadata": {
    "execution": {
     "iopub.execute_input": "2024-03-01T19:26:21.160979Z",
     "iopub.status.busy": "2024-03-01T19:26:21.160197Z",
     "iopub.status.idle": "2024-03-01T19:26:21.169859Z",
     "shell.execute_reply": "2024-03-01T19:26:21.168917Z"
    },
    "papermill": {
     "duration": 0.041732,
     "end_time": "2024-03-01T19:26:21.171901",
     "exception": false,
     "start_time": "2024-03-01T19:26:21.130169",
     "status": "completed"
    },
    "tags": []
   },
   "outputs": [],
   "source": [
    "# Model parameter settings:\n",
    "\n",
    "training_args = TrainingArguments(output_dir='/kaggle/working/check',\n",
    "                                  learning_rate=2e-5,\n",
    "                                  per_device_train_batch_size=16,\n",
    "                                  per_device_eval_batch_size=16,\n",
    "                                  num_train_epochs=10,\n",
    "                                  weight_decay=0.01,\n",
    "                                  evaluation_strategy=\"epoch\",\n",
    "                                  save_strategy=\"epoch\",\n",
    "                                  load_best_model_at_end=True,\n",
    "                                  push_to_hub=False)"
   ]
  },
  {
   "cell_type": "code",
   "execution_count": 49,
   "id": "ce0aa92d",
   "metadata": {
    "execution": {
     "iopub.execute_input": "2024-03-01T19:26:21.227061Z",
     "iopub.status.busy": "2024-03-01T19:26:21.226106Z",
     "iopub.status.idle": "2024-03-01T19:26:21.252005Z",
     "shell.execute_reply": "2024-03-01T19:26:21.251068Z"
    },
    "papermill": {
     "duration": 0.055034,
     "end_time": "2024-03-01T19:26:21.253995",
     "exception": false,
     "start_time": "2024-03-01T19:26:21.198961",
     "status": "completed"
    },
    "tags": []
   },
   "outputs": [],
   "source": [
    "# Creating the Model Trainer:\n",
    "\n",
    "trainer = Trainer(model=model,\n",
    "                  args=training_args,\n",
    "                  train_dataset=dataset_dict['train'],\n",
    "                  eval_dataset=dataset_dict['validation'],\n",
    "                  tokenizer=tokenizer,\n",
    "                  data_collator=data_collator,\n",
    "                  compute_metrics=compute_metrics)"
   ]
  },
  {
   "cell_type": "code",
   "execution_count": 50,
   "id": "2a47ee9b",
   "metadata": {
    "execution": {
     "iopub.execute_input": "2024-03-01T19:26:21.313496Z",
     "iopub.status.busy": "2024-03-01T19:26:21.312953Z",
     "iopub.status.idle": "2024-03-01T19:36:36.117392Z",
     "shell.execute_reply": "2024-03-01T19:36:36.116290Z"
    },
    "papermill": {
     "duration": 614.869291,
     "end_time": "2024-03-01T19:36:36.152091",
     "exception": false,
     "start_time": "2024-03-01T19:26:21.282800",
     "status": "completed"
    },
    "tags": []
   },
   "outputs": [
    {
     "data": {
      "text/html": [
       "\n",
       "    <div>\n",
       "      \n",
       "      <progress value='7350' max='7350' style='width:300px; height:20px; vertical-align: middle;'></progress>\n",
       "      [7350/7350 10:13, Epoch 10/10]\n",
       "    </div>\n",
       "    <table border=\"1\" class=\"dataframe\">\n",
       "  <thead>\n",
       " <tr style=\"text-align: left;\">\n",
       "      <th>Epoch</th>\n",
       "      <th>Training Loss</th>\n",
       "      <th>Validation Loss</th>\n",
       "      <th>Accuracy</th>\n",
       "      <th>Precision</th>\n",
       "      <th>Recall</th>\n",
       "      <th>F1</th>\n",
       "    </tr>\n",
       "  </thead>\n",
       "  <tbody>\n",
       "    <tr>\n",
       "      <td>1</td>\n",
       "      <td>0.597900</td>\n",
       "      <td>0.504088</td>\n",
       "      <td>0.745685</td>\n",
       "      <td>0.685828</td>\n",
       "      <td>0.776322</td>\n",
       "      <td>0.728275</td>\n",
       "    </tr>\n",
       "    <tr>\n",
       "      <td>2</td>\n",
       "      <td>0.489400</td>\n",
       "      <td>0.493994</td>\n",
       "      <td>0.759373</td>\n",
       "      <td>0.710438</td>\n",
       "      <td>0.762765</td>\n",
       "      <td>0.735672</td>\n",
       "    </tr>\n",
       "    <tr>\n",
       "      <td>3</td>\n",
       "      <td>0.367600</td>\n",
       "      <td>0.574379</td>\n",
       "      <td>0.751637</td>\n",
       "      <td>0.725905</td>\n",
       "      <td>0.697695</td>\n",
       "      <td>0.711521</td>\n",
       "    </tr>\n",
       "    <tr>\n",
       "      <td>4</td>\n",
       "      <td>0.321600</td>\n",
       "      <td>0.705114</td>\n",
       "      <td>0.730609</td>\n",
       "      <td>0.652842</td>\n",
       "      <td>0.825124</td>\n",
       "      <td>0.728942</td>\n",
       "    </tr>\n",
       "    <tr>\n",
       "      <td>5</td>\n",
       "      <td>0.224200</td>\n",
       "      <td>0.843434</td>\n",
       "      <td>0.745487</td>\n",
       "      <td>0.720379</td>\n",
       "      <td>0.686850</td>\n",
       "      <td>0.703215</td>\n",
       "    </tr>\n",
       "    <tr>\n",
       "      <td>6</td>\n",
       "      <td>0.198700</td>\n",
       "      <td>1.027555</td>\n",
       "      <td>0.743305</td>\n",
       "      <td>0.693474</td>\n",
       "      <td>0.744239</td>\n",
       "      <td>0.717960</td>\n",
       "    </tr>\n",
       "    <tr>\n",
       "      <td>7</td>\n",
       "      <td>0.145900</td>\n",
       "      <td>1.097837</td>\n",
       "      <td>0.747471</td>\n",
       "      <td>0.698145</td>\n",
       "      <td>0.748305</td>\n",
       "      <td>0.722356</td>\n",
       "    </tr>\n",
       "    <tr>\n",
       "      <td>8</td>\n",
       "      <td>0.123900</td>\n",
       "      <td>1.339245</td>\n",
       "      <td>0.736560</td>\n",
       "      <td>0.666541</td>\n",
       "      <td>0.800271</td>\n",
       "      <td>0.727310</td>\n",
       "    </tr>\n",
       "    <tr>\n",
       "      <td>9</td>\n",
       "      <td>0.089100</td>\n",
       "      <td>1.464693</td>\n",
       "      <td>0.745884</td>\n",
       "      <td>0.692403</td>\n",
       "      <td>0.757795</td>\n",
       "      <td>0.723625</td>\n",
       "    </tr>\n",
       "    <tr>\n",
       "      <td>10</td>\n",
       "      <td>0.090000</td>\n",
       "      <td>1.488819</td>\n",
       "      <td>0.745884</td>\n",
       "      <td>0.697458</td>\n",
       "      <td>0.743787</td>\n",
       "      <td>0.719878</td>\n",
       "    </tr>\n",
       "  </tbody>\n",
       "</table><p>"
      ],
      "text/plain": [
       "<IPython.core.display.HTML object>"
      ]
     },
     "metadata": {},
     "output_type": "display_data"
    },
    {
     "data": {
      "text/plain": [
       "TrainOutput(global_step=7350, training_loss=0.25365057809012276, metrics={'train_runtime': 614.3796, 'train_samples_per_second': 191.396, 'train_steps_per_second': 11.963, 'total_flos': 1521248236596000.0, 'train_loss': 0.25365057809012276, 'epoch': 10.0})"
      ]
     },
     "execution_count": 50,
     "metadata": {},
     "output_type": "execute_result"
    }
   ],
   "source": [
    "# Training the model:\n",
    "\n",
    "trainer.train()"
   ]
  },
  {
   "cell_type": "code",
   "execution_count": 51,
   "id": "41864b94",
   "metadata": {
    "execution": {
     "iopub.execute_input": "2024-03-01T19:36:36.210405Z",
     "iopub.status.busy": "2024-03-01T19:36:36.210025Z",
     "iopub.status.idle": "2024-03-01T19:36:37.581716Z",
     "shell.execute_reply": "2024-03-01T19:36:37.580901Z"
    },
    "papermill": {
     "duration": 1.403501,
     "end_time": "2024-03-01T19:36:37.584053",
     "exception": false,
     "start_time": "2024-03-01T19:36:36.180552",
     "status": "completed"
    },
    "tags": []
   },
   "outputs": [],
   "source": [
    "# Saving the trained model:\n",
    "\n",
    "trainer.save_model('/kaggle/working/model')"
   ]
  },
  {
   "cell_type": "markdown",
   "id": "7cbecce3",
   "metadata": {
    "papermill": {
     "duration": 0.027635,
     "end_time": "2024-03-01T19:36:37.640359",
     "exception": false,
     "start_time": "2024-03-01T19:36:37.612724",
     "status": "completed"
    },
    "tags": []
   },
   "source": [
    "# Performing predictions on the test Dataframe using the trained model"
   ]
  },
  {
   "cell_type": "code",
   "execution_count": 52,
   "id": "d42e6bcf",
   "metadata": {
    "execution": {
     "iopub.execute_input": "2024-03-01T19:36:37.698858Z",
     "iopub.status.busy": "2024-03-01T19:36:37.698484Z",
     "iopub.status.idle": "2024-03-01T19:36:42.259493Z",
     "shell.execute_reply": "2024-03-01T19:36:42.258463Z"
    },
    "papermill": {
     "duration": 4.593576,
     "end_time": "2024-03-01T19:36:42.261606",
     "exception": false,
     "start_time": "2024-03-01T19:36:37.668030",
     "status": "completed"
    },
    "tags": []
   },
   "outputs": [
    {
     "data": {
      "text/html": [],
      "text/plain": [
       "<IPython.core.display.HTML object>"
      ]
     },
     "metadata": {},
     "output_type": "display_data"
    }
   ],
   "source": [
    "# Performing predictions on the test dataset:\n",
    "\n",
    "\n",
    "pred = trainer.predict(dataset_dict['test'])"
   ]
  },
  {
   "cell_type": "code",
   "execution_count": 53,
   "id": "c85a088b",
   "metadata": {
    "execution": {
     "iopub.execute_input": "2024-03-01T19:36:42.347846Z",
     "iopub.status.busy": "2024-03-01T19:36:42.346742Z",
     "iopub.status.idle": "2024-03-01T19:36:42.355447Z",
     "shell.execute_reply": "2024-03-01T19:36:42.354384Z"
    },
    "papermill": {
     "duration": 0.066004,
     "end_time": "2024-03-01T19:36:42.357923",
     "exception": false,
     "start_time": "2024-03-01T19:36:42.291919",
     "status": "completed"
    },
    "tags": []
   },
   "outputs": [
    {
     "data": {
      "text/plain": [
       "PredictionOutput(predictions=array([[ 0.97919124, -0.71575636],\n",
       "       [ 1.5298907 , -1.4100053 ],\n",
       "       [-0.41625613,  0.294722  ],\n",
       "       ...,\n",
       "       [ 0.54061353, -0.5746283 ],\n",
       "       [ 0.41363904, -0.37149626],\n",
       "       [-0.35711008,  0.3220512 ]], dtype=float32), label_ids=None, metrics={'test_runtime': 4.5528, 'test_samples_per_second': 922.509, 'test_steps_per_second': 57.767})"
      ]
     },
     "execution_count": 53,
     "metadata": {},
     "output_type": "execute_result"
    }
   ],
   "source": [
    "# Trained model labels:\n",
    "\n",
    "pred"
   ]
  },
  {
   "cell_type": "code",
   "execution_count": 54,
   "id": "e2a0cf58",
   "metadata": {
    "execution": {
     "iopub.execute_input": "2024-03-01T19:36:42.420561Z",
     "iopub.status.busy": "2024-03-01T19:36:42.419511Z",
     "iopub.status.idle": "2024-03-01T19:36:42.424934Z",
     "shell.execute_reply": "2024-03-01T19:36:42.424233Z"
    },
    "papermill": {
     "duration": 0.036873,
     "end_time": "2024-03-01T19:36:42.427088",
     "exception": false,
     "start_time": "2024-03-01T19:36:42.390215",
     "status": "completed"
    },
    "tags": []
   },
   "outputs": [],
   "source": [
    "# Prediction label decoding function:\n",
    "\n",
    "def custum_labels(pred):\n",
    "    \n",
    "    predictions = pred.predictions\n",
    "\n",
    "    predictions = np.array(predictions)\n",
    "    predicted_labels = np.argmax(predictions, axis=1)\n",
    "       \n",
    "    return predicted_labels"
   ]
  },
  {
   "cell_type": "code",
   "execution_count": 55,
   "id": "2dbf0e69",
   "metadata": {
    "execution": {
     "iopub.execute_input": "2024-03-01T19:36:42.487321Z",
     "iopub.status.busy": "2024-03-01T19:36:42.486524Z",
     "iopub.status.idle": "2024-03-01T19:36:42.492924Z",
     "shell.execute_reply": "2024-03-01T19:36:42.492065Z"
    },
    "papermill": {
     "duration": 0.03942,
     "end_time": "2024-03-01T19:36:42.494877",
     "exception": false,
     "start_time": "2024-03-01T19:36:42.455457",
     "status": "completed"
    },
    "tags": []
   },
   "outputs": [
    {
     "data": {
      "text/plain": [
       "array([0, 0, 1, ..., 0, 0, 1])"
      ]
     },
     "execution_count": 55,
     "metadata": {},
     "output_type": "execute_result"
    }
   ],
   "source": [
    "# Decoding prediction labels:\n",
    "\n",
    "pred_ = custum_labels(pred)\n",
    "pred_"
   ]
  },
  {
   "cell_type": "code",
   "execution_count": 56,
   "id": "3891e267",
   "metadata": {
    "execution": {
     "iopub.execute_input": "2024-03-01T19:36:42.555817Z",
     "iopub.status.busy": "2024-03-01T19:36:42.555446Z",
     "iopub.status.idle": "2024-03-01T19:36:42.584874Z",
     "shell.execute_reply": "2024-03-01T19:36:42.583960Z"
    },
    "papermill": {
     "duration": 0.062767,
     "end_time": "2024-03-01T19:36:42.587221",
     "exception": false,
     "start_time": "2024-03-01T19:36:42.524454",
     "status": "completed"
    },
    "tags": []
   },
   "outputs": [
    {
     "data": {
      "text/html": [
       "<div>\n",
       "<style scoped>\n",
       "    .dataframe tbody tr th:only-of-type {\n",
       "        vertical-align: middle;\n",
       "    }\n",
       "\n",
       "    .dataframe tbody tr th {\n",
       "        vertical-align: top;\n",
       "    }\n",
       "\n",
       "    .dataframe thead th {\n",
       "        text-align: right;\n",
       "    }\n",
       "</style>\n",
       "<table border=\"1\" class=\"dataframe\">\n",
       "  <thead>\n",
       "    <tr style=\"text-align: right;\">\n",
       "      <th></th>\n",
       "      <th>id</th>\n",
       "      <th>text</th>\n",
       "      <th>text_limpo</th>\n",
       "      <th>inputs</th>\n",
       "      <th>input_ids</th>\n",
       "      <th>attention_mask</th>\n",
       "    </tr>\n",
       "  </thead>\n",
       "  <tbody>\n",
       "    <tr>\n",
       "      <th>0</th>\n",
       "      <td>0</td>\n",
       "      <td>@user nossa mano te odeio na moral kkkkkkkkkkk...</td>\n",
       "      <td>nossa mano te odeio na moral kkkkkkkkkkkkkkkkkkk</td>\n",
       "      <td>[input_ids, attention_mask]</td>\n",
       "      <td>[[101, 11573, 10466, 19271, 10361, 10311, 1199...</td>\n",
       "      <td>[[1, 1, 1, 1, 1, 1, 1, 1, 1, 1, 1, 1, 1, 1, 1,...</td>\n",
       "    </tr>\n",
       "    <tr>\n",
       "      <th>1</th>\n",
       "      <td>1</td>\n",
       "      <td>@user @user a edição ficou muito boa! kkkkkkkk...</td>\n",
       "      <td>a edição ficou muito boa kkkkkkkkkkk mas falto...</td>\n",
       "      <td>[input_ids, attention_mask]</td>\n",
       "      <td>[[101, 169, 26898, 30976, 16159, 47071, 179, 2...</td>\n",
       "      <td>[[1, 1, 1, 1, 1, 1, 1, 1, 1, 1, 1, 1, 1, 1, 1,...</td>\n",
       "    </tr>\n",
       "    <tr>\n",
       "      <th>2</th>\n",
       "      <td>2</td>\n",
       "      <td>@user largada vá, visto que a vaca anda à solta 😂</td>\n",
       "      <td>largada vá visto que a vaca anda à solta 😂</td>\n",
       "      <td>[input_ids, attention_mask]</td>\n",
       "      <td>[[101, 31854, 10229, 190, 10661, 22076, 10121,...</td>\n",
       "      <td>[[1, 1, 1, 1, 1, 1, 1, 1, 1, 1, 1, 1, 1, 1, 1,...</td>\n",
       "    </tr>\n",
       "    <tr>\n",
       "      <th>3</th>\n",
       "      <td>3</td>\n",
       "      <td>poxa, eu queria ganhar um boné. alguém me da u...</td>\n",
       "      <td>poxa eu queria ganhar um boné alguém me da um ...</td>\n",
       "      <td>[input_ids, attention_mask]</td>\n",
       "      <td>[[101, 10514, 14220, 14444, 110611, 102472, 10...</td>\n",
       "      <td>[[1, 1, 1, 1, 1, 1, 1, 1, 1, 1, 1, 1, 1, 1, 1,...</td>\n",
       "    </tr>\n",
       "    <tr>\n",
       "      <th>4</th>\n",
       "      <td>4</td>\n",
       "      <td>@user amiga, tudo bem, não precisa se desculpa...</td>\n",
       "      <td>amiga tudo bem não precisa se desculpar com el...</td>\n",
       "      <td>[input_ids, attention_mask]</td>\n",
       "      <td>[[101, 66263, 50172, 19685, 11420, 56785, 1012...</td>\n",
       "      <td>[[1, 1, 1, 1, 1, 1, 1, 1, 1, 1, 1, 1, 1, 1, 1,...</td>\n",
       "    </tr>\n",
       "  </tbody>\n",
       "</table>\n",
       "</div>"
      ],
      "text/plain": [
       "   id                                               text  \\\n",
       "0   0  @user nossa mano te odeio na moral kkkkkkkkkkk...   \n",
       "1   1  @user @user a edição ficou muito boa! kkkkkkkk...   \n",
       "2   2  @user largada vá, visto que a vaca anda à solta 😂   \n",
       "3   3  poxa, eu queria ganhar um boné. alguém me da u...   \n",
       "4   4  @user amiga, tudo bem, não precisa se desculpa...   \n",
       "\n",
       "                                          text_limpo  \\\n",
       "0   nossa mano te odeio na moral kkkkkkkkkkkkkkkkkkk   \n",
       "1  a edição ficou muito boa kkkkkkkkkkk mas falto...   \n",
       "2         largada vá visto que a vaca anda à solta 😂   \n",
       "3  poxa eu queria ganhar um boné alguém me da um ...   \n",
       "4  amiga tudo bem não precisa se desculpar com el...   \n",
       "\n",
       "                        inputs  \\\n",
       "0  [input_ids, attention_mask]   \n",
       "1  [input_ids, attention_mask]   \n",
       "2  [input_ids, attention_mask]   \n",
       "3  [input_ids, attention_mask]   \n",
       "4  [input_ids, attention_mask]   \n",
       "\n",
       "                                           input_ids  \\\n",
       "0  [[101, 11573, 10466, 19271, 10361, 10311, 1199...   \n",
       "1  [[101, 169, 26898, 30976, 16159, 47071, 179, 2...   \n",
       "2  [[101, 31854, 10229, 190, 10661, 22076, 10121,...   \n",
       "3  [[101, 10514, 14220, 14444, 110611, 102472, 10...   \n",
       "4  [[101, 66263, 50172, 19685, 11420, 56785, 1012...   \n",
       "\n",
       "                                      attention_mask  \n",
       "0  [[1, 1, 1, 1, 1, 1, 1, 1, 1, 1, 1, 1, 1, 1, 1,...  \n",
       "1  [[1, 1, 1, 1, 1, 1, 1, 1, 1, 1, 1, 1, 1, 1, 1,...  \n",
       "2  [[1, 1, 1, 1, 1, 1, 1, 1, 1, 1, 1, 1, 1, 1, 1,...  \n",
       "3  [[1, 1, 1, 1, 1, 1, 1, 1, 1, 1, 1, 1, 1, 1, 1,...  \n",
       "4  [[1, 1, 1, 1, 1, 1, 1, 1, 1, 1, 1, 1, 1, 1, 1,...  "
      ]
     },
     "execution_count": 56,
     "metadata": {},
     "output_type": "execute_result"
    }
   ],
   "source": [
    "# Viewing the dataframe:\n",
    "\n",
    "df_toxic_test.head()"
   ]
  },
  {
   "cell_type": "code",
   "execution_count": 57,
   "id": "4ca82683",
   "metadata": {
    "execution": {
     "iopub.execute_input": "2024-03-01T19:36:42.648114Z",
     "iopub.status.busy": "2024-03-01T19:36:42.647425Z",
     "iopub.status.idle": "2024-03-01T19:36:42.653476Z",
     "shell.execute_reply": "2024-03-01T19:36:42.652594Z"
    },
    "papermill": {
     "duration": 0.037325,
     "end_time": "2024-03-01T19:36:42.655302",
     "exception": false,
     "start_time": "2024-03-01T19:36:42.617977",
     "status": "completed"
    },
    "tags": []
   },
   "outputs": [],
   "source": [
    "# Inserting the predictions in the Dataframe to submit:\n",
    "\n",
    "df_toxic_test['label'] = pred_\n",
    "sample_submission = df_toxic_test.drop(columns=['text', 'text_limpo', 'inputs', 'input_ids', 'attention_mask'])"
   ]
  },
  {
   "cell_type": "code",
   "execution_count": 58,
   "id": "3ee16fef",
   "metadata": {
    "execution": {
     "iopub.execute_input": "2024-03-01T19:36:42.720121Z",
     "iopub.status.busy": "2024-03-01T19:36:42.719173Z",
     "iopub.status.idle": "2024-03-01T19:36:42.729327Z",
     "shell.execute_reply": "2024-03-01T19:36:42.728307Z"
    },
    "papermill": {
     "duration": 0.04615,
     "end_time": "2024-03-01T19:36:42.731712",
     "exception": false,
     "start_time": "2024-03-01T19:36:42.685562",
     "status": "completed"
    },
    "tags": []
   },
   "outputs": [
    {
     "data": {
      "text/html": [
       "<div>\n",
       "<style scoped>\n",
       "    .dataframe tbody tr th:only-of-type {\n",
       "        vertical-align: middle;\n",
       "    }\n",
       "\n",
       "    .dataframe tbody tr th {\n",
       "        vertical-align: top;\n",
       "    }\n",
       "\n",
       "    .dataframe thead th {\n",
       "        text-align: right;\n",
       "    }\n",
       "</style>\n",
       "<table border=\"1\" class=\"dataframe\">\n",
       "  <thead>\n",
       "    <tr style=\"text-align: right;\">\n",
       "      <th></th>\n",
       "      <th>id</th>\n",
       "      <th>label</th>\n",
       "    </tr>\n",
       "  </thead>\n",
       "  <tbody>\n",
       "    <tr>\n",
       "      <th>0</th>\n",
       "      <td>0</td>\n",
       "      <td>0</td>\n",
       "    </tr>\n",
       "    <tr>\n",
       "      <th>1</th>\n",
       "      <td>1</td>\n",
       "      <td>0</td>\n",
       "    </tr>\n",
       "    <tr>\n",
       "      <th>2</th>\n",
       "      <td>2</td>\n",
       "      <td>1</td>\n",
       "    </tr>\n",
       "    <tr>\n",
       "      <th>3</th>\n",
       "      <td>3</td>\n",
       "      <td>0</td>\n",
       "    </tr>\n",
       "    <tr>\n",
       "      <th>4</th>\n",
       "      <td>4</td>\n",
       "      <td>1</td>\n",
       "    </tr>\n",
       "  </tbody>\n",
       "</table>\n",
       "</div>"
      ],
      "text/plain": [
       "   id  label\n",
       "0   0      0\n",
       "1   1      0\n",
       "2   2      1\n",
       "3   3      0\n",
       "4   4      1"
      ]
     },
     "execution_count": 58,
     "metadata": {},
     "output_type": "execute_result"
    }
   ],
   "source": [
    "# Viewing the dataframe:\n",
    "\n",
    "sample_submission.head()"
   ]
  },
  {
   "cell_type": "code",
   "execution_count": 59,
   "id": "77d90771",
   "metadata": {
    "execution": {
     "iopub.execute_input": "2024-03-01T19:36:42.795857Z",
     "iopub.status.busy": "2024-03-01T19:36:42.795489Z",
     "iopub.status.idle": "2024-03-01T19:36:42.847747Z",
     "shell.execute_reply": "2024-03-01T19:36:42.846948Z"
    },
    "papermill": {
     "duration": 0.085526,
     "end_time": "2024-03-01T19:36:42.849968",
     "exception": false,
     "start_time": "2024-03-01T19:36:42.764442",
     "status": "completed"
    },
    "tags": []
   },
   "outputs": [],
   "source": [
    "# Saving the Dataframe to submit\n",
    "\n",
    "sample_submission.to_csv('/kaggle/working/sample_submission.csv')"
   ]
  }
 ],
 "metadata": {
  "kaggle": {
   "accelerator": "gpu",
   "dataSources": [
    {
     "databundleVersionId": 7798918,
     "sourceId": 71348,
     "sourceType": "competition"
    }
   ],
   "dockerImageVersionId": 30646,
   "isGpuEnabled": true,
   "isInternetEnabled": true,
   "language": "python",
   "sourceType": "notebook"
  },
  "kernelspec": {
   "display_name": "Python 3",
   "language": "python",
   "name": "python3"
  },
  "language_info": {
   "codemirror_mode": {
    "name": "ipython",
    "version": 3
   },
   "file_extension": ".py",
   "mimetype": "text/x-python",
   "name": "python",
   "nbconvert_exporter": "python",
   "pygments_lexer": "ipython3",
   "version": "3.10.13"
  },
  "papermill": {
   "default_parameters": {},
   "duration": 688.557008,
   "end_time": "2024-03-01T19:36:46.182594",
   "environment_variables": {},
   "exception": null,
   "input_path": "__notebook__.ipynb",
   "output_path": "__notebook__.ipynb",
   "parameters": {},
   "start_time": "2024-03-01T19:25:17.625586",
   "version": "2.5.0"
  },
  "widgets": {
   "application/vnd.jupyter.widget-state+json": {
    "state": {
     "06121766591244ca8167cf89335ea2f7": {
      "model_module": "@jupyter-widgets/controls",
      "model_module_version": "1.5.0",
      "model_name": "DescriptionStyleModel",
      "state": {
       "_model_module": "@jupyter-widgets/controls",
       "_model_module_version": "1.5.0",
       "_model_name": "DescriptionStyleModel",
       "_view_count": null,
       "_view_module": "@jupyter-widgets/base",
       "_view_module_version": "1.2.0",
       "_view_name": "StyleView",
       "description_width": ""
      }
     },
     "0818e3e361b34cce80842727e6506d6b": {
      "model_module": "@jupyter-widgets/base",
      "model_module_version": "1.2.0",
      "model_name": "LayoutModel",
      "state": {
       "_model_module": "@jupyter-widgets/base",
       "_model_module_version": "1.2.0",
       "_model_name": "LayoutModel",
       "_view_count": null,
       "_view_module": "@jupyter-widgets/base",
       "_view_module_version": "1.2.0",
       "_view_name": "LayoutView",
       "align_content": null,
       "align_items": null,
       "align_self": null,
       "border": null,
       "bottom": null,
       "display": null,
       "flex": null,
       "flex_flow": null,
       "grid_area": null,
       "grid_auto_columns": null,
       "grid_auto_flow": null,
       "grid_auto_rows": null,
       "grid_column": null,
       "grid_gap": null,
       "grid_row": null,
       "grid_template_areas": null,
       "grid_template_columns": null,
       "grid_template_rows": null,
       "height": null,
       "justify_content": null,
       "justify_items": null,
       "left": null,
       "margin": null,
       "max_height": null,
       "max_width": null,
       "min_height": null,
       "min_width": null,
       "object_fit": null,
       "object_position": null,
       "order": null,
       "overflow": null,
       "overflow_x": null,
       "overflow_y": null,
       "padding": null,
       "right": null,
       "top": null,
       "visibility": null,
       "width": null
      }
     },
     "085e5a0653744df196ff60d56fba63ad": {
      "model_module": "@jupyter-widgets/controls",
      "model_module_version": "1.5.0",
      "model_name": "HTMLModel",
      "state": {
       "_dom_classes": [],
       "_model_module": "@jupyter-widgets/controls",
       "_model_module_version": "1.5.0",
       "_model_name": "HTMLModel",
       "_view_count": null,
       "_view_module": "@jupyter-widgets/controls",
       "_view_module_version": "1.5.0",
       "_view_name": "HTMLView",
       "description": "",
       "description_tooltip": null,
       "layout": "IPY_MODEL_9d4b7214edd2482bb94151005fd56131",
       "placeholder": "​",
       "style": "IPY_MODEL_ac5c96f8893e462788e4eda93db36098",
       "value": " 6.77k/6.77k [00:00&lt;00:00, 502kB/s]"
      }
     },
     "0a35d09fa17a4d9a91a0bc25dc49e61e": {
      "model_module": "@jupyter-widgets/controls",
      "model_module_version": "1.5.0",
      "model_name": "HBoxModel",
      "state": {
       "_dom_classes": [],
       "_model_module": "@jupyter-widgets/controls",
       "_model_module_version": "1.5.0",
       "_model_name": "HBoxModel",
       "_view_count": null,
       "_view_module": "@jupyter-widgets/controls",
       "_view_module_version": "1.5.0",
       "_view_name": "HBoxView",
       "box_style": "",
       "children": [
        "IPY_MODEL_22ec2d64c89d4da7b6a70280b8cf1e3c",
        "IPY_MODEL_731affa0fbe049789a24092ae77d3ff0",
        "IPY_MODEL_c5392030e0624a98ab55848ee5011763"
       ],
       "layout": "IPY_MODEL_f8ba91f904e0431cb2071e69e2b44fb4"
      }
     },
     "0a80cf46d61846c791876abd774d93bc": {
      "model_module": "@jupyter-widgets/base",
      "model_module_version": "1.2.0",
      "model_name": "LayoutModel",
      "state": {
       "_model_module": "@jupyter-widgets/base",
       "_model_module_version": "1.2.0",
       "_model_name": "LayoutModel",
       "_view_count": null,
       "_view_module": "@jupyter-widgets/base",
       "_view_module_version": "1.2.0",
       "_view_name": "LayoutView",
       "align_content": null,
       "align_items": null,
       "align_self": null,
       "border": null,
       "bottom": null,
       "display": null,
       "flex": null,
       "flex_flow": null,
       "grid_area": null,
       "grid_auto_columns": null,
       "grid_auto_flow": null,
       "grid_auto_rows": null,
       "grid_column": null,
       "grid_gap": null,
       "grid_row": null,
       "grid_template_areas": null,
       "grid_template_columns": null,
       "grid_template_rows": null,
       "height": null,
       "justify_content": null,
       "justify_items": null,
       "left": null,
       "margin": null,
       "max_height": null,
       "max_width": null,
       "min_height": null,
       "min_width": null,
       "object_fit": null,
       "object_position": null,
       "order": null,
       "overflow": null,
       "overflow_x": null,
       "overflow_y": null,
       "padding": null,
       "right": null,
       "top": null,
       "visibility": null,
       "width": null
      }
     },
     "0b2770b2ddbc47c5a513c76320a7cada": {
      "model_module": "@jupyter-widgets/base",
      "model_module_version": "1.2.0",
      "model_name": "LayoutModel",
      "state": {
       "_model_module": "@jupyter-widgets/base",
       "_model_module_version": "1.2.0",
       "_model_name": "LayoutModel",
       "_view_count": null,
       "_view_module": "@jupyter-widgets/base",
       "_view_module_version": "1.2.0",
       "_view_name": "LayoutView",
       "align_content": null,
       "align_items": null,
       "align_self": null,
       "border": null,
       "bottom": null,
       "display": null,
       "flex": null,
       "flex_flow": null,
       "grid_area": null,
       "grid_auto_columns": null,
       "grid_auto_flow": null,
       "grid_auto_rows": null,
       "grid_column": null,
       "grid_gap": null,
       "grid_row": null,
       "grid_template_areas": null,
       "grid_template_columns": null,
       "grid_template_rows": null,
       "height": null,
       "justify_content": null,
       "justify_items": null,
       "left": null,
       "margin": null,
       "max_height": null,
       "max_width": null,
       "min_height": null,
       "min_width": null,
       "object_fit": null,
       "object_position": null,
       "order": null,
       "overflow": null,
       "overflow_x": null,
       "overflow_y": null,
       "padding": null,
       "right": null,
       "top": null,
       "visibility": null,
       "width": null
      }
     },
     "0ec186f2f4b941fdada4094701ce2e27": {
      "model_module": "@jupyter-widgets/base",
      "model_module_version": "1.2.0",
      "model_name": "LayoutModel",
      "state": {
       "_model_module": "@jupyter-widgets/base",
       "_model_module_version": "1.2.0",
       "_model_name": "LayoutModel",
       "_view_count": null,
       "_view_module": "@jupyter-widgets/base",
       "_view_module_version": "1.2.0",
       "_view_name": "LayoutView",
       "align_content": null,
       "align_items": null,
       "align_self": null,
       "border": null,
       "bottom": null,
       "display": null,
       "flex": null,
       "flex_flow": null,
       "grid_area": null,
       "grid_auto_columns": null,
       "grid_auto_flow": null,
       "grid_auto_rows": null,
       "grid_column": null,
       "grid_gap": null,
       "grid_row": null,
       "grid_template_areas": null,
       "grid_template_columns": null,
       "grid_template_rows": null,
       "height": null,
       "justify_content": null,
       "justify_items": null,
       "left": null,
       "margin": null,
       "max_height": null,
       "max_width": null,
       "min_height": null,
       "min_width": null,
       "object_fit": null,
       "object_position": null,
       "order": null,
       "overflow": null,
       "overflow_x": null,
       "overflow_y": null,
       "padding": null,
       "right": null,
       "top": null,
       "visibility": null,
       "width": null
      }
     },
     "0f43e5b36f0a45bcb1189d62215637f4": {
      "model_module": "@jupyter-widgets/controls",
      "model_module_version": "1.5.0",
      "model_name": "ProgressStyleModel",
      "state": {
       "_model_module": "@jupyter-widgets/controls",
       "_model_module_version": "1.5.0",
       "_model_name": "ProgressStyleModel",
       "_view_count": null,
       "_view_module": "@jupyter-widgets/base",
       "_view_module_version": "1.2.0",
       "_view_name": "StyleView",
       "bar_color": null,
       "description_width": ""
      }
     },
     "10506b09e0414b01a77c6109623b2167": {
      "model_module": "@jupyter-widgets/base",
      "model_module_version": "1.2.0",
      "model_name": "LayoutModel",
      "state": {
       "_model_module": "@jupyter-widgets/base",
       "_model_module_version": "1.2.0",
       "_model_name": "LayoutModel",
       "_view_count": null,
       "_view_module": "@jupyter-widgets/base",
       "_view_module_version": "1.2.0",
       "_view_name": "LayoutView",
       "align_content": null,
       "align_items": null,
       "align_self": null,
       "border": null,
       "bottom": null,
       "display": null,
       "flex": null,
       "flex_flow": null,
       "grid_area": null,
       "grid_auto_columns": null,
       "grid_auto_flow": null,
       "grid_auto_rows": null,
       "grid_column": null,
       "grid_gap": null,
       "grid_row": null,
       "grid_template_areas": null,
       "grid_template_columns": null,
       "grid_template_rows": null,
       "height": null,
       "justify_content": null,
       "justify_items": null,
       "left": null,
       "margin": null,
       "max_height": null,
       "max_width": null,
       "min_height": null,
       "min_width": null,
       "object_fit": null,
       "object_position": null,
       "order": null,
       "overflow": null,
       "overflow_x": null,
       "overflow_y": null,
       "padding": null,
       "right": null,
       "top": null,
       "visibility": null,
       "width": null
      }
     },
     "1211b3a806bd4b6ab470940bdb23dd8c": {
      "model_module": "@jupyter-widgets/controls",
      "model_module_version": "1.5.0",
      "model_name": "DescriptionStyleModel",
      "state": {
       "_model_module": "@jupyter-widgets/controls",
       "_model_module_version": "1.5.0",
       "_model_name": "DescriptionStyleModel",
       "_view_count": null,
       "_view_module": "@jupyter-widgets/base",
       "_view_module_version": "1.2.0",
       "_view_name": "StyleView",
       "description_width": ""
      }
     },
     "1b7b275fc87c4f41a8daa7fbf89a7fb3": {
      "model_module": "@jupyter-widgets/controls",
      "model_module_version": "1.5.0",
      "model_name": "HTMLModel",
      "state": {
       "_dom_classes": [],
       "_model_module": "@jupyter-widgets/controls",
       "_model_module_version": "1.5.0",
       "_model_name": "HTMLModel",
       "_view_count": null,
       "_view_module": "@jupyter-widgets/controls",
       "_view_module_version": "1.5.0",
       "_view_name": "HTMLView",
       "description": "",
       "description_tooltip": null,
       "layout": "IPY_MODEL_2a9921e38b134eb787fcf309c6cf1236",
       "placeholder": "​",
       "style": "IPY_MODEL_53cc1ada656c4d7b9799fa5505a3fd1f",
       "value": "Downloading builder script: 100%"
      }
     },
     "1bb94977e1c74a6d8a6290b01435fb15": {
      "model_module": "@jupyter-widgets/controls",
      "model_module_version": "1.5.0",
      "model_name": "FloatProgressModel",
      "state": {
       "_dom_classes": [],
       "_model_module": "@jupyter-widgets/controls",
       "_model_module_version": "1.5.0",
       "_model_name": "FloatProgressModel",
       "_view_count": null,
       "_view_module": "@jupyter-widgets/controls",
       "_view_module_version": "1.5.0",
       "_view_name": "ProgressView",
       "bar_style": "success",
       "description": "",
       "description_tooltip": null,
       "layout": "IPY_MODEL_fa2904f4cdc440d5a3dcfcea94c3aefd",
       "max": 774.0,
       "min": 0.0,
       "orientation": "horizontal",
       "style": "IPY_MODEL_dbc603f9cb8b416289087bb6b226f0ed",
       "value": 774.0
      }
     },
     "22ec2d64c89d4da7b6a70280b8cf1e3c": {
      "model_module": "@jupyter-widgets/controls",
      "model_module_version": "1.5.0",
      "model_name": "HTMLModel",
      "state": {
       "_dom_classes": [],
       "_model_module": "@jupyter-widgets/controls",
       "_model_module_version": "1.5.0",
       "_model_name": "HTMLModel",
       "_view_count": null,
       "_view_module": "@jupyter-widgets/controls",
       "_view_module_version": "1.5.0",
       "_view_name": "HTMLView",
       "description": "",
       "description_tooltip": null,
       "layout": "IPY_MODEL_a543e8b0daa54e4e9351a85a683cc283",
       "placeholder": "​",
       "style": "IPY_MODEL_cb13137ea54344c2b60ac4bf3c663f4d",
       "value": "tokenizer_config.json: 100%"
      }
     },
     "280f7ce3f7ec40dbae8c0ba2407657ad": {
      "model_module": "@jupyter-widgets/base",
      "model_module_version": "1.2.0",
      "model_name": "LayoutModel",
      "state": {
       "_model_module": "@jupyter-widgets/base",
       "_model_module_version": "1.2.0",
       "_model_name": "LayoutModel",
       "_view_count": null,
       "_view_module": "@jupyter-widgets/base",
       "_view_module_version": "1.2.0",
       "_view_name": "LayoutView",
       "align_content": null,
       "align_items": null,
       "align_self": null,
       "border": null,
       "bottom": null,
       "display": null,
       "flex": null,
       "flex_flow": null,
       "grid_area": null,
       "grid_auto_columns": null,
       "grid_auto_flow": null,
       "grid_auto_rows": null,
       "grid_column": null,
       "grid_gap": null,
       "grid_row": null,
       "grid_template_areas": null,
       "grid_template_columns": null,
       "grid_template_rows": null,
       "height": null,
       "justify_content": null,
       "justify_items": null,
       "left": null,
       "margin": null,
       "max_height": null,
       "max_width": null,
       "min_height": null,
       "min_width": null,
       "object_fit": null,
       "object_position": null,
       "order": null,
       "overflow": null,
       "overflow_x": null,
       "overflow_y": null,
       "padding": null,
       "right": null,
       "top": null,
       "visibility": null,
       "width": null
      }
     },
     "2a80a4a1350c42d48758f3b32eae8098": {
      "model_module": "@jupyter-widgets/base",
      "model_module_version": "1.2.0",
      "model_name": "LayoutModel",
      "state": {
       "_model_module": "@jupyter-widgets/base",
       "_model_module_version": "1.2.0",
       "_model_name": "LayoutModel",
       "_view_count": null,
       "_view_module": "@jupyter-widgets/base",
       "_view_module_version": "1.2.0",
       "_view_name": "LayoutView",
       "align_content": null,
       "align_items": null,
       "align_self": null,
       "border": null,
       "bottom": null,
       "display": null,
       "flex": null,
       "flex_flow": null,
       "grid_area": null,
       "grid_auto_columns": null,
       "grid_auto_flow": null,
       "grid_auto_rows": null,
       "grid_column": null,
       "grid_gap": null,
       "grid_row": null,
       "grid_template_areas": null,
       "grid_template_columns": null,
       "grid_template_rows": null,
       "height": null,
       "justify_content": null,
       "justify_items": null,
       "left": null,
       "margin": null,
       "max_height": null,
       "max_width": null,
       "min_height": null,
       "min_width": null,
       "object_fit": null,
       "object_position": null,
       "order": null,
       "overflow": null,
       "overflow_x": null,
       "overflow_y": null,
       "padding": null,
       "right": null,
       "top": null,
       "visibility": null,
       "width": null
      }
     },
     "2a9921e38b134eb787fcf309c6cf1236": {
      "model_module": "@jupyter-widgets/base",
      "model_module_version": "1.2.0",
      "model_name": "LayoutModel",
      "state": {
       "_model_module": "@jupyter-widgets/base",
       "_model_module_version": "1.2.0",
       "_model_name": "LayoutModel",
       "_view_count": null,
       "_view_module": "@jupyter-widgets/base",
       "_view_module_version": "1.2.0",
       "_view_name": "LayoutView",
       "align_content": null,
       "align_items": null,
       "align_self": null,
       "border": null,
       "bottom": null,
       "display": null,
       "flex": null,
       "flex_flow": null,
       "grid_area": null,
       "grid_auto_columns": null,
       "grid_auto_flow": null,
       "grid_auto_rows": null,
       "grid_column": null,
       "grid_gap": null,
       "grid_row": null,
       "grid_template_areas": null,
       "grid_template_columns": null,
       "grid_template_rows": null,
       "height": null,
       "justify_content": null,
       "justify_items": null,
       "left": null,
       "margin": null,
       "max_height": null,
       "max_width": null,
       "min_height": null,
       "min_width": null,
       "object_fit": null,
       "object_position": null,
       "order": null,
       "overflow": null,
       "overflow_x": null,
       "overflow_y": null,
       "padding": null,
       "right": null,
       "top": null,
       "visibility": null,
       "width": null
      }
     },
     "2e4ffb8e67fb4b95a7fae0455e5173a5": {
      "model_module": "@jupyter-widgets/controls",
      "model_module_version": "1.5.0",
      "model_name": "DescriptionStyleModel",
      "state": {
       "_model_module": "@jupyter-widgets/controls",
       "_model_module_version": "1.5.0",
       "_model_name": "DescriptionStyleModel",
       "_view_count": null,
       "_view_module": "@jupyter-widgets/base",
       "_view_module_version": "1.2.0",
       "_view_name": "StyleView",
       "description_width": ""
      }
     },
     "3035b376645843b1b3d672e7cd1a2f9e": {
      "model_module": "@jupyter-widgets/base",
      "model_module_version": "1.2.0",
      "model_name": "LayoutModel",
      "state": {
       "_model_module": "@jupyter-widgets/base",
       "_model_module_version": "1.2.0",
       "_model_name": "LayoutModel",
       "_view_count": null,
       "_view_module": "@jupyter-widgets/base",
       "_view_module_version": "1.2.0",
       "_view_name": "LayoutView",
       "align_content": null,
       "align_items": null,
       "align_self": null,
       "border": null,
       "bottom": null,
       "display": null,
       "flex": null,
       "flex_flow": null,
       "grid_area": null,
       "grid_auto_columns": null,
       "grid_auto_flow": null,
       "grid_auto_rows": null,
       "grid_column": null,
       "grid_gap": null,
       "grid_row": null,
       "grid_template_areas": null,
       "grid_template_columns": null,
       "grid_template_rows": null,
       "height": null,
       "justify_content": null,
       "justify_items": null,
       "left": null,
       "margin": null,
       "max_height": null,
       "max_width": null,
       "min_height": null,
       "min_width": null,
       "object_fit": null,
       "object_position": null,
       "order": null,
       "overflow": null,
       "overflow_x": null,
       "overflow_y": null,
       "padding": null,
       "right": null,
       "top": null,
       "visibility": null,
       "width": null
      }
     },
     "30ebba830ab24f7285871c026a65a942": {
      "model_module": "@jupyter-widgets/controls",
      "model_module_version": "1.5.0",
      "model_name": "HBoxModel",
      "state": {
       "_dom_classes": [],
       "_model_module": "@jupyter-widgets/controls",
       "_model_module_version": "1.5.0",
       "_model_name": "HBoxModel",
       "_view_count": null,
       "_view_module": "@jupyter-widgets/controls",
       "_view_module_version": "1.5.0",
       "_view_name": "HBoxView",
       "box_style": "",
       "children": [
        "IPY_MODEL_ae6aceb126f9451ea8eec6b2ab49ee24",
        "IPY_MODEL_b65cac2504034611a07aaf6bbfb14b2f",
        "IPY_MODEL_4c321b6a1490442c9fa2631c3be26100"
       ],
       "layout": "IPY_MODEL_c041b8f2c4684309811bd11e4c95cd67"
      }
     },
     "315f2adb078340ac8602ced1211cf198": {
      "model_module": "@jupyter-widgets/controls",
      "model_module_version": "1.5.0",
      "model_name": "FloatProgressModel",
      "state": {
       "_dom_classes": [],
       "_model_module": "@jupyter-widgets/controls",
       "_model_module_version": "1.5.0",
       "_model_name": "FloatProgressModel",
       "_view_count": null,
       "_view_module": "@jupyter-widgets/controls",
       "_view_module_version": "1.5.0",
       "_view_name": "ProgressView",
       "bar_style": "success",
       "description": "",
       "description_tooltip": null,
       "layout": "IPY_MODEL_961601c0549b41439644b402b2d4bf0f",
       "max": 6771.0,
       "min": 0.0,
       "orientation": "horizontal",
       "style": "IPY_MODEL_f72727e93d074375a69bfdb630c8d994",
       "value": 6771.0
      }
     },
     "3687bbd9065d4fe48b7da44a121bfe52": {
      "model_module": "@jupyter-widgets/controls",
      "model_module_version": "1.5.0",
      "model_name": "DescriptionStyleModel",
      "state": {
       "_model_module": "@jupyter-widgets/controls",
       "_model_module_version": "1.5.0",
       "_model_name": "DescriptionStyleModel",
       "_view_count": null,
       "_view_module": "@jupyter-widgets/base",
       "_view_module_version": "1.2.0",
       "_view_name": "StyleView",
       "description_width": ""
      }
     },
     "38046257b44e4228b59332b77d245b8b": {
      "model_module": "@jupyter-widgets/base",
      "model_module_version": "1.2.0",
      "model_name": "LayoutModel",
      "state": {
       "_model_module": "@jupyter-widgets/base",
       "_model_module_version": "1.2.0",
       "_model_name": "LayoutModel",
       "_view_count": null,
       "_view_module": "@jupyter-widgets/base",
       "_view_module_version": "1.2.0",
       "_view_name": "LayoutView",
       "align_content": null,
       "align_items": null,
       "align_self": null,
       "border": null,
       "bottom": null,
       "display": null,
       "flex": null,
       "flex_flow": null,
       "grid_area": null,
       "grid_auto_columns": null,
       "grid_auto_flow": null,
       "grid_auto_rows": null,
       "grid_column": null,
       "grid_gap": null,
       "grid_row": null,
       "grid_template_areas": null,
       "grid_template_columns": null,
       "grid_template_rows": null,
       "height": null,
       "justify_content": null,
       "justify_items": null,
       "left": null,
       "margin": null,
       "max_height": null,
       "max_width": null,
       "min_height": null,
       "min_width": null,
       "object_fit": null,
       "object_position": null,
       "order": null,
       "overflow": null,
       "overflow_x": null,
       "overflow_y": null,
       "padding": null,
       "right": null,
       "top": null,
       "visibility": null,
       "width": null
      }
     },
     "38e9616dea7a49cb944d27393c254c0b": {
      "model_module": "@jupyter-widgets/base",
      "model_module_version": "1.2.0",
      "model_name": "LayoutModel",
      "state": {
       "_model_module": "@jupyter-widgets/base",
       "_model_module_version": "1.2.0",
       "_model_name": "LayoutModel",
       "_view_count": null,
       "_view_module": "@jupyter-widgets/base",
       "_view_module_version": "1.2.0",
       "_view_name": "LayoutView",
       "align_content": null,
       "align_items": null,
       "align_self": null,
       "border": null,
       "bottom": null,
       "display": null,
       "flex": null,
       "flex_flow": null,
       "grid_area": null,
       "grid_auto_columns": null,
       "grid_auto_flow": null,
       "grid_auto_rows": null,
       "grid_column": null,
       "grid_gap": null,
       "grid_row": null,
       "grid_template_areas": null,
       "grid_template_columns": null,
       "grid_template_rows": null,
       "height": null,
       "justify_content": null,
       "justify_items": null,
       "left": null,
       "margin": null,
       "max_height": null,
       "max_width": null,
       "min_height": null,
       "min_width": null,
       "object_fit": null,
       "object_position": null,
       "order": null,
       "overflow": null,
       "overflow_x": null,
       "overflow_y": null,
       "padding": null,
       "right": null,
       "top": null,
       "visibility": null,
       "width": null
      }
     },
     "3d61d1764c7a44efb6989180af4286df": {
      "model_module": "@jupyter-widgets/base",
      "model_module_version": "1.2.0",
      "model_name": "LayoutModel",
      "state": {
       "_model_module": "@jupyter-widgets/base",
       "_model_module_version": "1.2.0",
       "_model_name": "LayoutModel",
       "_view_count": null,
       "_view_module": "@jupyter-widgets/base",
       "_view_module_version": "1.2.0",
       "_view_name": "LayoutView",
       "align_content": null,
       "align_items": null,
       "align_self": null,
       "border": null,
       "bottom": null,
       "display": null,
       "flex": null,
       "flex_flow": null,
       "grid_area": null,
       "grid_auto_columns": null,
       "grid_auto_flow": null,
       "grid_auto_rows": null,
       "grid_column": null,
       "grid_gap": null,
       "grid_row": null,
       "grid_template_areas": null,
       "grid_template_columns": null,
       "grid_template_rows": null,
       "height": null,
       "justify_content": null,
       "justify_items": null,
       "left": null,
       "margin": null,
       "max_height": null,
       "max_width": null,
       "min_height": null,
       "min_width": null,
       "object_fit": null,
       "object_position": null,
       "order": null,
       "overflow": null,
       "overflow_x": null,
       "overflow_y": null,
       "padding": null,
       "right": null,
       "top": null,
       "visibility": null,
       "width": null
      }
     },
     "3ed01afc83bf44d8be773f12e7d70780": {
      "model_module": "@jupyter-widgets/base",
      "model_module_version": "1.2.0",
      "model_name": "LayoutModel",
      "state": {
       "_model_module": "@jupyter-widgets/base",
       "_model_module_version": "1.2.0",
       "_model_name": "LayoutModel",
       "_view_count": null,
       "_view_module": "@jupyter-widgets/base",
       "_view_module_version": "1.2.0",
       "_view_name": "LayoutView",
       "align_content": null,
       "align_items": null,
       "align_self": null,
       "border": null,
       "bottom": null,
       "display": null,
       "flex": null,
       "flex_flow": null,
       "grid_area": null,
       "grid_auto_columns": null,
       "grid_auto_flow": null,
       "grid_auto_rows": null,
       "grid_column": null,
       "grid_gap": null,
       "grid_row": null,
       "grid_template_areas": null,
       "grid_template_columns": null,
       "grid_template_rows": null,
       "height": null,
       "justify_content": null,
       "justify_items": null,
       "left": null,
       "margin": null,
       "max_height": null,
       "max_width": null,
       "min_height": null,
       "min_width": null,
       "object_fit": null,
       "object_position": null,
       "order": null,
       "overflow": null,
       "overflow_x": null,
       "overflow_y": null,
       "padding": null,
       "right": null,
       "top": null,
       "visibility": null,
       "width": null
      }
     },
     "40839a037cc34b80b91afd747ad8cc2e": {
      "model_module": "@jupyter-widgets/controls",
      "model_module_version": "1.5.0",
      "model_name": "HBoxModel",
      "state": {
       "_dom_classes": [],
       "_model_module": "@jupyter-widgets/controls",
       "_model_module_version": "1.5.0",
       "_model_name": "HBoxModel",
       "_view_count": null,
       "_view_module": "@jupyter-widgets/controls",
       "_view_module_version": "1.5.0",
       "_view_name": "HBoxView",
       "box_style": "",
       "children": [
        "IPY_MODEL_1b7b275fc87c4f41a8daa7fbf89a7fb3",
        "IPY_MODEL_98b514be638d442b9746ae612eec8e77",
        "IPY_MODEL_b824b4a9ca724600b3e3b395b0d4ea32"
       ],
       "layout": "IPY_MODEL_61e6503828124615ad9c6bf0585444c7"
      }
     },
     "40f3110fdb374a49ac6e7a4813c9bace": {
      "model_module": "@jupyter-widgets/controls",
      "model_module_version": "1.5.0",
      "model_name": "HTMLModel",
      "state": {
       "_dom_classes": [],
       "_model_module": "@jupyter-widgets/controls",
       "_model_module_version": "1.5.0",
       "_model_name": "HTMLModel",
       "_view_count": null,
       "_view_module": "@jupyter-widgets/controls",
       "_view_module_version": "1.5.0",
       "_view_name": "HTMLView",
       "description": "",
       "description_tooltip": null,
       "layout": "IPY_MODEL_3ed01afc83bf44d8be773f12e7d70780",
       "placeholder": "​",
       "style": "IPY_MODEL_6dfcdbacfd274583b3f7330d446e32c1",
       "value": "Downloading builder script: 100%"
      }
     },
     "41877e3c1e114d1b981c230398517075": {
      "model_module": "@jupyter-widgets/base",
      "model_module_version": "1.2.0",
      "model_name": "LayoutModel",
      "state": {
       "_model_module": "@jupyter-widgets/base",
       "_model_module_version": "1.2.0",
       "_model_name": "LayoutModel",
       "_view_count": null,
       "_view_module": "@jupyter-widgets/base",
       "_view_module_version": "1.2.0",
       "_view_name": "LayoutView",
       "align_content": null,
       "align_items": null,
       "align_self": null,
       "border": null,
       "bottom": null,
       "display": null,
       "flex": null,
       "flex_flow": null,
       "grid_area": null,
       "grid_auto_columns": null,
       "grid_auto_flow": null,
       "grid_auto_rows": null,
       "grid_column": null,
       "grid_gap": null,
       "grid_row": null,
       "grid_template_areas": null,
       "grid_template_columns": null,
       "grid_template_rows": null,
       "height": null,
       "justify_content": null,
       "justify_items": null,
       "left": null,
       "margin": null,
       "max_height": null,
       "max_width": null,
       "min_height": null,
       "min_width": null,
       "object_fit": null,
       "object_position": null,
       "order": null,
       "overflow": null,
       "overflow_x": null,
       "overflow_y": null,
       "padding": null,
       "right": null,
       "top": null,
       "visibility": null,
       "width": null
      }
     },
     "4a157393d68b4524a073432617946e9d": {
      "model_module": "@jupyter-widgets/controls",
      "model_module_version": "1.5.0",
      "model_name": "HTMLModel",
      "state": {
       "_dom_classes": [],
       "_model_module": "@jupyter-widgets/controls",
       "_model_module_version": "1.5.0",
       "_model_name": "HTMLModel",
       "_view_count": null,
       "_view_module": "@jupyter-widgets/controls",
       "_view_module_version": "1.5.0",
       "_view_name": "HTMLView",
       "description": "",
       "description_tooltip": null,
       "layout": "IPY_MODEL_0b2770b2ddbc47c5a513c76320a7cada",
       "placeholder": "​",
       "style": "IPY_MODEL_6b56a0a5451c4b70a7375cb3135a676c",
       "value": "pytorch_model.bin: 100%"
      }
     },
     "4b8f63518b6a46e6bd9fb12543e83c6a": {
      "model_module": "@jupyter-widgets/controls",
      "model_module_version": "1.5.0",
      "model_name": "ProgressStyleModel",
      "state": {
       "_model_module": "@jupyter-widgets/controls",
       "_model_module_version": "1.5.0",
       "_model_name": "ProgressStyleModel",
       "_view_count": null,
       "_view_module": "@jupyter-widgets/base",
       "_view_module_version": "1.2.0",
       "_view_name": "StyleView",
       "bar_color": null,
       "description_width": ""
      }
     },
     "4c321b6a1490442c9fa2631c3be26100": {
      "model_module": "@jupyter-widgets/controls",
      "model_module_version": "1.5.0",
      "model_name": "HTMLModel",
      "state": {
       "_dom_classes": [],
       "_model_module": "@jupyter-widgets/controls",
       "_model_module_version": "1.5.0",
       "_model_name": "HTMLModel",
       "_view_count": null,
       "_view_module": "@jupyter-widgets/controls",
       "_view_module_version": "1.5.0",
       "_view_name": "HTMLView",
       "description": "",
       "description_tooltip": null,
       "layout": "IPY_MODEL_2a80a4a1350c42d48758f3b32eae8098",
       "placeholder": "​",
       "style": "IPY_MODEL_c6bc34911bc041f9a39045c821d2ad6c",
       "value": " 996k/996k [00:00&lt;00:00, 5.37MB/s]"
      }
     },
     "4c5da6b77e9f4d4dadb0e68ec386fdc4": {
      "model_module": "@jupyter-widgets/controls",
      "model_module_version": "1.5.0",
      "model_name": "ProgressStyleModel",
      "state": {
       "_model_module": "@jupyter-widgets/controls",
       "_model_module_version": "1.5.0",
       "_model_name": "ProgressStyleModel",
       "_view_count": null,
       "_view_module": "@jupyter-widgets/base",
       "_view_module_version": "1.2.0",
       "_view_name": "StyleView",
       "bar_color": null,
       "description_width": ""
      }
     },
     "4e644bbd2a084141b0bb5550bde3314f": {
      "model_module": "@jupyter-widgets/controls",
      "model_module_version": "1.5.0",
      "model_name": "FloatProgressModel",
      "state": {
       "_dom_classes": [],
       "_model_module": "@jupyter-widgets/controls",
       "_model_module_version": "1.5.0",
       "_model_name": "FloatProgressModel",
       "_view_count": null,
       "_view_module": "@jupyter-widgets/controls",
       "_view_module_version": "1.5.0",
       "_view_name": "ProgressView",
       "bar_style": "success",
       "description": "",
       "description_tooltip": null,
       "layout": "IPY_MODEL_0a80cf46d61846c791876abd774d93bc",
       "max": 1962013.0,
       "min": 0.0,
       "orientation": "horizontal",
       "style": "IPY_MODEL_aef9d4a4e99646dfbab4d32f08ec2c61",
       "value": 1962013.0
      }
     },
     "53cc1ada656c4d7b9799fa5505a3fd1f": {
      "model_module": "@jupyter-widgets/controls",
      "model_module_version": "1.5.0",
      "model_name": "DescriptionStyleModel",
      "state": {
       "_model_module": "@jupyter-widgets/controls",
       "_model_module_version": "1.5.0",
       "_model_name": "DescriptionStyleModel",
       "_view_count": null,
       "_view_module": "@jupyter-widgets/base",
       "_view_module_version": "1.2.0",
       "_view_name": "StyleView",
       "description_width": ""
      }
     },
     "5ae176a2dbc148c9ac1f046d2d9645a8": {
      "model_module": "@jupyter-widgets/controls",
      "model_module_version": "1.5.0",
      "model_name": "ProgressStyleModel",
      "state": {
       "_model_module": "@jupyter-widgets/controls",
       "_model_module_version": "1.5.0",
       "_model_name": "ProgressStyleModel",
       "_view_count": null,
       "_view_module": "@jupyter-widgets/base",
       "_view_module_version": "1.2.0",
       "_view_name": "StyleView",
       "bar_color": null,
       "description_width": ""
      }
     },
     "5c3ef74b112e4fba809ddb260d628e21": {
      "model_module": "@jupyter-widgets/controls",
      "model_module_version": "1.5.0",
      "model_name": "HTMLModel",
      "state": {
       "_dom_classes": [],
       "_model_module": "@jupyter-widgets/controls",
       "_model_module_version": "1.5.0",
       "_model_name": "HTMLModel",
       "_view_count": null,
       "_view_module": "@jupyter-widgets/controls",
       "_view_module_version": "1.5.0",
       "_view_name": "HTMLView",
       "description": "",
       "description_tooltip": null,
       "layout": "IPY_MODEL_745d47bb74894f1b9cdb588bc442acf3",
       "placeholder": "​",
       "style": "IPY_MODEL_7ae3764bf7a643ba8cdf104ecbedce24",
       "value": " 112/112 [00:00&lt;00:00, 9.51kB/s]"
      }
     },
     "5c5da78307cd4adbb040d706dce0b6a6": {
      "model_module": "@jupyter-widgets/controls",
      "model_module_version": "1.5.0",
      "model_name": "FloatProgressModel",
      "state": {
       "_dom_classes": [],
       "_model_module": "@jupyter-widgets/controls",
       "_model_module_version": "1.5.0",
       "_model_name": "FloatProgressModel",
       "_view_count": null,
       "_view_module": "@jupyter-widgets/controls",
       "_view_module_version": "1.5.0",
       "_view_name": "ProgressView",
       "bar_style": "success",
       "description": "",
       "description_tooltip": null,
       "layout": "IPY_MODEL_3035b376645843b1b3d672e7cd1a2f9e",
       "max": 112.0,
       "min": 0.0,
       "orientation": "horizontal",
       "style": "IPY_MODEL_0f43e5b36f0a45bcb1189d62215637f4",
       "value": 112.0
      }
     },
     "61e6503828124615ad9c6bf0585444c7": {
      "model_module": "@jupyter-widgets/base",
      "model_module_version": "1.2.0",
      "model_name": "LayoutModel",
      "state": {
       "_model_module": "@jupyter-widgets/base",
       "_model_module_version": "1.2.0",
       "_model_name": "LayoutModel",
       "_view_count": null,
       "_view_module": "@jupyter-widgets/base",
       "_view_module_version": "1.2.0",
       "_view_name": "LayoutView",
       "align_content": null,
       "align_items": null,
       "align_self": null,
       "border": null,
       "bottom": null,
       "display": null,
       "flex": null,
       "flex_flow": null,
       "grid_area": null,
       "grid_auto_columns": null,
       "grid_auto_flow": null,
       "grid_auto_rows": null,
       "grid_column": null,
       "grid_gap": null,
       "grid_row": null,
       "grid_template_areas": null,
       "grid_template_columns": null,
       "grid_template_rows": null,
       "height": null,
       "justify_content": null,
       "justify_items": null,
       "left": null,
       "margin": null,
       "max_height": null,
       "max_width": null,
       "min_height": null,
       "min_width": null,
       "object_fit": null,
       "object_position": null,
       "order": null,
       "overflow": null,
       "overflow_x": null,
       "overflow_y": null,
       "padding": null,
       "right": null,
       "top": null,
       "visibility": null,
       "width": null
      }
     },
     "695be0ab0b3347a9936a09c575211a3d": {
      "model_module": "@jupyter-widgets/base",
      "model_module_version": "1.2.0",
      "model_name": "LayoutModel",
      "state": {
       "_model_module": "@jupyter-widgets/base",
       "_model_module_version": "1.2.0",
       "_model_name": "LayoutModel",
       "_view_count": null,
       "_view_module": "@jupyter-widgets/base",
       "_view_module_version": "1.2.0",
       "_view_name": "LayoutView",
       "align_content": null,
       "align_items": null,
       "align_self": null,
       "border": null,
       "bottom": null,
       "display": null,
       "flex": null,
       "flex_flow": null,
       "grid_area": null,
       "grid_auto_columns": null,
       "grid_auto_flow": null,
       "grid_auto_rows": null,
       "grid_column": null,
       "grid_gap": null,
       "grid_row": null,
       "grid_template_areas": null,
       "grid_template_columns": null,
       "grid_template_rows": null,
       "height": null,
       "justify_content": null,
       "justify_items": null,
       "left": null,
       "margin": null,
       "max_height": null,
       "max_width": null,
       "min_height": null,
       "min_width": null,
       "object_fit": null,
       "object_position": null,
       "order": null,
       "overflow": null,
       "overflow_x": null,
       "overflow_y": null,
       "padding": null,
       "right": null,
       "top": null,
       "visibility": null,
       "width": null
      }
     },
     "696542562361463c84c86de71ac16238": {
      "model_module": "@jupyter-widgets/base",
      "model_module_version": "1.2.0",
      "model_name": "LayoutModel",
      "state": {
       "_model_module": "@jupyter-widgets/base",
       "_model_module_version": "1.2.0",
       "_model_name": "LayoutModel",
       "_view_count": null,
       "_view_module": "@jupyter-widgets/base",
       "_view_module_version": "1.2.0",
       "_view_name": "LayoutView",
       "align_content": null,
       "align_items": null,
       "align_self": null,
       "border": null,
       "bottom": null,
       "display": null,
       "flex": null,
       "flex_flow": null,
       "grid_area": null,
       "grid_auto_columns": null,
       "grid_auto_flow": null,
       "grid_auto_rows": null,
       "grid_column": null,
       "grid_gap": null,
       "grid_row": null,
       "grid_template_areas": null,
       "grid_template_columns": null,
       "grid_template_rows": null,
       "height": null,
       "justify_content": null,
       "justify_items": null,
       "left": null,
       "margin": null,
       "max_height": null,
       "max_width": null,
       "min_height": null,
       "min_width": null,
       "object_fit": null,
       "object_position": null,
       "order": null,
       "overflow": null,
       "overflow_x": null,
       "overflow_y": null,
       "padding": null,
       "right": null,
       "top": null,
       "visibility": null,
       "width": null
      }
     },
     "69f2f07695fc465c93f4bda45cf275f5": {
      "model_module": "@jupyter-widgets/controls",
      "model_module_version": "1.5.0",
      "model_name": "HBoxModel",
      "state": {
       "_dom_classes": [],
       "_model_module": "@jupyter-widgets/controls",
       "_model_module_version": "1.5.0",
       "_model_name": "HBoxModel",
       "_view_count": null,
       "_view_module": "@jupyter-widgets/controls",
       "_view_module_version": "1.5.0",
       "_view_name": "HBoxView",
       "box_style": "",
       "children": [
        "IPY_MODEL_40f3110fdb374a49ac6e7a4813c9bace",
        "IPY_MODEL_7886b3d44a864cf181ab5c36923772c0",
        "IPY_MODEL_cbdea5962b024a87877b2f450dcaf2ae"
       ],
       "layout": "IPY_MODEL_fe0070ac17bf4959b8251345f230612e"
      }
     },
     "6b56a0a5451c4b70a7375cb3135a676c": {
      "model_module": "@jupyter-widgets/controls",
      "model_module_version": "1.5.0",
      "model_name": "DescriptionStyleModel",
      "state": {
       "_model_module": "@jupyter-widgets/controls",
       "_model_module_version": "1.5.0",
       "_model_name": "DescriptionStyleModel",
       "_view_count": null,
       "_view_module": "@jupyter-widgets/base",
       "_view_module_version": "1.2.0",
       "_view_name": "StyleView",
       "description_width": ""
      }
     },
     "6dfcdbacfd274583b3f7330d446e32c1": {
      "model_module": "@jupyter-widgets/controls",
      "model_module_version": "1.5.0",
      "model_name": "DescriptionStyleModel",
      "state": {
       "_model_module": "@jupyter-widgets/controls",
       "_model_module_version": "1.5.0",
       "_model_name": "DescriptionStyleModel",
       "_view_count": null,
       "_view_module": "@jupyter-widgets/base",
       "_view_module_version": "1.2.0",
       "_view_name": "StyleView",
       "description_width": ""
      }
     },
     "6e29116aebe54ccebdfeca8dc0076a53": {
      "model_module": "@jupyter-widgets/base",
      "model_module_version": "1.2.0",
      "model_name": "LayoutModel",
      "state": {
       "_model_module": "@jupyter-widgets/base",
       "_model_module_version": "1.2.0",
       "_model_name": "LayoutModel",
       "_view_count": null,
       "_view_module": "@jupyter-widgets/base",
       "_view_module_version": "1.2.0",
       "_view_name": "LayoutView",
       "align_content": null,
       "align_items": null,
       "align_self": null,
       "border": null,
       "bottom": null,
       "display": null,
       "flex": null,
       "flex_flow": null,
       "grid_area": null,
       "grid_auto_columns": null,
       "grid_auto_flow": null,
       "grid_auto_rows": null,
       "grid_column": null,
       "grid_gap": null,
       "grid_row": null,
       "grid_template_areas": null,
       "grid_template_columns": null,
       "grid_template_rows": null,
       "height": null,
       "justify_content": null,
       "justify_items": null,
       "left": null,
       "margin": null,
       "max_height": null,
       "max_width": null,
       "min_height": null,
       "min_width": null,
       "object_fit": null,
       "object_position": null,
       "order": null,
       "overflow": null,
       "overflow_x": null,
       "overflow_y": null,
       "padding": null,
       "right": null,
       "top": null,
       "visibility": null,
       "width": null
      }
     },
     "6e7715e4b4464f93924069a29eb30aa1": {
      "model_module": "@jupyter-widgets/controls",
      "model_module_version": "1.5.0",
      "model_name": "HBoxModel",
      "state": {
       "_dom_classes": [],
       "_model_module": "@jupyter-widgets/controls",
       "_model_module_version": "1.5.0",
       "_model_name": "HBoxModel",
       "_view_count": null,
       "_view_module": "@jupyter-widgets/controls",
       "_view_module_version": "1.5.0",
       "_view_name": "HBoxView",
       "box_style": "",
       "children": [
        "IPY_MODEL_fab0d2bb6fc045cd82bf9dbc13b473b2",
        "IPY_MODEL_1bb94977e1c74a6d8a6290b01435fb15",
        "IPY_MODEL_fde71be633104ec1881155d207213469"
       ],
       "layout": "IPY_MODEL_d9972528d7574f689bc77277701f5ec6"
      }
     },
     "722fab19b7b74015a46e9b3338eb2850": {
      "model_module": "@jupyter-widgets/controls",
      "model_module_version": "1.5.0",
      "model_name": "HBoxModel",
      "state": {
       "_dom_classes": [],
       "_model_module": "@jupyter-widgets/controls",
       "_model_module_version": "1.5.0",
       "_model_name": "HBoxModel",
       "_view_count": null,
       "_view_module": "@jupyter-widgets/controls",
       "_view_module_version": "1.5.0",
       "_view_name": "HBoxView",
       "box_style": "",
       "children": [
        "IPY_MODEL_833c3f2a2c244ad980c49c1198ea8a3e",
        "IPY_MODEL_5c5da78307cd4adbb040d706dce0b6a6",
        "IPY_MODEL_5c3ef74b112e4fba809ddb260d628e21"
       ],
       "layout": "IPY_MODEL_d4e33f6fe75b4de090b5ac0ec2264214"
      }
     },
     "731affa0fbe049789a24092ae77d3ff0": {
      "model_module": "@jupyter-widgets/controls",
      "model_module_version": "1.5.0",
      "model_name": "FloatProgressModel",
      "state": {
       "_dom_classes": [],
       "_model_module": "@jupyter-widgets/controls",
       "_model_module_version": "1.5.0",
       "_model_name": "FloatProgressModel",
       "_view_count": null,
       "_view_module": "@jupyter-widgets/controls",
       "_view_module_version": "1.5.0",
       "_view_name": "ProgressView",
       "bar_style": "success",
       "description": "",
       "description_tooltip": null,
       "layout": "IPY_MODEL_6e29116aebe54ccebdfeca8dc0076a53",
       "max": 345.0,
       "min": 0.0,
       "orientation": "horizontal",
       "style": "IPY_MODEL_4b8f63518b6a46e6bd9fb12543e83c6a",
       "value": 345.0
      }
     },
     "745d47bb74894f1b9cdb588bc442acf3": {
      "model_module": "@jupyter-widgets/base",
      "model_module_version": "1.2.0",
      "model_name": "LayoutModel",
      "state": {
       "_model_module": "@jupyter-widgets/base",
       "_model_module_version": "1.2.0",
       "_model_name": "LayoutModel",
       "_view_count": null,
       "_view_module": "@jupyter-widgets/base",
       "_view_module_version": "1.2.0",
       "_view_name": "LayoutView",
       "align_content": null,
       "align_items": null,
       "align_self": null,
       "border": null,
       "bottom": null,
       "display": null,
       "flex": null,
       "flex_flow": null,
       "grid_area": null,
       "grid_auto_columns": null,
       "grid_auto_flow": null,
       "grid_auto_rows": null,
       "grid_column": null,
       "grid_gap": null,
       "grid_row": null,
       "grid_template_areas": null,
       "grid_template_columns": null,
       "grid_template_rows": null,
       "height": null,
       "justify_content": null,
       "justify_items": null,
       "left": null,
       "margin": null,
       "max_height": null,
       "max_width": null,
       "min_height": null,
       "min_width": null,
       "object_fit": null,
       "object_position": null,
       "order": null,
       "overflow": null,
       "overflow_x": null,
       "overflow_y": null,
       "padding": null,
       "right": null,
       "top": null,
       "visibility": null,
       "width": null
      }
     },
     "753f75d7e5d04ad4a3e4b4e512344e6b": {
      "model_module": "@jupyter-widgets/base",
      "model_module_version": "1.2.0",
      "model_name": "LayoutModel",
      "state": {
       "_model_module": "@jupyter-widgets/base",
       "_model_module_version": "1.2.0",
       "_model_name": "LayoutModel",
       "_view_count": null,
       "_view_module": "@jupyter-widgets/base",
       "_view_module_version": "1.2.0",
       "_view_name": "LayoutView",
       "align_content": null,
       "align_items": null,
       "align_self": null,
       "border": null,
       "bottom": null,
       "display": null,
       "flex": null,
       "flex_flow": null,
       "grid_area": null,
       "grid_auto_columns": null,
       "grid_auto_flow": null,
       "grid_auto_rows": null,
       "grid_column": null,
       "grid_gap": null,
       "grid_row": null,
       "grid_template_areas": null,
       "grid_template_columns": null,
       "grid_template_rows": null,
       "height": null,
       "justify_content": null,
       "justify_items": null,
       "left": null,
       "margin": null,
       "max_height": null,
       "max_width": null,
       "min_height": null,
       "min_width": null,
       "object_fit": null,
       "object_position": null,
       "order": null,
       "overflow": null,
       "overflow_x": null,
       "overflow_y": null,
       "padding": null,
       "right": null,
       "top": null,
       "visibility": null,
       "width": null
      }
     },
     "7886b3d44a864cf181ab5c36923772c0": {
      "model_module": "@jupyter-widgets/controls",
      "model_module_version": "1.5.0",
      "model_name": "FloatProgressModel",
      "state": {
       "_dom_classes": [],
       "_model_module": "@jupyter-widgets/controls",
       "_model_module_version": "1.5.0",
       "_model_name": "FloatProgressModel",
       "_view_count": null,
       "_view_module": "@jupyter-widgets/controls",
       "_view_module_version": "1.5.0",
       "_view_name": "ProgressView",
       "bar_style": "success",
       "description": "",
       "description_tooltip": null,
       "layout": "IPY_MODEL_280f7ce3f7ec40dbae8c0ba2407657ad",
       "max": 4203.0,
       "min": 0.0,
       "orientation": "horizontal",
       "style": "IPY_MODEL_5ae176a2dbc148c9ac1f046d2d9645a8",
       "value": 4203.0
      }
     },
     "7ae3764bf7a643ba8cdf104ecbedce24": {
      "model_module": "@jupyter-widgets/controls",
      "model_module_version": "1.5.0",
      "model_name": "DescriptionStyleModel",
      "state": {
       "_model_module": "@jupyter-widgets/controls",
       "_model_module_version": "1.5.0",
       "_model_name": "DescriptionStyleModel",
       "_view_count": null,
       "_view_module": "@jupyter-widgets/base",
       "_view_module_version": "1.2.0",
       "_view_name": "StyleView",
       "description_width": ""
      }
     },
     "7dfc22411f2040c589345a9cf6c56b04": {
      "model_module": "@jupyter-widgets/controls",
      "model_module_version": "1.5.0",
      "model_name": "HTMLModel",
      "state": {
       "_dom_classes": [],
       "_model_module": "@jupyter-widgets/controls",
       "_model_module_version": "1.5.0",
       "_model_name": "HTMLModel",
       "_view_count": null,
       "_view_module": "@jupyter-widgets/controls",
       "_view_module_version": "1.5.0",
       "_view_name": "HTMLView",
       "description": "",
       "description_tooltip": null,
       "layout": "IPY_MODEL_3d61d1764c7a44efb6989180af4286df",
       "placeholder": "​",
       "style": "IPY_MODEL_3687bbd9065d4fe48b7da44a121bfe52",
       "value": " 7.55k/7.55k [00:00&lt;00:00, 571kB/s]"
      }
     },
     "7f0955982469403f9fc00c038ce3fdd3": {
      "model_module": "@jupyter-widgets/base",
      "model_module_version": "1.2.0",
      "model_name": "LayoutModel",
      "state": {
       "_model_module": "@jupyter-widgets/base",
       "_model_module_version": "1.2.0",
       "_model_name": "LayoutModel",
       "_view_count": null,
       "_view_module": "@jupyter-widgets/base",
       "_view_module_version": "1.2.0",
       "_view_name": "LayoutView",
       "align_content": null,
       "align_items": null,
       "align_self": null,
       "border": null,
       "bottom": null,
       "display": null,
       "flex": null,
       "flex_flow": null,
       "grid_area": null,
       "grid_auto_columns": null,
       "grid_auto_flow": null,
       "grid_auto_rows": null,
       "grid_column": null,
       "grid_gap": null,
       "grid_row": null,
       "grid_template_areas": null,
       "grid_template_columns": null,
       "grid_template_rows": null,
       "height": null,
       "justify_content": null,
       "justify_items": null,
       "left": null,
       "margin": null,
       "max_height": null,
       "max_width": null,
       "min_height": null,
       "min_width": null,
       "object_fit": null,
       "object_position": null,
       "order": null,
       "overflow": null,
       "overflow_x": null,
       "overflow_y": null,
       "padding": null,
       "right": null,
       "top": null,
       "visibility": null,
       "width": null
      }
     },
     "833c3f2a2c244ad980c49c1198ea8a3e": {
      "model_module": "@jupyter-widgets/controls",
      "model_module_version": "1.5.0",
      "model_name": "HTMLModel",
      "state": {
       "_dom_classes": [],
       "_model_module": "@jupyter-widgets/controls",
       "_model_module_version": "1.5.0",
       "_model_name": "HTMLModel",
       "_view_count": null,
       "_view_module": "@jupyter-widgets/controls",
       "_view_module_version": "1.5.0",
       "_view_name": "HTMLView",
       "description": "",
       "description_tooltip": null,
       "layout": "IPY_MODEL_695be0ab0b3347a9936a09c575211a3d",
       "placeholder": "​",
       "style": "IPY_MODEL_a79730d4143a4e0ebebd72bb4e39496c",
       "value": "special_tokens_map.json: 100%"
      }
     },
     "8a23e2c2308946c39b6b5cba3029bac1": {
      "model_module": "@jupyter-widgets/controls",
      "model_module_version": "1.5.0",
      "model_name": "HTMLModel",
      "state": {
       "_dom_classes": [],
       "_model_module": "@jupyter-widgets/controls",
       "_model_module_version": "1.5.0",
       "_model_name": "HTMLModel",
       "_view_count": null,
       "_view_module": "@jupyter-widgets/controls",
       "_view_module_version": "1.5.0",
       "_view_name": "HTMLView",
       "description": "",
       "description_tooltip": null,
       "layout": "IPY_MODEL_ef8d70d73c364e75a0648423fa56d9d3",
       "placeholder": "​",
       "style": "IPY_MODEL_bceaa7540dae486194efade1c08eabce",
       "value": " 1.96M/1.96M [00:00&lt;00:00, 6.69MB/s]"
      }
     },
     "94bd8a0666c24e87b7702caaee79b9bb": {
      "model_module": "@jupyter-widgets/base",
      "model_module_version": "1.2.0",
      "model_name": "LayoutModel",
      "state": {
       "_model_module": "@jupyter-widgets/base",
       "_model_module_version": "1.2.0",
       "_model_name": "LayoutModel",
       "_view_count": null,
       "_view_module": "@jupyter-widgets/base",
       "_view_module_version": "1.2.0",
       "_view_name": "LayoutView",
       "align_content": null,
       "align_items": null,
       "align_self": null,
       "border": null,
       "bottom": null,
       "display": null,
       "flex": null,
       "flex_flow": null,
       "grid_area": null,
       "grid_auto_columns": null,
       "grid_auto_flow": null,
       "grid_auto_rows": null,
       "grid_column": null,
       "grid_gap": null,
       "grid_row": null,
       "grid_template_areas": null,
       "grid_template_columns": null,
       "grid_template_rows": null,
       "height": null,
       "justify_content": null,
       "justify_items": null,
       "left": null,
       "margin": null,
       "max_height": null,
       "max_width": null,
       "min_height": null,
       "min_width": null,
       "object_fit": null,
       "object_position": null,
       "order": null,
       "overflow": null,
       "overflow_x": null,
       "overflow_y": null,
       "padding": null,
       "right": null,
       "top": null,
       "visibility": null,
       "width": null
      }
     },
     "9575623d6c7447ddb13b25a96cf00d7a": {
      "model_module": "@jupyter-widgets/base",
      "model_module_version": "1.2.0",
      "model_name": "LayoutModel",
      "state": {
       "_model_module": "@jupyter-widgets/base",
       "_model_module_version": "1.2.0",
       "_model_name": "LayoutModel",
       "_view_count": null,
       "_view_module": "@jupyter-widgets/base",
       "_view_module_version": "1.2.0",
       "_view_name": "LayoutView",
       "align_content": null,
       "align_items": null,
       "align_self": null,
       "border": null,
       "bottom": null,
       "display": null,
       "flex": null,
       "flex_flow": null,
       "grid_area": null,
       "grid_auto_columns": null,
       "grid_auto_flow": null,
       "grid_auto_rows": null,
       "grid_column": null,
       "grid_gap": null,
       "grid_row": null,
       "grid_template_areas": null,
       "grid_template_columns": null,
       "grid_template_rows": null,
       "height": null,
       "justify_content": null,
       "justify_items": null,
       "left": null,
       "margin": null,
       "max_height": null,
       "max_width": null,
       "min_height": null,
       "min_width": null,
       "object_fit": null,
       "object_position": null,
       "order": null,
       "overflow": null,
       "overflow_x": null,
       "overflow_y": null,
       "padding": null,
       "right": null,
       "top": null,
       "visibility": null,
       "width": null
      }
     },
     "95dd303aff5f48abbf9e562494791b11": {
      "model_module": "@jupyter-widgets/controls",
      "model_module_version": "1.5.0",
      "model_name": "DescriptionStyleModel",
      "state": {
       "_model_module": "@jupyter-widgets/controls",
       "_model_module_version": "1.5.0",
       "_model_name": "DescriptionStyleModel",
       "_view_count": null,
       "_view_module": "@jupyter-widgets/base",
       "_view_module_version": "1.2.0",
       "_view_name": "StyleView",
       "description_width": ""
      }
     },
     "961601c0549b41439644b402b2d4bf0f": {
      "model_module": "@jupyter-widgets/base",
      "model_module_version": "1.2.0",
      "model_name": "LayoutModel",
      "state": {
       "_model_module": "@jupyter-widgets/base",
       "_model_module_version": "1.2.0",
       "_model_name": "LayoutModel",
       "_view_count": null,
       "_view_module": "@jupyter-widgets/base",
       "_view_module_version": "1.2.0",
       "_view_name": "LayoutView",
       "align_content": null,
       "align_items": null,
       "align_self": null,
       "border": null,
       "bottom": null,
       "display": null,
       "flex": null,
       "flex_flow": null,
       "grid_area": null,
       "grid_auto_columns": null,
       "grid_auto_flow": null,
       "grid_auto_rows": null,
       "grid_column": null,
       "grid_gap": null,
       "grid_row": null,
       "grid_template_areas": null,
       "grid_template_columns": null,
       "grid_template_rows": null,
       "height": null,
       "justify_content": null,
       "justify_items": null,
       "left": null,
       "margin": null,
       "max_height": null,
       "max_width": null,
       "min_height": null,
       "min_width": null,
       "object_fit": null,
       "object_position": null,
       "order": null,
       "overflow": null,
       "overflow_x": null,
       "overflow_y": null,
       "padding": null,
       "right": null,
       "top": null,
       "visibility": null,
       "width": null
      }
     },
     "98b514be638d442b9746ae612eec8e77": {
      "model_module": "@jupyter-widgets/controls",
      "model_module_version": "1.5.0",
      "model_name": "FloatProgressModel",
      "state": {
       "_dom_classes": [],
       "_model_module": "@jupyter-widgets/controls",
       "_model_module_version": "1.5.0",
       "_model_name": "FloatProgressModel",
       "_view_count": null,
       "_view_module": "@jupyter-widgets/controls",
       "_view_module_version": "1.5.0",
       "_view_name": "ProgressView",
       "bar_style": "success",
       "description": "",
       "description_tooltip": null,
       "layout": "IPY_MODEL_e2b9413a72f14515b60f22eab451fa33",
       "max": 7363.0,
       "min": 0.0,
       "orientation": "horizontal",
       "style": "IPY_MODEL_e2b514a6b41044729a400e08e3d98e49",
       "value": 7363.0
      }
     },
     "9c42b5f465ed49eeaa650af6223c05b9": {
      "model_module": "@jupyter-widgets/controls",
      "model_module_version": "1.5.0",
      "model_name": "HTMLModel",
      "state": {
       "_dom_classes": [],
       "_model_module": "@jupyter-widgets/controls",
       "_model_module_version": "1.5.0",
       "_model_name": "HTMLModel",
       "_view_count": null,
       "_view_module": "@jupyter-widgets/controls",
       "_view_module_version": "1.5.0",
       "_view_name": "HTMLView",
       "description": "",
       "description_tooltip": null,
       "layout": "IPY_MODEL_f6f68065b23f4bb6b029356eaa2a7251",
       "placeholder": "​",
       "style": "IPY_MODEL_06121766591244ca8167cf89335ea2f7",
       "value": " 541M/541M [00:01&lt;00:00, 321MB/s]"
      }
     },
     "9d4b7214edd2482bb94151005fd56131": {
      "model_module": "@jupyter-widgets/base",
      "model_module_version": "1.2.0",
      "model_name": "LayoutModel",
      "state": {
       "_model_module": "@jupyter-widgets/base",
       "_model_module_version": "1.2.0",
       "_model_name": "LayoutModel",
       "_view_count": null,
       "_view_module": "@jupyter-widgets/base",
       "_view_module_version": "1.2.0",
       "_view_name": "LayoutView",
       "align_content": null,
       "align_items": null,
       "align_self": null,
       "border": null,
       "bottom": null,
       "display": null,
       "flex": null,
       "flex_flow": null,
       "grid_area": null,
       "grid_auto_columns": null,
       "grid_auto_flow": null,
       "grid_auto_rows": null,
       "grid_column": null,
       "grid_gap": null,
       "grid_row": null,
       "grid_template_areas": null,
       "grid_template_columns": null,
       "grid_template_rows": null,
       "height": null,
       "justify_content": null,
       "justify_items": null,
       "left": null,
       "margin": null,
       "max_height": null,
       "max_width": null,
       "min_height": null,
       "min_width": null,
       "object_fit": null,
       "object_position": null,
       "order": null,
       "overflow": null,
       "overflow_x": null,
       "overflow_y": null,
       "padding": null,
       "right": null,
       "top": null,
       "visibility": null,
       "width": null
      }
     },
     "9ed320c3406e4c0089916ef8532927f4": {
      "model_module": "@jupyter-widgets/controls",
      "model_module_version": "1.5.0",
      "model_name": "HBoxModel",
      "state": {
       "_dom_classes": [],
       "_model_module": "@jupyter-widgets/controls",
       "_model_module_version": "1.5.0",
       "_model_name": "HBoxModel",
       "_view_count": null,
       "_view_module": "@jupyter-widgets/controls",
       "_view_module_version": "1.5.0",
       "_view_name": "HBoxView",
       "box_style": "",
       "children": [
        "IPY_MODEL_edcca130284e425cab25b96bba1bec3b",
        "IPY_MODEL_315f2adb078340ac8602ced1211cf198",
        "IPY_MODEL_085e5a0653744df196ff60d56fba63ad"
       ],
       "layout": "IPY_MODEL_38046257b44e4228b59332b77d245b8b"
      }
     },
     "a1ecd1c708884f0c9a7c931f08553a22": {
      "model_module": "@jupyter-widgets/controls",
      "model_module_version": "1.5.0",
      "model_name": "FloatProgressModel",
      "state": {
       "_dom_classes": [],
       "_model_module": "@jupyter-widgets/controls",
       "_model_module_version": "1.5.0",
       "_model_name": "FloatProgressModel",
       "_view_count": null,
       "_view_module": "@jupyter-widgets/controls",
       "_view_module_version": "1.5.0",
       "_view_name": "ProgressView",
       "bar_style": "success",
       "description": "",
       "description_tooltip": null,
       "layout": "IPY_MODEL_0818e3e361b34cce80842727e6506d6b",
       "max": 541347991.0,
       "min": 0.0,
       "orientation": "horizontal",
       "style": "IPY_MODEL_b3c8df9875c64500aef113d245d54297",
       "value": 541347991.0
      }
     },
     "a543e8b0daa54e4e9351a85a683cc283": {
      "model_module": "@jupyter-widgets/base",
      "model_module_version": "1.2.0",
      "model_name": "LayoutModel",
      "state": {
       "_model_module": "@jupyter-widgets/base",
       "_model_module_version": "1.2.0",
       "_model_name": "LayoutModel",
       "_view_count": null,
       "_view_module": "@jupyter-widgets/base",
       "_view_module_version": "1.2.0",
       "_view_name": "LayoutView",
       "align_content": null,
       "align_items": null,
       "align_self": null,
       "border": null,
       "bottom": null,
       "display": null,
       "flex": null,
       "flex_flow": null,
       "grid_area": null,
       "grid_auto_columns": null,
       "grid_auto_flow": null,
       "grid_auto_rows": null,
       "grid_column": null,
       "grid_gap": null,
       "grid_row": null,
       "grid_template_areas": null,
       "grid_template_columns": null,
       "grid_template_rows": null,
       "height": null,
       "justify_content": null,
       "justify_items": null,
       "left": null,
       "margin": null,
       "max_height": null,
       "max_width": null,
       "min_height": null,
       "min_width": null,
       "object_fit": null,
       "object_position": null,
       "order": null,
       "overflow": null,
       "overflow_x": null,
       "overflow_y": null,
       "padding": null,
       "right": null,
       "top": null,
       "visibility": null,
       "width": null
      }
     },
     "a79730d4143a4e0ebebd72bb4e39496c": {
      "model_module": "@jupyter-widgets/controls",
      "model_module_version": "1.5.0",
      "model_name": "DescriptionStyleModel",
      "state": {
       "_model_module": "@jupyter-widgets/controls",
       "_model_module_version": "1.5.0",
       "_model_name": "DescriptionStyleModel",
       "_view_count": null,
       "_view_module": "@jupyter-widgets/base",
       "_view_module_version": "1.2.0",
       "_view_name": "StyleView",
       "description_width": ""
      }
     },
     "a8bdb823aac54e8f9789fa6b4df29857": {
      "model_module": "@jupyter-widgets/controls",
      "model_module_version": "1.5.0",
      "model_name": "DescriptionStyleModel",
      "state": {
       "_model_module": "@jupyter-widgets/controls",
       "_model_module_version": "1.5.0",
       "_model_name": "DescriptionStyleModel",
       "_view_count": null,
       "_view_module": "@jupyter-widgets/base",
       "_view_module_version": "1.2.0",
       "_view_name": "StyleView",
       "description_width": ""
      }
     },
     "ac5c96f8893e462788e4eda93db36098": {
      "model_module": "@jupyter-widgets/controls",
      "model_module_version": "1.5.0",
      "model_name": "DescriptionStyleModel",
      "state": {
       "_model_module": "@jupyter-widgets/controls",
       "_model_module_version": "1.5.0",
       "_model_name": "DescriptionStyleModel",
       "_view_count": null,
       "_view_module": "@jupyter-widgets/base",
       "_view_module_version": "1.2.0",
       "_view_name": "StyleView",
       "description_width": ""
      }
     },
     "ae6aceb126f9451ea8eec6b2ab49ee24": {
      "model_module": "@jupyter-widgets/controls",
      "model_module_version": "1.5.0",
      "model_name": "HTMLModel",
      "state": {
       "_dom_classes": [],
       "_model_module": "@jupyter-widgets/controls",
       "_model_module_version": "1.5.0",
       "_model_name": "HTMLModel",
       "_view_count": null,
       "_view_module": "@jupyter-widgets/controls",
       "_view_module_version": "1.5.0",
       "_view_name": "HTMLView",
       "description": "",
       "description_tooltip": null,
       "layout": "IPY_MODEL_696542562361463c84c86de71ac16238",
       "placeholder": "​",
       "style": "IPY_MODEL_1211b3a806bd4b6ab470940bdb23dd8c",
       "value": "vocab.txt: 100%"
      }
     },
     "aef9d4a4e99646dfbab4d32f08ec2c61": {
      "model_module": "@jupyter-widgets/controls",
      "model_module_version": "1.5.0",
      "model_name": "ProgressStyleModel",
      "state": {
       "_model_module": "@jupyter-widgets/controls",
       "_model_module_version": "1.5.0",
       "_model_name": "ProgressStyleModel",
       "_view_count": null,
       "_view_module": "@jupyter-widgets/base",
       "_view_module_version": "1.2.0",
       "_view_name": "StyleView",
       "bar_color": null,
       "description_width": ""
      }
     },
     "b2baa5c7920c413ab92ecff89d63c9cc": {
      "model_module": "@jupyter-widgets/controls",
      "model_module_version": "1.5.0",
      "model_name": "ProgressStyleModel",
      "state": {
       "_model_module": "@jupyter-widgets/controls",
       "_model_module_version": "1.5.0",
       "_model_name": "ProgressStyleModel",
       "_view_count": null,
       "_view_module": "@jupyter-widgets/base",
       "_view_module_version": "1.2.0",
       "_view_name": "StyleView",
       "bar_color": null,
       "description_width": ""
      }
     },
     "b3c8df9875c64500aef113d245d54297": {
      "model_module": "@jupyter-widgets/controls",
      "model_module_version": "1.5.0",
      "model_name": "ProgressStyleModel",
      "state": {
       "_model_module": "@jupyter-widgets/controls",
       "_model_module_version": "1.5.0",
       "_model_name": "ProgressStyleModel",
       "_view_count": null,
       "_view_module": "@jupyter-widgets/base",
       "_view_module_version": "1.2.0",
       "_view_name": "StyleView",
       "bar_color": null,
       "description_width": ""
      }
     },
     "b5942a40c7fb448dbde44f9fe1f7c805": {
      "model_module": "@jupyter-widgets/controls",
      "model_module_version": "1.5.0",
      "model_name": "HBoxModel",
      "state": {
       "_dom_classes": [],
       "_model_module": "@jupyter-widgets/controls",
       "_model_module_version": "1.5.0",
       "_model_name": "HBoxModel",
       "_view_count": null,
       "_view_module": "@jupyter-widgets/controls",
       "_view_module_version": "1.5.0",
       "_view_name": "HBoxView",
       "box_style": "",
       "children": [
        "IPY_MODEL_4a157393d68b4524a073432617946e9d",
        "IPY_MODEL_a1ecd1c708884f0c9a7c931f08553a22",
        "IPY_MODEL_9c42b5f465ed49eeaa650af6223c05b9"
       ],
       "layout": "IPY_MODEL_e28df9b60ae14e859ff4c1cd8cca3178"
      }
     },
     "b65cac2504034611a07aaf6bbfb14b2f": {
      "model_module": "@jupyter-widgets/controls",
      "model_module_version": "1.5.0",
      "model_name": "FloatProgressModel",
      "state": {
       "_dom_classes": [],
       "_model_module": "@jupyter-widgets/controls",
       "_model_module_version": "1.5.0",
       "_model_name": "FloatProgressModel",
       "_view_count": null,
       "_view_module": "@jupyter-widgets/controls",
       "_view_module_version": "1.5.0",
       "_view_name": "ProgressView",
       "bar_style": "success",
       "description": "",
       "description_tooltip": null,
       "layout": "IPY_MODEL_94bd8a0666c24e87b7702caaee79b9bb",
       "max": 995526.0,
       "min": 0.0,
       "orientation": "horizontal",
       "style": "IPY_MODEL_4c5da6b77e9f4d4dadb0e68ec386fdc4",
       "value": 995526.0
      }
     },
     "b7d73eabb0424b61bc4890b039e0966f": {
      "model_module": "@jupyter-widgets/controls",
      "model_module_version": "1.5.0",
      "model_name": "HBoxModel",
      "state": {
       "_dom_classes": [],
       "_model_module": "@jupyter-widgets/controls",
       "_model_module_version": "1.5.0",
       "_model_name": "HBoxModel",
       "_view_count": null,
       "_view_module": "@jupyter-widgets/controls",
       "_view_module_version": "1.5.0",
       "_view_name": "HBoxView",
       "box_style": "",
       "children": [
        "IPY_MODEL_debb81a335264283ac8de35ba7341789",
        "IPY_MODEL_d5ac00e9cfc6465b909e8457fb972f0e",
        "IPY_MODEL_7dfc22411f2040c589345a9cf6c56b04"
       ],
       "layout": "IPY_MODEL_38e9616dea7a49cb944d27393c254c0b"
      }
     },
     "b824b4a9ca724600b3e3b395b0d4ea32": {
      "model_module": "@jupyter-widgets/controls",
      "model_module_version": "1.5.0",
      "model_name": "HTMLModel",
      "state": {
       "_dom_classes": [],
       "_model_module": "@jupyter-widgets/controls",
       "_model_module_version": "1.5.0",
       "_model_name": "HTMLModel",
       "_view_count": null,
       "_view_module": "@jupyter-widgets/controls",
       "_view_module_version": "1.5.0",
       "_view_name": "HTMLView",
       "description": "",
       "description_tooltip": null,
       "layout": "IPY_MODEL_bd76577d8d5c4384a193147bfd836894",
       "placeholder": "​",
       "style": "IPY_MODEL_f721edab7b6d47f59cbe5e1407ca3242",
       "value": " 7.36k/7.36k [00:00&lt;00:00, 556kB/s]"
      }
     },
     "bcdc8368b9624dbd893eb802684e4a5a": {
      "model_module": "@jupyter-widgets/base",
      "model_module_version": "1.2.0",
      "model_name": "LayoutModel",
      "state": {
       "_model_module": "@jupyter-widgets/base",
       "_model_module_version": "1.2.0",
       "_model_name": "LayoutModel",
       "_view_count": null,
       "_view_module": "@jupyter-widgets/base",
       "_view_module_version": "1.2.0",
       "_view_name": "LayoutView",
       "align_content": null,
       "align_items": null,
       "align_self": null,
       "border": null,
       "bottom": null,
       "display": null,
       "flex": null,
       "flex_flow": null,
       "grid_area": null,
       "grid_auto_columns": null,
       "grid_auto_flow": null,
       "grid_auto_rows": null,
       "grid_column": null,
       "grid_gap": null,
       "grid_row": null,
       "grid_template_areas": null,
       "grid_template_columns": null,
       "grid_template_rows": null,
       "height": null,
       "justify_content": null,
       "justify_items": null,
       "left": null,
       "margin": null,
       "max_height": null,
       "max_width": null,
       "min_height": null,
       "min_width": null,
       "object_fit": null,
       "object_position": null,
       "order": null,
       "overflow": null,
       "overflow_x": null,
       "overflow_y": null,
       "padding": null,
       "right": null,
       "top": null,
       "visibility": null,
       "width": null
      }
     },
     "bceaa7540dae486194efade1c08eabce": {
      "model_module": "@jupyter-widgets/controls",
      "model_module_version": "1.5.0",
      "model_name": "DescriptionStyleModel",
      "state": {
       "_model_module": "@jupyter-widgets/controls",
       "_model_module_version": "1.5.0",
       "_model_name": "DescriptionStyleModel",
       "_view_count": null,
       "_view_module": "@jupyter-widgets/base",
       "_view_module_version": "1.2.0",
       "_view_name": "StyleView",
       "description_width": ""
      }
     },
     "bd76577d8d5c4384a193147bfd836894": {
      "model_module": "@jupyter-widgets/base",
      "model_module_version": "1.2.0",
      "model_name": "LayoutModel",
      "state": {
       "_model_module": "@jupyter-widgets/base",
       "_model_module_version": "1.2.0",
       "_model_name": "LayoutModel",
       "_view_count": null,
       "_view_module": "@jupyter-widgets/base",
       "_view_module_version": "1.2.0",
       "_view_name": "LayoutView",
       "align_content": null,
       "align_items": null,
       "align_self": null,
       "border": null,
       "bottom": null,
       "display": null,
       "flex": null,
       "flex_flow": null,
       "grid_area": null,
       "grid_auto_columns": null,
       "grid_auto_flow": null,
       "grid_auto_rows": null,
       "grid_column": null,
       "grid_gap": null,
       "grid_row": null,
       "grid_template_areas": null,
       "grid_template_columns": null,
       "grid_template_rows": null,
       "height": null,
       "justify_content": null,
       "justify_items": null,
       "left": null,
       "margin": null,
       "max_height": null,
       "max_width": null,
       "min_height": null,
       "min_width": null,
       "object_fit": null,
       "object_position": null,
       "order": null,
       "overflow": null,
       "overflow_x": null,
       "overflow_y": null,
       "padding": null,
       "right": null,
       "top": null,
       "visibility": null,
       "width": null
      }
     },
     "c041b8f2c4684309811bd11e4c95cd67": {
      "model_module": "@jupyter-widgets/base",
      "model_module_version": "1.2.0",
      "model_name": "LayoutModel",
      "state": {
       "_model_module": "@jupyter-widgets/base",
       "_model_module_version": "1.2.0",
       "_model_name": "LayoutModel",
       "_view_count": null,
       "_view_module": "@jupyter-widgets/base",
       "_view_module_version": "1.2.0",
       "_view_name": "LayoutView",
       "align_content": null,
       "align_items": null,
       "align_self": null,
       "border": null,
       "bottom": null,
       "display": null,
       "flex": null,
       "flex_flow": null,
       "grid_area": null,
       "grid_auto_columns": null,
       "grid_auto_flow": null,
       "grid_auto_rows": null,
       "grid_column": null,
       "grid_gap": null,
       "grid_row": null,
       "grid_template_areas": null,
       "grid_template_columns": null,
       "grid_template_rows": null,
       "height": null,
       "justify_content": null,
       "justify_items": null,
       "left": null,
       "margin": null,
       "max_height": null,
       "max_width": null,
       "min_height": null,
       "min_width": null,
       "object_fit": null,
       "object_position": null,
       "order": null,
       "overflow": null,
       "overflow_x": null,
       "overflow_y": null,
       "padding": null,
       "right": null,
       "top": null,
       "visibility": null,
       "width": null
      }
     },
     "c5392030e0624a98ab55848ee5011763": {
      "model_module": "@jupyter-widgets/controls",
      "model_module_version": "1.5.0",
      "model_name": "HTMLModel",
      "state": {
       "_dom_classes": [],
       "_model_module": "@jupyter-widgets/controls",
       "_model_module_version": "1.5.0",
       "_model_name": "HTMLModel",
       "_view_count": null,
       "_view_module": "@jupyter-widgets/controls",
       "_view_module_version": "1.5.0",
       "_view_name": "HTMLView",
       "description": "",
       "description_tooltip": null,
       "layout": "IPY_MODEL_ff50729f3baf4611a313fd42fd5e2b66",
       "placeholder": "​",
       "style": "IPY_MODEL_ff76b41d903c4908a41caf1b33345471",
       "value": " 345/345 [00:00&lt;00:00, 20.9kB/s]"
      }
     },
     "c6bc34911bc041f9a39045c821d2ad6c": {
      "model_module": "@jupyter-widgets/controls",
      "model_module_version": "1.5.0",
      "model_name": "DescriptionStyleModel",
      "state": {
       "_model_module": "@jupyter-widgets/controls",
       "_model_module_version": "1.5.0",
       "_model_name": "DescriptionStyleModel",
       "_view_count": null,
       "_view_module": "@jupyter-widgets/base",
       "_view_module_version": "1.2.0",
       "_view_name": "StyleView",
       "description_width": ""
      }
     },
     "cb13137ea54344c2b60ac4bf3c663f4d": {
      "model_module": "@jupyter-widgets/controls",
      "model_module_version": "1.5.0",
      "model_name": "DescriptionStyleModel",
      "state": {
       "_model_module": "@jupyter-widgets/controls",
       "_model_module_version": "1.5.0",
       "_model_name": "DescriptionStyleModel",
       "_view_count": null,
       "_view_module": "@jupyter-widgets/base",
       "_view_module_version": "1.2.0",
       "_view_name": "StyleView",
       "description_width": ""
      }
     },
     "cbdea5962b024a87877b2f450dcaf2ae": {
      "model_module": "@jupyter-widgets/controls",
      "model_module_version": "1.5.0",
      "model_name": "HTMLModel",
      "state": {
       "_dom_classes": [],
       "_model_module": "@jupyter-widgets/controls",
       "_model_module_version": "1.5.0",
       "_model_name": "HTMLModel",
       "_view_count": null,
       "_view_module": "@jupyter-widgets/controls",
       "_view_module_version": "1.5.0",
       "_view_name": "HTMLView",
       "description": "",
       "description_tooltip": null,
       "layout": "IPY_MODEL_753f75d7e5d04ad4a3e4b4e512344e6b",
       "placeholder": "​",
       "style": "IPY_MODEL_f31a0390030a441ba6829def0cd67ca0",
       "value": " 4.20k/4.20k [00:00&lt;00:00, 320kB/s]"
      }
     },
     "d4e33f6fe75b4de090b5ac0ec2264214": {
      "model_module": "@jupyter-widgets/base",
      "model_module_version": "1.2.0",
      "model_name": "LayoutModel",
      "state": {
       "_model_module": "@jupyter-widgets/base",
       "_model_module_version": "1.2.0",
       "_model_name": "LayoutModel",
       "_view_count": null,
       "_view_module": "@jupyter-widgets/base",
       "_view_module_version": "1.2.0",
       "_view_name": "LayoutView",
       "align_content": null,
       "align_items": null,
       "align_self": null,
       "border": null,
       "bottom": null,
       "display": null,
       "flex": null,
       "flex_flow": null,
       "grid_area": null,
       "grid_auto_columns": null,
       "grid_auto_flow": null,
       "grid_auto_rows": null,
       "grid_column": null,
       "grid_gap": null,
       "grid_row": null,
       "grid_template_areas": null,
       "grid_template_columns": null,
       "grid_template_rows": null,
       "height": null,
       "justify_content": null,
       "justify_items": null,
       "left": null,
       "margin": null,
       "max_height": null,
       "max_width": null,
       "min_height": null,
       "min_width": null,
       "object_fit": null,
       "object_position": null,
       "order": null,
       "overflow": null,
       "overflow_x": null,
       "overflow_y": null,
       "padding": null,
       "right": null,
       "top": null,
       "visibility": null,
       "width": null
      }
     },
     "d51f73c6940646ea934289cdb92e4219": {
      "model_module": "@jupyter-widgets/controls",
      "model_module_version": "1.5.0",
      "model_name": "DescriptionStyleModel",
      "state": {
       "_model_module": "@jupyter-widgets/controls",
       "_model_module_version": "1.5.0",
       "_model_name": "DescriptionStyleModel",
       "_view_count": null,
       "_view_module": "@jupyter-widgets/base",
       "_view_module_version": "1.2.0",
       "_view_name": "StyleView",
       "description_width": ""
      }
     },
     "d5ac00e9cfc6465b909e8457fb972f0e": {
      "model_module": "@jupyter-widgets/controls",
      "model_module_version": "1.5.0",
      "model_name": "FloatProgressModel",
      "state": {
       "_dom_classes": [],
       "_model_module": "@jupyter-widgets/controls",
       "_model_module_version": "1.5.0",
       "_model_name": "FloatProgressModel",
       "_view_count": null,
       "_view_module": "@jupyter-widgets/controls",
       "_view_module_version": "1.5.0",
       "_view_name": "ProgressView",
       "bar_style": "success",
       "description": "",
       "description_tooltip": null,
       "layout": "IPY_MODEL_ea73940037f342429614209eb87abe3c",
       "max": 7546.0,
       "min": 0.0,
       "orientation": "horizontal",
       "style": "IPY_MODEL_b2baa5c7920c413ab92ecff89d63c9cc",
       "value": 7546.0
      }
     },
     "d8dcb50ca0b547c197f7e18c9f0750fe": {
      "model_module": "@jupyter-widgets/controls",
      "model_module_version": "1.5.0",
      "model_name": "DescriptionStyleModel",
      "state": {
       "_model_module": "@jupyter-widgets/controls",
       "_model_module_version": "1.5.0",
       "_model_name": "DescriptionStyleModel",
       "_view_count": null,
       "_view_module": "@jupyter-widgets/base",
       "_view_module_version": "1.2.0",
       "_view_name": "StyleView",
       "description_width": ""
      }
     },
     "d9972528d7574f689bc77277701f5ec6": {
      "model_module": "@jupyter-widgets/base",
      "model_module_version": "1.2.0",
      "model_name": "LayoutModel",
      "state": {
       "_model_module": "@jupyter-widgets/base",
       "_model_module_version": "1.2.0",
       "_model_name": "LayoutModel",
       "_view_count": null,
       "_view_module": "@jupyter-widgets/base",
       "_view_module_version": "1.2.0",
       "_view_name": "LayoutView",
       "align_content": null,
       "align_items": null,
       "align_self": null,
       "border": null,
       "bottom": null,
       "display": null,
       "flex": null,
       "flex_flow": null,
       "grid_area": null,
       "grid_auto_columns": null,
       "grid_auto_flow": null,
       "grid_auto_rows": null,
       "grid_column": null,
       "grid_gap": null,
       "grid_row": null,
       "grid_template_areas": null,
       "grid_template_columns": null,
       "grid_template_rows": null,
       "height": null,
       "justify_content": null,
       "justify_items": null,
       "left": null,
       "margin": null,
       "max_height": null,
       "max_width": null,
       "min_height": null,
       "min_width": null,
       "object_fit": null,
       "object_position": null,
       "order": null,
       "overflow": null,
       "overflow_x": null,
       "overflow_y": null,
       "padding": null,
       "right": null,
       "top": null,
       "visibility": null,
       "width": null
      }
     },
     "dbc603f9cb8b416289087bb6b226f0ed": {
      "model_module": "@jupyter-widgets/controls",
      "model_module_version": "1.5.0",
      "model_name": "ProgressStyleModel",
      "state": {
       "_model_module": "@jupyter-widgets/controls",
       "_model_module_version": "1.5.0",
       "_model_name": "ProgressStyleModel",
       "_view_count": null,
       "_view_module": "@jupyter-widgets/base",
       "_view_module_version": "1.2.0",
       "_view_name": "StyleView",
       "bar_color": null,
       "description_width": ""
      }
     },
     "de358367b61b403ba78396e1c1fb4d68": {
      "model_module": "@jupyter-widgets/controls",
      "model_module_version": "1.5.0",
      "model_name": "HTMLModel",
      "state": {
       "_dom_classes": [],
       "_model_module": "@jupyter-widgets/controls",
       "_model_module_version": "1.5.0",
       "_model_name": "HTMLModel",
       "_view_count": null,
       "_view_module": "@jupyter-widgets/controls",
       "_view_module_version": "1.5.0",
       "_view_name": "HTMLView",
       "description": "",
       "description_tooltip": null,
       "layout": "IPY_MODEL_7f0955982469403f9fc00c038ce3fdd3",
       "placeholder": "​",
       "style": "IPY_MODEL_a8bdb823aac54e8f9789fa6b4df29857",
       "value": "tokenizer.json: 100%"
      }
     },
     "debb81a335264283ac8de35ba7341789": {
      "model_module": "@jupyter-widgets/controls",
      "model_module_version": "1.5.0",
      "model_name": "HTMLModel",
      "state": {
       "_dom_classes": [],
       "_model_module": "@jupyter-widgets/controls",
       "_model_module_version": "1.5.0",
       "_model_name": "HTMLModel",
       "_view_count": null,
       "_view_module": "@jupyter-widgets/controls",
       "_view_module_version": "1.5.0",
       "_view_name": "HTMLView",
       "description": "",
       "description_tooltip": null,
       "layout": "IPY_MODEL_41877e3c1e114d1b981c230398517075",
       "placeholder": "​",
       "style": "IPY_MODEL_d8dcb50ca0b547c197f7e18c9f0750fe",
       "value": "Downloading builder script: 100%"
      }
     },
     "e28df9b60ae14e859ff4c1cd8cca3178": {
      "model_module": "@jupyter-widgets/base",
      "model_module_version": "1.2.0",
      "model_name": "LayoutModel",
      "state": {
       "_model_module": "@jupyter-widgets/base",
       "_model_module_version": "1.2.0",
       "_model_name": "LayoutModel",
       "_view_count": null,
       "_view_module": "@jupyter-widgets/base",
       "_view_module_version": "1.2.0",
       "_view_name": "LayoutView",
       "align_content": null,
       "align_items": null,
       "align_self": null,
       "border": null,
       "bottom": null,
       "display": null,
       "flex": null,
       "flex_flow": null,
       "grid_area": null,
       "grid_auto_columns": null,
       "grid_auto_flow": null,
       "grid_auto_rows": null,
       "grid_column": null,
       "grid_gap": null,
       "grid_row": null,
       "grid_template_areas": null,
       "grid_template_columns": null,
       "grid_template_rows": null,
       "height": null,
       "justify_content": null,
       "justify_items": null,
       "left": null,
       "margin": null,
       "max_height": null,
       "max_width": null,
       "min_height": null,
       "min_width": null,
       "object_fit": null,
       "object_position": null,
       "order": null,
       "overflow": null,
       "overflow_x": null,
       "overflow_y": null,
       "padding": null,
       "right": null,
       "top": null,
       "visibility": null,
       "width": null
      }
     },
     "e2b514a6b41044729a400e08e3d98e49": {
      "model_module": "@jupyter-widgets/controls",
      "model_module_version": "1.5.0",
      "model_name": "ProgressStyleModel",
      "state": {
       "_model_module": "@jupyter-widgets/controls",
       "_model_module_version": "1.5.0",
       "_model_name": "ProgressStyleModel",
       "_view_count": null,
       "_view_module": "@jupyter-widgets/base",
       "_view_module_version": "1.2.0",
       "_view_name": "StyleView",
       "bar_color": null,
       "description_width": ""
      }
     },
     "e2b9413a72f14515b60f22eab451fa33": {
      "model_module": "@jupyter-widgets/base",
      "model_module_version": "1.2.0",
      "model_name": "LayoutModel",
      "state": {
       "_model_module": "@jupyter-widgets/base",
       "_model_module_version": "1.2.0",
       "_model_name": "LayoutModel",
       "_view_count": null,
       "_view_module": "@jupyter-widgets/base",
       "_view_module_version": "1.2.0",
       "_view_name": "LayoutView",
       "align_content": null,
       "align_items": null,
       "align_self": null,
       "border": null,
       "bottom": null,
       "display": null,
       "flex": null,
       "flex_flow": null,
       "grid_area": null,
       "grid_auto_columns": null,
       "grid_auto_flow": null,
       "grid_auto_rows": null,
       "grid_column": null,
       "grid_gap": null,
       "grid_row": null,
       "grid_template_areas": null,
       "grid_template_columns": null,
       "grid_template_rows": null,
       "height": null,
       "justify_content": null,
       "justify_items": null,
       "left": null,
       "margin": null,
       "max_height": null,
       "max_width": null,
       "min_height": null,
       "min_width": null,
       "object_fit": null,
       "object_position": null,
       "order": null,
       "overflow": null,
       "overflow_x": null,
       "overflow_y": null,
       "padding": null,
       "right": null,
       "top": null,
       "visibility": null,
       "width": null
      }
     },
     "ea73940037f342429614209eb87abe3c": {
      "model_module": "@jupyter-widgets/base",
      "model_module_version": "1.2.0",
      "model_name": "LayoutModel",
      "state": {
       "_model_module": "@jupyter-widgets/base",
       "_model_module_version": "1.2.0",
       "_model_name": "LayoutModel",
       "_view_count": null,
       "_view_module": "@jupyter-widgets/base",
       "_view_module_version": "1.2.0",
       "_view_name": "LayoutView",
       "align_content": null,
       "align_items": null,
       "align_self": null,
       "border": null,
       "bottom": null,
       "display": null,
       "flex": null,
       "flex_flow": null,
       "grid_area": null,
       "grid_auto_columns": null,
       "grid_auto_flow": null,
       "grid_auto_rows": null,
       "grid_column": null,
       "grid_gap": null,
       "grid_row": null,
       "grid_template_areas": null,
       "grid_template_columns": null,
       "grid_template_rows": null,
       "height": null,
       "justify_content": null,
       "justify_items": null,
       "left": null,
       "margin": null,
       "max_height": null,
       "max_width": null,
       "min_height": null,
       "min_width": null,
       "object_fit": null,
       "object_position": null,
       "order": null,
       "overflow": null,
       "overflow_x": null,
       "overflow_y": null,
       "padding": null,
       "right": null,
       "top": null,
       "visibility": null,
       "width": null
      }
     },
     "edcca130284e425cab25b96bba1bec3b": {
      "model_module": "@jupyter-widgets/controls",
      "model_module_version": "1.5.0",
      "model_name": "HTMLModel",
      "state": {
       "_dom_classes": [],
       "_model_module": "@jupyter-widgets/controls",
       "_model_module_version": "1.5.0",
       "_model_name": "HTMLModel",
       "_view_count": null,
       "_view_module": "@jupyter-widgets/controls",
       "_view_module_version": "1.5.0",
       "_view_name": "HTMLView",
       "description": "",
       "description_tooltip": null,
       "layout": "IPY_MODEL_10506b09e0414b01a77c6109623b2167",
       "placeholder": "​",
       "style": "IPY_MODEL_95dd303aff5f48abbf9e562494791b11",
       "value": "Downloading builder script: 100%"
      }
     },
     "ef8d70d73c364e75a0648423fa56d9d3": {
      "model_module": "@jupyter-widgets/base",
      "model_module_version": "1.2.0",
      "model_name": "LayoutModel",
      "state": {
       "_model_module": "@jupyter-widgets/base",
       "_model_module_version": "1.2.0",
       "_model_name": "LayoutModel",
       "_view_count": null,
       "_view_module": "@jupyter-widgets/base",
       "_view_module_version": "1.2.0",
       "_view_name": "LayoutView",
       "align_content": null,
       "align_items": null,
       "align_self": null,
       "border": null,
       "bottom": null,
       "display": null,
       "flex": null,
       "flex_flow": null,
       "grid_area": null,
       "grid_auto_columns": null,
       "grid_auto_flow": null,
       "grid_auto_rows": null,
       "grid_column": null,
       "grid_gap": null,
       "grid_row": null,
       "grid_template_areas": null,
       "grid_template_columns": null,
       "grid_template_rows": null,
       "height": null,
       "justify_content": null,
       "justify_items": null,
       "left": null,
       "margin": null,
       "max_height": null,
       "max_width": null,
       "min_height": null,
       "min_width": null,
       "object_fit": null,
       "object_position": null,
       "order": null,
       "overflow": null,
       "overflow_x": null,
       "overflow_y": null,
       "padding": null,
       "right": null,
       "top": null,
       "visibility": null,
       "width": null
      }
     },
     "f0d1bdf4f1ee452e874443a1402538b2": {
      "model_module": "@jupyter-widgets/controls",
      "model_module_version": "1.5.0",
      "model_name": "HBoxModel",
      "state": {
       "_dom_classes": [],
       "_model_module": "@jupyter-widgets/controls",
       "_model_module_version": "1.5.0",
       "_model_name": "HBoxModel",
       "_view_count": null,
       "_view_module": "@jupyter-widgets/controls",
       "_view_module_version": "1.5.0",
       "_view_name": "HBoxView",
       "box_style": "",
       "children": [
        "IPY_MODEL_de358367b61b403ba78396e1c1fb4d68",
        "IPY_MODEL_4e644bbd2a084141b0bb5550bde3314f",
        "IPY_MODEL_8a23e2c2308946c39b6b5cba3029bac1"
       ],
       "layout": "IPY_MODEL_0ec186f2f4b941fdada4094701ce2e27"
      }
     },
     "f31a0390030a441ba6829def0cd67ca0": {
      "model_module": "@jupyter-widgets/controls",
      "model_module_version": "1.5.0",
      "model_name": "DescriptionStyleModel",
      "state": {
       "_model_module": "@jupyter-widgets/controls",
       "_model_module_version": "1.5.0",
       "_model_name": "DescriptionStyleModel",
       "_view_count": null,
       "_view_module": "@jupyter-widgets/base",
       "_view_module_version": "1.2.0",
       "_view_name": "StyleView",
       "description_width": ""
      }
     },
     "f6f68065b23f4bb6b029356eaa2a7251": {
      "model_module": "@jupyter-widgets/base",
      "model_module_version": "1.2.0",
      "model_name": "LayoutModel",
      "state": {
       "_model_module": "@jupyter-widgets/base",
       "_model_module_version": "1.2.0",
       "_model_name": "LayoutModel",
       "_view_count": null,
       "_view_module": "@jupyter-widgets/base",
       "_view_module_version": "1.2.0",
       "_view_name": "LayoutView",
       "align_content": null,
       "align_items": null,
       "align_self": null,
       "border": null,
       "bottom": null,
       "display": null,
       "flex": null,
       "flex_flow": null,
       "grid_area": null,
       "grid_auto_columns": null,
       "grid_auto_flow": null,
       "grid_auto_rows": null,
       "grid_column": null,
       "grid_gap": null,
       "grid_row": null,
       "grid_template_areas": null,
       "grid_template_columns": null,
       "grid_template_rows": null,
       "height": null,
       "justify_content": null,
       "justify_items": null,
       "left": null,
       "margin": null,
       "max_height": null,
       "max_width": null,
       "min_height": null,
       "min_width": null,
       "object_fit": null,
       "object_position": null,
       "order": null,
       "overflow": null,
       "overflow_x": null,
       "overflow_y": null,
       "padding": null,
       "right": null,
       "top": null,
       "visibility": null,
       "width": null
      }
     },
     "f721edab7b6d47f59cbe5e1407ca3242": {
      "model_module": "@jupyter-widgets/controls",
      "model_module_version": "1.5.0",
      "model_name": "DescriptionStyleModel",
      "state": {
       "_model_module": "@jupyter-widgets/controls",
       "_model_module_version": "1.5.0",
       "_model_name": "DescriptionStyleModel",
       "_view_count": null,
       "_view_module": "@jupyter-widgets/base",
       "_view_module_version": "1.2.0",
       "_view_name": "StyleView",
       "description_width": ""
      }
     },
     "f72727e93d074375a69bfdb630c8d994": {
      "model_module": "@jupyter-widgets/controls",
      "model_module_version": "1.5.0",
      "model_name": "ProgressStyleModel",
      "state": {
       "_model_module": "@jupyter-widgets/controls",
       "_model_module_version": "1.5.0",
       "_model_name": "ProgressStyleModel",
       "_view_count": null,
       "_view_module": "@jupyter-widgets/base",
       "_view_module_version": "1.2.0",
       "_view_name": "StyleView",
       "bar_color": null,
       "description_width": ""
      }
     },
     "f8ba91f904e0431cb2071e69e2b44fb4": {
      "model_module": "@jupyter-widgets/base",
      "model_module_version": "1.2.0",
      "model_name": "LayoutModel",
      "state": {
       "_model_module": "@jupyter-widgets/base",
       "_model_module_version": "1.2.0",
       "_model_name": "LayoutModel",
       "_view_count": null,
       "_view_module": "@jupyter-widgets/base",
       "_view_module_version": "1.2.0",
       "_view_name": "LayoutView",
       "align_content": null,
       "align_items": null,
       "align_self": null,
       "border": null,
       "bottom": null,
       "display": null,
       "flex": null,
       "flex_flow": null,
       "grid_area": null,
       "grid_auto_columns": null,
       "grid_auto_flow": null,
       "grid_auto_rows": null,
       "grid_column": null,
       "grid_gap": null,
       "grid_row": null,
       "grid_template_areas": null,
       "grid_template_columns": null,
       "grid_template_rows": null,
       "height": null,
       "justify_content": null,
       "justify_items": null,
       "left": null,
       "margin": null,
       "max_height": null,
       "max_width": null,
       "min_height": null,
       "min_width": null,
       "object_fit": null,
       "object_position": null,
       "order": null,
       "overflow": null,
       "overflow_x": null,
       "overflow_y": null,
       "padding": null,
       "right": null,
       "top": null,
       "visibility": null,
       "width": null
      }
     },
     "fa2904f4cdc440d5a3dcfcea94c3aefd": {
      "model_module": "@jupyter-widgets/base",
      "model_module_version": "1.2.0",
      "model_name": "LayoutModel",
      "state": {
       "_model_module": "@jupyter-widgets/base",
       "_model_module_version": "1.2.0",
       "_model_name": "LayoutModel",
       "_view_count": null,
       "_view_module": "@jupyter-widgets/base",
       "_view_module_version": "1.2.0",
       "_view_name": "LayoutView",
       "align_content": null,
       "align_items": null,
       "align_self": null,
       "border": null,
       "bottom": null,
       "display": null,
       "flex": null,
       "flex_flow": null,
       "grid_area": null,
       "grid_auto_columns": null,
       "grid_auto_flow": null,
       "grid_auto_rows": null,
       "grid_column": null,
       "grid_gap": null,
       "grid_row": null,
       "grid_template_areas": null,
       "grid_template_columns": null,
       "grid_template_rows": null,
       "height": null,
       "justify_content": null,
       "justify_items": null,
       "left": null,
       "margin": null,
       "max_height": null,
       "max_width": null,
       "min_height": null,
       "min_width": null,
       "object_fit": null,
       "object_position": null,
       "order": null,
       "overflow": null,
       "overflow_x": null,
       "overflow_y": null,
       "padding": null,
       "right": null,
       "top": null,
       "visibility": null,
       "width": null
      }
     },
     "fab0d2bb6fc045cd82bf9dbc13b473b2": {
      "model_module": "@jupyter-widgets/controls",
      "model_module_version": "1.5.0",
      "model_name": "HTMLModel",
      "state": {
       "_dom_classes": [],
       "_model_module": "@jupyter-widgets/controls",
       "_model_module_version": "1.5.0",
       "_model_name": "HTMLModel",
       "_view_count": null,
       "_view_module": "@jupyter-widgets/controls",
       "_view_module_version": "1.5.0",
       "_view_name": "HTMLView",
       "description": "",
       "description_tooltip": null,
       "layout": "IPY_MODEL_9575623d6c7447ddb13b25a96cf00d7a",
       "placeholder": "​",
       "style": "IPY_MODEL_d51f73c6940646ea934289cdb92e4219",
       "value": "config.json: 100%"
      }
     },
     "fde71be633104ec1881155d207213469": {
      "model_module": "@jupyter-widgets/controls",
      "model_module_version": "1.5.0",
      "model_name": "HTMLModel",
      "state": {
       "_dom_classes": [],
       "_model_module": "@jupyter-widgets/controls",
       "_model_module_version": "1.5.0",
       "_model_name": "HTMLModel",
       "_view_count": null,
       "_view_module": "@jupyter-widgets/controls",
       "_view_module_version": "1.5.0",
       "_view_name": "HTMLView",
       "description": "",
       "description_tooltip": null,
       "layout": "IPY_MODEL_bcdc8368b9624dbd893eb802684e4a5a",
       "placeholder": "​",
       "style": "IPY_MODEL_2e4ffb8e67fb4b95a7fae0455e5173a5",
       "value": " 774/774 [00:00&lt;00:00, 56.9kB/s]"
      }
     },
     "fe0070ac17bf4959b8251345f230612e": {
      "model_module": "@jupyter-widgets/base",
      "model_module_version": "1.2.0",
      "model_name": "LayoutModel",
      "state": {
       "_model_module": "@jupyter-widgets/base",
       "_model_module_version": "1.2.0",
       "_model_name": "LayoutModel",
       "_view_count": null,
       "_view_module": "@jupyter-widgets/base",
       "_view_module_version": "1.2.0",
       "_view_name": "LayoutView",
       "align_content": null,
       "align_items": null,
       "align_self": null,
       "border": null,
       "bottom": null,
       "display": null,
       "flex": null,
       "flex_flow": null,
       "grid_area": null,
       "grid_auto_columns": null,
       "grid_auto_flow": null,
       "grid_auto_rows": null,
       "grid_column": null,
       "grid_gap": null,
       "grid_row": null,
       "grid_template_areas": null,
       "grid_template_columns": null,
       "grid_template_rows": null,
       "height": null,
       "justify_content": null,
       "justify_items": null,
       "left": null,
       "margin": null,
       "max_height": null,
       "max_width": null,
       "min_height": null,
       "min_width": null,
       "object_fit": null,
       "object_position": null,
       "order": null,
       "overflow": null,
       "overflow_x": null,
       "overflow_y": null,
       "padding": null,
       "right": null,
       "top": null,
       "visibility": null,
       "width": null
      }
     },
     "ff50729f3baf4611a313fd42fd5e2b66": {
      "model_module": "@jupyter-widgets/base",
      "model_module_version": "1.2.0",
      "model_name": "LayoutModel",
      "state": {
       "_model_module": "@jupyter-widgets/base",
       "_model_module_version": "1.2.0",
       "_model_name": "LayoutModel",
       "_view_count": null,
       "_view_module": "@jupyter-widgets/base",
       "_view_module_version": "1.2.0",
       "_view_name": "LayoutView",
       "align_content": null,
       "align_items": null,
       "align_self": null,
       "border": null,
       "bottom": null,
       "display": null,
       "flex": null,
       "flex_flow": null,
       "grid_area": null,
       "grid_auto_columns": null,
       "grid_auto_flow": null,
       "grid_auto_rows": null,
       "grid_column": null,
       "grid_gap": null,
       "grid_row": null,
       "grid_template_areas": null,
       "grid_template_columns": null,
       "grid_template_rows": null,
       "height": null,
       "justify_content": null,
       "justify_items": null,
       "left": null,
       "margin": null,
       "max_height": null,
       "max_width": null,
       "min_height": null,
       "min_width": null,
       "object_fit": null,
       "object_position": null,
       "order": null,
       "overflow": null,
       "overflow_x": null,
       "overflow_y": null,
       "padding": null,
       "right": null,
       "top": null,
       "visibility": null,
       "width": null
      }
     },
     "ff76b41d903c4908a41caf1b33345471": {
      "model_module": "@jupyter-widgets/controls",
      "model_module_version": "1.5.0",
      "model_name": "DescriptionStyleModel",
      "state": {
       "_model_module": "@jupyter-widgets/controls",
       "_model_module_version": "1.5.0",
       "_model_name": "DescriptionStyleModel",
       "_view_count": null,
       "_view_module": "@jupyter-widgets/base",
       "_view_module_version": "1.2.0",
       "_view_name": "StyleView",
       "description_width": ""
      }
     }
    },
    "version_major": 2,
    "version_minor": 0
   }
  }
 },
 "nbformat": 4,
 "nbformat_minor": 5
}
